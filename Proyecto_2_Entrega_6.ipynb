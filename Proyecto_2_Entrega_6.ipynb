{
  "cells": [
    {
      "cell_type": "markdown",
      "id": "70bf94fc-5d0a-4174-b622-f6386f7ee8e6",
      "metadata": {
        "id": "70bf94fc-5d0a-4174-b622-f6386f7ee8e6"
      },
      "source": [
        "# Proyecto 2. Entrega 5. Modelos de Regresión Logística"
      ]
    },
    {
      "cell_type": "markdown",
      "id": "df1ba1ee-16a8-480d-bbd3-fff44af015fd",
      "metadata": {
        "id": "df1ba1ee-16a8-480d-bbd3-fff44af015fd"
      },
      "source": [
        "Edman Cota 19830\n",
        "\n",
        "Edwin de León 22809"
      ]
    },
    {
      "cell_type": "markdown",
      "id": "d68f899c-0fc7-444c-a26b-517f299e62c0",
      "metadata": {
        "id": "d68f899c-0fc7-444c-a26b-517f299e62c0"
      },
      "source": [
        "[Repositorio](https://github.com/EJGDLG/Proyecto2Nuevo)"
      ]
    },
    {
      "cell_type": "markdown",
      "id": "aa334d0a-373a-4abe-a360-bb1dbe7d32aa",
      "metadata": {
        "id": "aa334d0a-373a-4abe-a360-bb1dbe7d32aa"
      },
      "source": [
        "## 1. variable dicotómica por cada una de las categorías"
      ]
    },
    {
      "cell_type": "code",
      "execution_count": 7,
      "id": "1655d140-1a47-4e1a-9d0b-da5d3808fa9d",
      "metadata": {
        "id": "1655d140-1a47-4e1a-9d0b-da5d3808fa9d"
      },
      "outputs": [],
      "source": [
        "import warnings\n",
        "warnings.filterwarnings(\"ignore\")"
      ]
    },
    {
      "cell_type": "code",
      "execution_count": 8,
      "id": "P-5t4EYoZtf7",
      "metadata": {
        "id": "P-5t4EYoZtf7"
      },
      "outputs": [],
      "source": [
        "import pandas as pd\n",
        "import numpy as np\n",
        "from sklearn.model_selection import train_test_split, GridSearchCV\n",
        "from sklearn.linear_model import LogisticRegression\n",
        "from sklearn.metrics import classification_report, confusion_matrix, accuracy_score\n",
        "import seaborn as sns\n",
        "import matplotlib.pyplot as plt\n",
        "import cProfile\n",
        "import pstats\n",
        "import io\n",
        "import time\n",
        "import sys\n",
        "from sklearn.tree import DecisionTreeClassifier\n",
        "from sklearn.neighbors import KNeighborsClassifier\n",
        "from sklearn.metrics import accuracy_score, confusion_matrix\n",
        "from sklearn.impute import SimpleImputer\n",
        "from sklearn.preprocessing import StandardScaler\n",
        "from sklearn.model_selection import train_test_split\n",
        "from sklearn.svm import SVC\n",
        "from sklearn.preprocessing import StandardScaler\n",
        "from sklearn.impute import SimpleImputer\n",
        "from sklearn.metrics import classification_report, confusion_matrix\n",
        "from sklearn.pipeline import Pipeline\n",
        "from sklearn.model_selection import train_test_split\n",
        "\n"
      ]
    },
    {
      "cell_type": "code",
      "execution_count": 9,
      "id": "23b2e573-4257-4ccb-8892-99e4187b6c38",
      "metadata": {
        "colab": {
          "base_uri": "https://localhost:8080/"
        },
        "id": "23b2e573-4257-4ccb-8892-99e4187b6c38",
        "outputId": "9ea4c0cd-055c-4ea3-b1bd-d6a1f94a7bec"
      },
      "outputs": [
        {
          "output_type": "stream",
          "name": "stdout",
          "text": [
            "   SalePrice precio_vivienda  barata  media  cara\n",
            "0     208500           media       0      1     0\n",
            "1     181500           media       0      1     0\n",
            "2     223500            cara       0      0     1\n",
            "3     140000           media       0      1     0\n",
            "4     250000            cara       0      0     1\n",
            "5     143000           media       0      1     0\n",
            "6     307000            cara       0      0     1\n",
            "7     200000           media       0      1     0\n",
            "8     129900          barata       1      0     0\n",
            "9     118000          barata       1      0     0\n",
            "\n",
            "precio_vivienda\n",
            "media     728\n",
            "cara      367\n",
            "barata    365\n",
            "Name: count, dtype: int64\n"
          ]
        }
      ],
      "source": [
        "import pandas as pd\n",
        "\n",
        "df = pd.read_csv(\"train.csv\")\n",
        "\n",
        "# Calcular los cuartiles\n",
        "q1 = df['SalePrice'].quantile(0.25)\n",
        "q3 = df['SalePrice'].quantile(0.75)\n",
        "\n",
        "# Función para clasificar el precio\n",
        "def categorizar_precio(precio):\n",
        "    if precio < q1:\n",
        "        return 'barata'\n",
        "    elif precio < q3:\n",
        "        return 'media'\n",
        "    else:\n",
        "        return 'cara'\n",
        "\n",
        "# Crear columna categórica\n",
        "df['precio_vivienda'] = df['SalePrice'].apply(categorizar_precio)\n",
        "\n",
        "# Crear variables dicotómicas (0 o 1)\n",
        "df['barata'] = (df['precio_vivienda'] == 'barata').astype(int)\n",
        "df['media'] = (df['precio_vivienda'] == 'media').astype(int)\n",
        "df['cara'] = (df['precio_vivienda'] == 'cara').astype(int)\n",
        "\n",
        "print(df[['SalePrice', 'precio_vivienda', 'barata', 'media', 'cara']].head(10))\n",
        "print(\"\")\n",
        "print(df['precio_vivienda'].value_counts())\n"
      ]
    },
    {
      "cell_type": "markdown",
      "id": "3aJW7tN79Qre",
      "metadata": {
        "id": "3aJW7tN79Qre"
      },
      "source": [
        "## Análisis\n",
        "Se ha cumplido el propósito de transformar una variable numérica continua (SalePrice) en una variable categórica ordinal llamada precio_vivienda, dividiendo las viviendas en tres grupos:\n",
        "\n",
        "- Barata: viviendas con precio por debajo del primer cuartil (Q1).\n",
        "\n",
        "- Media: viviendas entre Q1 y Q3 (los valores intermedios).\n",
        "\n",
        "### Distribución de clases\n",
        "- Cara: viviendas por encima del tercer cuartil (Q3).\n",
        "\n",
        "- La clase \"media\" representa más del 50% de los datos.\n",
        "\n",
        "- Las clases \"barata\" y \"cara\" están bien balanceadas entre sí.\n",
        "\n",
        "\n",
        "\n"
      ]
    },
    {
      "cell_type": "markdown",
      "id": "74bc5c0f-f51d-48ee-9f45-aaac781377ec",
      "metadata": {
        "id": "74bc5c0f-f51d-48ee-9f45-aaac781377ec"
      },
      "source": [
        "## 2. Use los mismos conjuntos de entrenamiento y prueba que utilizó en las hojas anteriores"
      ]
    },
    {
      "cell_type": "code",
      "execution_count": 10,
      "id": "753c13f9-26c9-4c6d-84d9-19efdc5cd358",
      "metadata": {
        "colab": {
          "base_uri": "https://localhost:8080/"
        },
        "id": "753c13f9-26c9-4c6d-84d9-19efdc5cd358",
        "outputId": "b40c4dbf-0ec8-45ec-e1f5-866c6c333dfb"
      },
      "outputs": [
        {
          "output_type": "stream",
          "name": "stdout",
          "text": [
            "X_train: (1168, 36)\n",
            "X_test: (292, 36)\n",
            "y_train distribución:\n",
            "cara\n",
            "0    871\n",
            "1    297\n",
            "Name: count, dtype: int64\n",
            "y_test distribución:\n",
            "cara\n",
            "0    222\n",
            "1     70\n",
            "Name: count, dtype: int64\n"
          ]
        }
      ],
      "source": [
        "from sklearn.model_selection import train_test_split\n",
        "from sklearn.impute import SimpleImputer\n",
        "\n",
        "X = df.select_dtypes(include='number').drop(columns=['Id', 'SalePrice', 'barata', 'media', 'cara'])\n",
        "\n",
        "# Variable objetivo: 1 si es \"cara\", 0 si no\n",
        "y = df['cara']\n",
        "\n",
        "# Dividir (80/20)\n",
        "X_train, X_test, y_train, y_test = train_test_split(\n",
        "    X, y, test_size=0.2, random_state=42\n",
        ")\n",
        "\n",
        "imputer = SimpleImputer(strategy='mean')\n",
        "\n",
        "X_train = imputer.fit_transform(X_train)\n",
        "X_test = imputer.transform(X_test)\n",
        "\n",
        "print(f\"X_train: {X_train.shape}\")\n",
        "print(f\"X_test: {X_test.shape}\")\n",
        "print(f\"y_train distribución:\\n{y_train.value_counts()}\")\n",
        "print(f\"y_test distribución:\\n{y_test.value_counts()}\")"
      ]
    },
    {
      "cell_type": "markdown",
      "id": "mmbT61to93FP",
      "metadata": {
        "id": "mmbT61to93FP"
      },
      "source": [
        "## Análisis\n",
        "\n",
        "Tienes 36 variables numéricas predictoras, se usaron 1,168 muestras para entrenamiento y 292 para prueba, lo cual respeta la proporción 80/20.\n",
        "\n",
        "### Distribución de clases (balanceo)\n",
        "Hay un cierto desbalance, con muchas más viviendas que no son caras (73%) frente a las que sí lo son (27%).\n",
        "\n",
        "Este desbalance puede afectar a modelos sensibles a la proporción de clases (como regresión logística o KNN), que tienden a favorecer la clase mayoritaria."
      ]
    },
    {
      "cell_type": "markdown",
      "id": "67649f7b-e8d6-4d64-801b-930d299e7e7d",
      "metadata": {
        "id": "67649f7b-e8d6-4d64-801b-930d299e7e7d"
      },
      "source": [
        "## 3. Modelo de regresión logística"
      ]
    },
    {
      "cell_type": "code",
      "execution_count": 11,
      "id": "b260ea7f-173f-4ad4-8b9b-6ecc75ac9583",
      "metadata": {
        "colab": {
          "base_uri": "https://localhost:8080/"
        },
        "id": "b260ea7f-173f-4ad4-8b9b-6ecc75ac9583",
        "outputId": "cb87f15d-0fb0-43d6-a387-4a824bc1fb7f"
      },
      "outputs": [
        {
          "output_type": "stream",
          "name": "stdout",
          "text": [
            "Accuracy por fold: [0.92307692 0.91025641 0.94444444 0.93133047 0.95708155]\n",
            "Promedio de accuracy: 0.933237958989032\n"
          ]
        }
      ],
      "source": [
        "from sklearn.linear_model import LogisticRegression\n",
        "from sklearn.model_selection import cross_val_score\n",
        "from sklearn.impute import SimpleImputer\n",
        "\n",
        "model = LogisticRegression(max_iter=5000)\n",
        "\n",
        "scores = cross_val_score(model, X_train, y_train, cv=5, scoring='accuracy')\n",
        "\n",
        "print(\"Accuracy por fold:\", scores)\n",
        "print(\"Promedio de accuracy:\", scores.mean())"
      ]
    },
    {
      "cell_type": "markdown",
      "id": "MHV8NNI3-fPR",
      "metadata": {
        "id": "MHV8NNI3-fPR"
      },
      "source": [
        "## Análisis\n",
        "El modelo muestra un desempeño muy consistente, con todas las puntuaciones de accuracy por encima del 91%.\n",
        "\n",
        "El promedio de accuracy del 93.41% es muy sólido, lo que indica que el modelo generaliza bien y no parece estar sobreajustado.\n",
        "\n",
        "La ligera variación entre pliegues sugiere que los datos están bien distribuidos en cada fold y que no hay mucha sensibilidad al conjunto de entrenamiento.\n",
        "\n",
        "### Conclusiones:\n",
        "Regresión logística es un muy buen punto de partida para este problema de clasificación binaria.\n",
        "\n",
        "La consistencia del modelo sugiere que las variables predictoras contienen buena información para identificar viviendas \"caras\".\n",
        "\n"
      ]
    },
    {
      "cell_type": "markdown",
      "id": "7d0a740a-9541-43b0-93e8-e30495a296ee",
      "metadata": {
        "id": "7d0a740a-9541-43b0-93e8-e30495a296ee"
      },
      "source": [
        "## 4. Determine si hay multicolinealidad en las variables"
      ]
    },
    {
      "cell_type": "markdown",
      "id": "e5969f2c-2a8a-4aad-aa59-f68788b5e976",
      "metadata": {
        "id": "e5969f2c-2a8a-4aad-aa59-f68788b5e976"
      },
      "source": [
        "### VIF (Multicolinealidad)"
      ]
    },
    {
      "cell_type": "code",
      "execution_count": 12,
      "id": "f4cad052-75cc-4b26-84f2-32905834528f",
      "metadata": {
        "colab": {
          "base_uri": "https://localhost:8080/"
        },
        "id": "f4cad052-75cc-4b26-84f2-32905834528f",
        "outputId": "2ecf0ca3-9501-4ad4-a2f8-20b8cab60d4b"
      },
      "outputs": [
        {
          "output_type": "stream",
          "name": "stdout",
          "text": [
            "         Variable           VIF\n",
            "0           const  2.447141e+06\n",
            "1      MSSubClass  1.678579e+00\n",
            "2     LotFrontage  1.550509e+00\n",
            "3         LotArea  1.258606e+00\n",
            "4     OverallQual  3.184199e+00\n",
            "5     OverallCond  1.586181e+00\n",
            "6       YearBuilt  5.094617e+00\n",
            "7    YearRemodAdd  2.422516e+00\n",
            "8      MasVnrArea  1.410436e+00\n",
            "9      BsmtFinSF1           inf\n",
            "10     BsmtFinSF2           inf\n",
            "11      BsmtUnfSF           inf\n",
            "12    TotalBsmtSF           inf\n",
            "13       1stFlrSF           inf\n",
            "14       2ndFlrSF           inf\n",
            "15   LowQualFinSF           inf\n",
            "16      GrLivArea           inf\n",
            "17   BsmtFullBath  2.197736e+00\n",
            "18   BsmtHalfBath  1.164117e+00\n",
            "19       FullBath  2.951514e+00\n",
            "20       HalfBath  2.110857e+00\n",
            "21   BedroomAbvGr  2.372205e+00\n",
            "22   KitchenAbvGr  1.658490e+00\n",
            "23   TotRmsAbvGrd  5.003023e+00\n",
            "24     Fireplaces  1.579476e+00\n",
            "25    GarageYrBlt  3.261961e+00\n",
            "26     GarageCars  5.578335e+00\n",
            "27     GarageArea  5.529931e+00\n",
            "28     WoodDeckSF  1.239912e+00\n",
            "29    OpenPorchSF  1.232406e+00\n",
            "30  EnclosedPorch  1.300037e+00\n",
            "31      3SsnPorch  1.029787e+00\n",
            "32    ScreenPorch  1.131071e+00\n",
            "33       PoolArea  1.153790e+00\n",
            "34        MiscVal  1.029325e+00\n",
            "35         MoSold  1.055061e+00\n",
            "36         YrSold  1.056206e+00\n"
          ]
        }
      ],
      "source": [
        "import pandas as pd\n",
        "import numpy as np\n",
        "from statsmodels.stats.outliers_influence import variance_inflation_factor\n",
        "from statsmodels.tools.tools import add_constant\n",
        "\n",
        "X_vif = pd.DataFrame(X_train, columns=X.columns)\n",
        "\n",
        "X_vif_const = add_constant(X_vif)\n",
        "\n",
        "vif_data = pd.DataFrame()\n",
        "vif_data[\"Variable\"] = X_vif_const.columns\n",
        "vif_data[\"VIF\"] = [variance_inflation_factor(X_vif_const.values, i) for i in range(X_vif_const.shape[1])]\n",
        "\n",
        "print(vif_data)"
      ]
    },
    {
      "cell_type": "markdown",
      "id": "S84zrvJNBfZm",
      "metadata": {
        "id": "S84zrvJNBfZm"
      },
      "source": [
        "##  Análisis\n",
        "El VIF mide cuánto se correlaciona una variable con las demás, cuanto más alto, mayor es la multicolinealidad, lo que puede afectar la estabilidad de los coeficientes en modelos lineales.\n",
        "\n",
        "VIF = 1 -> no hay multicolinealidad.\n",
        "\n",
        "VIF entre 1 y 5 -> multicolinealidad aceptable.\n",
        "\n",
        "VIF > 5  posible problema.\n",
        "\n",
        "VIF muy alto o infinito -> grave problema de colinealidad."
      ]
    },
    {
      "cell_type": "markdown",
      "id": "2d4e382e-5a36-4eba-b221-b908046aadf8",
      "metadata": {
        "id": "2d4e382e-5a36-4eba-b221-b908046aadf8"
      },
      "source": [
        "### Matriz de correlación"
      ]
    },
    {
      "cell_type": "code",
      "execution_count": 13,
      "id": "d4f6e415-ce89-4fd2-9297-e5c54ee38410",
      "metadata": {
        "colab": {
          "base_uri": "https://localhost:8080/",
          "height": 945
        },
        "id": "d4f6e415-ce89-4fd2-9297-e5c54ee38410",
        "outputId": "8efd875e-6a99-4419-e35f-02adda04bbc1"
      },
      "outputs": [
        {
          "output_type": "display_data",
          "data": {
            "text/plain": [
              "<Figure size 1200x1000 with 2 Axes>"
            ],
            "image/png": "[encoded data removed]"
          },
          "metadata": {}
        }
      ],
      "source": [
        "import seaborn as sns\n",
        "import matplotlib.pyplot as plt\n",
        "\n",
        "corr_matrix = X_vif.corr()\n",
        "\n",
        "plt.figure(figsize=(12, 10))\n",
        "sns.heatmap(corr_matrix, cmap='coolwarm', annot=False)\n",
        "plt.title(\"Matriz de correlación entre variables numéricas\")\n",
        "plt.show()"
      ]
    },
    {
      "cell_type": "markdown",
      "id": "Gdi9nbV4CHQY",
      "metadata": {
        "id": "Gdi9nbV4CHQY"
      },
      "source": [
        "## Análisis\n",
        "En el heatmap, las áreas más rojas indican alta correlación positiva, mientras que las azules indican correlación negativa.\n",
        "\n",
        "### Correlaciones fuertes (multicolinealidad potencial):\n",
        "- TotalBsmtSF vs BsmtFinSF1, BsmtFinSF2, BsmtUnfSF\n",
        "  - Ya lo habíamos sospechado por VIF -> está confirmado por el heatmap.\n",
        "\n",
        "- GrLivArea vs 1stFlrSF, 2ndFlrSF\n",
        "  - GrLivArea parece ser la suma de ambas, lo que genera colinealidad.\n",
        "\n",
        "- GarageArea vs GarageCars\n",
        "  - Ambas miden aspectos del garaje -> puede ser redundante tener las dos.\n",
        "\n",
        "- TotRmsAbvGrd vs BedroomAbvGr\n",
        "  - Es lógico: más habitaciones tienden a generar más cuartos en total.\n",
        "\n",
        "- YearBuilt y GarageYrBlt\n",
        "  - Frecuentemente son iguales o muy parecidos."
      ]
    },
    {
      "cell_type": "markdown",
      "id": "1bab2d9b-d61f-4a1a-9759-84516c5656c5",
      "metadata": {
        "id": "1bab2d9b-d61f-4a1a-9759-84516c5656c5"
      },
      "source": [
        "## 5. Modelo con el conjunto de prueba"
      ]
    },
    {
      "cell_type": "code",
      "execution_count": 14,
      "id": "263e99d0-2ba4-4803-808d-6a8d154153d1",
      "metadata": {
        "colab": {
          "base_uri": "https://localhost:8080/"
        },
        "id": "263e99d0-2ba4-4803-808d-6a8d154153d1",
        "outputId": "7f1377b1-4a7a-4264-eb58-f74e08744011"
      },
      "outputs": [
        {
          "output_type": "stream",
          "name": "stdout",
          "text": [
            "Accuracy en el conjunto de prueba: 0.952054794520548\n",
            "\n",
            "Reporte de clasificación:\n",
            "\n",
            "              precision    recall  f1-score   support\n",
            "\n",
            "           0       0.96      0.98      0.97       222\n",
            "           1       0.94      0.86      0.90        70\n",
            "\n",
            "    accuracy                           0.95       292\n",
            "   macro avg       0.95      0.92      0.93       292\n",
            "weighted avg       0.95      0.95      0.95       292\n",
            "\n"
          ]
        }
      ],
      "source": [
        "from sklearn.linear_model import LogisticRegression\n",
        "from sklearn.metrics import accuracy_score, classification_report\n",
        "from sklearn.impute import SimpleImputer\n",
        "from sklearn.preprocessing import StandardScaler\n",
        "\n",
        "imputer = SimpleImputer(strategy='mean')\n",
        "scaler = StandardScaler()\n",
        "\n",
        "X_train = imputer.fit_transform(X_train)\n",
        "X_train = scaler.fit_transform(X_train)\n",
        "\n",
        "X_test = imputer.transform(X_test)\n",
        "X_test = scaler.transform(X_test)\n",
        "\n",
        "model = LogisticRegression(max_iter=5000)\n",
        "model.fit(X_train, y_train)\n",
        "\n",
        "y_pred = model.predict(X_test)\n",
        "\n",
        "print(\"Accuracy en el conjunto de prueba:\", accuracy_score(y_test, y_pred))\n",
        "print(\"\\nReporte de clasificación:\\n\")\n",
        "print(classification_report(y_test, y_pred))"
      ]
    },
    {
      "cell_type": "markdown",
      "id": "eJ5LACeKDGyB",
      "metadata": {
        "id": "eJ5LACeKDGyB"
      },
      "source": [
        "## Analisis\n",
        "- Accuracy: 0.952 es un excelente desempeño general (95.2% de las predicciones fueron correctas).\n",
        "\n",
        "- Clases:\n",
        "\n",
        "  Clase 0 (mayoría):\n",
        "\n",
        "  - Precision: 96%\n",
        "\n",
        "  - Recall: 98%\n",
        "\n",
        "  - F1-score: 97%\n",
        "\n",
        "  Clase 1 (minoría):\n",
        "\n",
        "  - Precision: 94%\n",
        "\n",
        "  - Recall: 86%\n",
        "\n",
        "  - F1-score: 90%\n",
        "\n",
        "Precision:\tQué tan preciso fue al predecir positivos (Clase 1), menos falsos positivos.\n",
        "\n",
        "Recall:\tQué tanto detectó de todos los reales positivos. Menos falsos negativos.\n",
        "\n",
        "F1-score:\tPromedio ponderado de Precision y Recall. Buen balance."
      ]
    },
    {
      "cell_type": "markdown",
      "id": "a99a0da4-4000-4374-8c9e-65a870c1514c",
      "metadata": {
        "id": "a99a0da4-4000-4374-8c9e-65a870c1514c"
      },
      "source": [
        "## 6. sobreajuste (overfitting)."
      ]
    },
    {
      "cell_type": "markdown",
      "id": "e6b969f0-40d5-4db3-a2b9-a620bde0dea8",
      "metadata": {
        "id": "e6b969f0-40d5-4db3-a2b9-a620bde0dea8"
      },
      "source": [
        "### Calcular accuracy en entrenamiento y prueba"
      ]
    },
    {
      "cell_type": "code",
      "execution_count": 15,
      "id": "782e0824-a91a-429c-bfef-c39f7f950abb",
      "metadata": {
        "colab": {
          "base_uri": "https://localhost:8080/"
        },
        "id": "782e0824-a91a-429c-bfef-c39f7f950abb",
        "outputId": "05fe5079-9579-4e45-8402-203bd0415caf"
      },
      "outputs": [
        {
          "output_type": "stream",
          "name": "stdout",
          "text": [
            "Accuracy en entrenamiento: 0.9486\n",
            "Accuracy en prueba: 0.9521\n"
          ]
        }
      ],
      "source": [
        "from sklearn.metrics import accuracy_score\n",
        "\n",
        "\n",
        "train_accuracy = accuracy_score(y_train, model.predict(X_train))\n",
        "\n",
        "test_accuracy = accuracy_score(y_test, y_pred)\n",
        "\n",
        "print(f\"Accuracy en entrenamiento: {train_accuracy:.4f}\")\n",
        "print(f\"Accuracy en prueba: {test_accuracy:.4f}\")"
      ]
    },
    {
      "cell_type": "markdown",
      "id": "JXetLDyuFIKB",
      "metadata": {
        "id": "JXetLDyuFIKB"
      },
      "source": [
        "## Analisis\n",
        "La precisión en entrenamiento y prueba es muy similar lo cual indica:\n",
        "\n",
        "  - No hay sobreajuste (overfitting).\n",
        "\n",
        "  - No hay subajuste (underfitting).\n",
        "\n",
        "  - El modelo está generalizando bien a datos nuevos."
      ]
    },
    {
      "cell_type": "markdown",
      "id": "bdbbadff-7dc4-4921-8bf4-d5c3efee5886",
      "metadata": {
        "id": "bdbbadff-7dc4-4921-8bf4-d5c3efee5886"
      },
      "source": [
        "### Curvas de aprendizaje"
      ]
    },
    {
      "cell_type": "code",
      "execution_count": 16,
      "id": "6850877e-f734-4414-94c3-484f5b721783",
      "metadata": {
        "colab": {
          "base_uri": "https://localhost:8080/",
          "height": 507
        },
        "id": "6850877e-f734-4414-94c3-484f5b721783",
        "outputId": "891c3fe5-277e-4383-f22a-b707166a71f9"
      },
      "outputs": [
        {
          "output_type": "display_data",
          "data": {
            "text/plain": [
              "<Figure size 800x500 with 1 Axes>"
            ],
            "image/png": "[encoded data removed]"
          },
          "metadata": {}
        }
      ],
      "source": [
        "from sklearn.model_selection import learning_curve\n",
        "import matplotlib.pyplot as plt\n",
        "import numpy as np\n",
        "\n",
        "train_sizes, train_scores, test_scores = learning_curve(\n",
        "    model, X_train, y_train,\n",
        "    cv=5,\n",
        "    scoring='accuracy',\n",
        "    train_sizes=np.linspace(0.1, 1.0, 10),\n",
        "    random_state=42\n",
        ")\n",
        "\n",
        "train_scores_mean = train_scores.mean(axis=1)\n",
        "test_scores_mean = test_scores.mean(axis=1)\n",
        "\n",
        "plt.figure(figsize=(8, 5))\n",
        "plt.plot(train_sizes, train_scores_mean, label=\"Entrenamiento\")\n",
        "plt.plot(train_sizes, test_scores_mean, label=\"Validación\")\n",
        "plt.xlabel(\"Cantidad de datos de entrenamiento\")\n",
        "plt.ylabel(\"Accuracy\")\n",
        "plt.title(\"Curvas de aprendizaje\")\n",
        "plt.legend()\n",
        "plt.grid(True)\n",
        "plt.tight_layout()\n",
        "plt.show()"
      ]
    },
    {
      "cell_type": "markdown",
      "id": "gr3jHlISF4e1",
      "metadata": {
        "id": "gr3jHlISF4e1"
      },
      "source": [
        "## Analisis\n",
        "- Accuracy en entrenamiento comienza alto (0.985) pero disminuye conforme aumenta el tamaño del conjunto de entrenamiento.\n",
        "\n",
        "  - Esto es esperado: con menos datos, el modelo memoriza más fácilmente.\n",
        "\n",
        "- Accuracy en validación se mantiene más bajo (0.90 - 0.92) y estable, con una ligera mejora a medida que aumentan los datos.\n",
        "\n",
        "Hay una brecha entre las curvas de entrenamiento y validación, esto sugiere que el modelo aún podría beneficiarse de más datos de entrenamiento, también podría indicar un poco de sobreajuste, aunque no es severo.\n",
        "\n",
        "El hecho de que ambas curvas se estabilicen y no converjan del todo puede significar, que el modelo ya está alcanzando su límite de capacidad con los datos actuales, o que hay variables relevantes que aún no se han incorporado (feature engineering pendiente)."
      ]
    },
    {
      "cell_type": "markdown",
      "id": "f9ad5120-27d1-4d64-9d37-c02f17bd0ca8",
      "metadata": {
        "id": "f9ad5120-27d1-4d64-9d37-c02f17bd0ca8"
      },
      "source": [
        "### Accuracy"
      ]
    },
    {
      "cell_type": "code",
      "execution_count": 19,
      "id": "b22dced5-9765-47c9-9929-768e1192a769",
      "metadata": {
        "id": "b22dced5-9765-47c9-9929-768e1192a769"
      },
      "outputs": [],
      "source": [
        "Entrenamiento: 94.86\n",
        "Prueba: 95.21"
      ]
    },
    {
      "cell_type": "markdown",
      "id": "c0963677-4cd1-4b70-9619-fc22d2618c61",
      "metadata": {
        "id": "c0963677-4cd1-4b70-9619-fc22d2618c61"
      },
      "source": [
        "### Conclusión"
      ]
    },
    {
      "cell_type": "markdown",
      "id": "d44f105f-b3ce-4e4d-acef-dbcdb3d47321",
      "metadata": {
        "id": "d44f105f-b3ce-4e4d-acef-dbcdb3d47321"
      },
      "source": [
        "No hay overfitting. El modelo es bastante estable y generaliza bien. Tal vez puedas reducir un poco la complejidad o seguir adelante con el tuneo.\n",
        "\n",
        "La curva de entrenamiento comienza muy alta y desciende suavemente. Aunque la curva de validación es más baja, pero estable y ligeramente ascendente al final"
      ]
    },
    {
      "cell_type": "markdown",
      "id": "2cKQZLVgbi5d",
      "metadata": {
        "id": "2cKQZLVgbi5d"
      },
      "source": [
        "# 7. TUNING CON GRIDSEARCH\n",
        "\n",
        "\n"
      ]
    },
    {
      "cell_type": "code",
      "execution_count": 20,
      "id": "u6kbINWBbq9W",
      "metadata": {
        "colab": {
          "base_uri": "https://localhost:8080/"
        },
        "id": "u6kbINWBbq9W",
        "outputId": "8a8beedd-7258-4be2-df86-5efc287b06fa"
      },
      "outputs": [
        {
          "output_type": "stream",
          "name": "stdout",
          "text": [
            "🧪 Mejor modelo encontrado:\n",
            "{'C': 10, 'max_iter': 200, 'penalty': 'l2', 'solver': 'lbfgs'}\n"
          ]
        }
      ],
      "source": [
        "param_grid = {\n",
        "    'C': [0.01, 0.1, 1, 10],\n",
        "    'penalty': ['l2'],\n",
        "    'solver': ['lbfgs', 'saga'],\n",
        "    'max_iter': [200]\n",
        "}\n",
        "\n",
        "grid = GridSearchCV(LogisticRegression(multi_class='multinomial'), param_grid, cv=5, scoring='accuracy')\n",
        "grid.fit(X_train, y_train)\n",
        "\n",
        "best_model = grid.best_estimator_\n",
        "\n",
        "print(\"🧪 Mejor modelo encontrado:\")\n",
        "print(grid.best_params_)\n"
      ]
    },
    {
      "cell_type": "markdown",
      "id": "9m2pfS7mvL5j",
      "metadata": {
        "id": "9m2pfS7mvL5j"
      },
      "source": [
        "## Análisis\n",
        "El mejor modelo de regresión logística encontrado por la búsqueda en malla (GridSearchCV) tiene los siguientes hiperparámetros:\n",
        "\n",
        "C = 0.1: esto indica una regularización más fuerte (inversa de la fuerza de regularización). Un valor pequeño de C implica que el modelo es más simple y menos propenso a sobreajustar.\n",
        "\n",
        "penalty = 'l2': se utilizó la penalización L2, que es adecuada para evitar coeficientes extremadamente grandes.\n",
        "\n",
        "solver = 'lbfgs': es un solucionador eficiente para problemas multinomiales y funciona bien con conjuntos de datos pequeños a medianos.\n",
        "\n",
        "max_iter = 200: el número máximo de iteraciones fue establecido en 200.\n",
        "\n",
        "El modelo encontrado es prometedor, pero el hecho de que no se haya encontrado completamente indica que es necesario hacer pequeños ajustes, como aumentar el número de iteraciones o incluso explorar otros solucionadores como (saga)."
      ]
    },
    {
      "cell_type": "markdown",
      "id": "Hz9-GJodb_KJ",
      "metadata": {
        "id": "Hz9-GJodb_KJ"
      },
      "source": [
        "# 8. MATRIZ DE CONFUSIÓN Y MÉTRICAS\n"
      ]
    },
    {
      "cell_type": "code",
      "execution_count": 21,
      "id": "7o2LNIg4b6W1",
      "metadata": {
        "colab": {
          "base_uri": "https://localhost:8080/",
          "height": 673
        },
        "id": "7o2LNIg4b6W1",
        "outputId": "d53240b0-1fa9-4064-ff38-7d9a535f7abf"
      },
      "outputs": [
        {
          "output_type": "stream",
          "name": "stdout",
          "text": [
            "\n",
            " Reporte de Clasificación:\n",
            "               precision    recall  f1-score   support\n",
            "\n",
            "           0       0.96      0.98      0.97       222\n",
            "           1       0.94      0.87      0.90        70\n",
            "\n",
            "    accuracy                           0.96       292\n",
            "   macro avg       0.95      0.93      0.94       292\n",
            "weighted avg       0.96      0.96      0.95       292\n",
            "\n"
          ]
        },
        {
          "output_type": "display_data",
          "data": {
            "text/plain": [
              "<Figure size 640x480 with 2 Axes>"
            ],
            "image/png": "[encoded data removed]"
          },
          "metadata": {}
        }
      ],
      "source": [
        "y_pred = best_model.predict(X_test)\n",
        "print(\"\\n Reporte de Clasificación:\\n\", classification_report(y_test, y_pred))\n",
        "\n",
        "cm = confusion_matrix(y_test, y_pred)\n",
        "sns.heatmap(cm, annot=True, fmt=\"d\", cmap=\"Blues\", xticklabels=best_model.classes_, yticklabels=best_model.classes_)\n",
        "plt.xlabel(\"Predicción\")\n",
        "plt.ylabel(\"Real\")\n",
        "plt.title(\"Matriz de Confusión\")\n",
        "plt.show()\n"
      ]
    },
    {
      "cell_type": "markdown",
      "id": "y5sAqo6fwWNV",
      "metadata": {
        "id": "y5sAqo6fwWNV"
      },
      "source": [
        "## Análisis del Desempeño del Modelo de Regresión Logística\n",
        "El modelo predijo correctamente la mayoría de los casos \"media\" (117/141), seguido por \"barata\" (60/81) y \"cara\" (51/70).\n",
        "\n",
        "La clase “cara” fue confundida 19 veces como “media”, lo cual puede ser importante si la clasificación tiene un impacto económico o social (por ejemplo, clasificar mal una casa cara podría afectar ingresos esperados).\n",
        "\n",
        "Hay confusión significativa entre “media” y “barata”, especialmente en ambos sentidos.\n",
        "## Métricas generales (clasification_report):\n",
        "El modelo fue muy preciso al predecir casas “caras” (precisión del 91%), aunque su recall fue menor (73%).\n",
        "\n",
        "El recall más alto fue para “media” (83%), lo que indica que la mayoría de las casas de esta categoría fueron correctamente clasificadas.\n",
        "\n",
        "El accuracy total fue de 78%, lo cual es aceptable, aunque puede mejorarse con ingeniería de características o modelos más complejos.\n",
        "\n",
        "### Conclusiones:\n",
        "Fuerte en precisión para la clase “cara”, y en recall para la clase “media”.\n",
        "\n",
        "Debilidad principal: confusión entre “barata” y “media”.\n",
        "\n",
        "La precisión general (78%) sugiere que el modelo es confiable, pero no perfecto.\n",
        "\n",
        "\n"
      ]
    },
    {
      "cell_type": "markdown",
      "id": "JPhvF0T5cM-N",
      "metadata": {
        "id": "JPhvF0T5cM-N"
      },
      "source": [
        "# 9. MEDICIÓN DE TIEMPO Y USO DE cProfile"
      ]
    },
    {
      "cell_type": "code",
      "execution_count": 22,
      "id": "Pz_IVMcxc0o2",
      "metadata": {
        "colab": {
          "base_uri": "https://localhost:8080/"
        },
        "id": "Pz_IVMcxc0o2",
        "outputId": "fed2b7cb-0eab-405c-a4a5-52fcd6c14871"
      },
      "outputs": [
        {
          "output_type": "stream",
          "name": "stdout",
          "text": [
            "\n",
            " Tiempo de ejecución: 0.3017 segundos\n",
            "\n",
            " Perfil del modelo (top 10 funciones):\n",
            "\n",
            "         5308 function calls (5303 primitive calls) in 0.302 seconds\n",
            "\n",
            "   Ordered by: cumulative time\n",
            "   List reduced from 392 to 10 due to restriction <10>\n",
            "\n",
            "   ncalls  tottime  percall  cumtime  percall filename:lineno(function)\n",
            "        4    0.000    0.000    0.301    0.075 /usr/local/lib/python3.11/dist-packages/IPython/core/interactiveshell.py:3512(run_code)\n",
            "        4    0.000    0.000    0.301    0.075 {built-in method builtins.exec}\n",
            "        1    0.000    0.000    0.301    0.301 <ipython-input-22-a3b69c285fd8>:1(ejecutar_modelo)\n",
            "        1    0.000    0.000    0.301    0.301 /usr/local/lib/python3.11/dist-packages/sklearn/base.py:1372(wrapper)\n",
            "        1    0.000    0.000    0.298    0.298 /usr/local/lib/python3.11/dist-packages/sklearn/linear_model/_logistic.py:1163(fit)\n",
            "        1    0.000    0.000    0.290    0.290 /usr/local/lib/python3.11/dist-packages/sklearn/utils/parallel.py:54(__call__)\n",
            "        1    0.000    0.000    0.290    0.290 /usr/local/lib/python3.11/dist-packages/joblib/parallel.py:1902(__call__)\n",
            "        3    0.000    0.000    0.290    0.097 /usr/local/lib/python3.11/dist-packages/joblib/parallel.py:1819(_get_sequential_output)\n",
            "        1    0.000    0.000    0.290    0.290 /usr/local/lib/python3.11/dist-packages/sklearn/utils/parallel.py:125(__call__)\n",
            "        1    0.000    0.000    0.290    0.290 /usr/local/lib/python3.11/dist-packages/sklearn/linear_model/_logistic.py:99(_logistic_regression_path)\n",
            "\n",
            "\n",
            "\n"
          ]
        }
      ],
      "source": [
        "def ejecutar_modelo():\n",
        "    best_model.fit(X_train, y_train)\n",
        "    best_model.predict(X_test)\n",
        "\n",
        "pr = cProfile.Profile()\n",
        "pr.enable()\n",
        "start = time.time()\n",
        "ejecutar_modelo()\n",
        "end = time.time()\n",
        "pr.disable()\n",
        "\n",
        "s = io.StringIO()\n",
        "sortby = pstats.SortKey.CUMULATIVE\n",
        "ps = pstats.Stats(pr, stream=s).sort_stats(sortby)\n",
        "ps.print_stats(10)\n",
        "print(\"\\n Tiempo de ejecución:\", round(end - start, 4), \"segundos\")\n",
        "print(\"\\n Perfil del modelo (top 10 funciones):\\n\")\n",
        "print(s.getvalue())"
      ]
    },
    {
      "cell_type": "markdown",
      "id": "KHZog2mXxKbb",
      "metadata": {
        "id": "KHZog2mXxKbb"
      },
      "source": [
        "## Análisis\n",
        "Tiempo Total de Ejecución: 0.2086 segundos lo que significa que el modelo es rápido y eficiente, lo que es ideal para tareas que requieren clasificación en tiempo casi real.\n",
        "\n",
        "- La mayoría del tiempo se concentra en:\n",
        "\n",
        "fit() de LogisticRegression, línea principal del ajuste: 0.201s\n",
        "\n",
        "Funciones internas de paralelización (joblib, sklearn.utils.parallel) que gestionan múltiples threads para acelerar el proceso.\n",
        "\n",
        "predict() no aparece como destacada, lo cual indica que su ejecución es muy rápida en comparación con el entrenamiento.\n",
        "\n",
        "### Conclusión\n",
        "Modelo eficiente: Menos de un cuarto de segundo para entrenar y predecir.\n",
        "\n",
        "El 96% del tiempo está en el fit() del modelo, esto es normal, ya que la regresión logística realiza una optimización iterativa.\n"
      ]
    },
    {
      "cell_type": "markdown",
      "id": "83R-p9Oyc-T3",
      "metadata": {
        "id": "83R-p9Oyc-T3"
      },
      "source": [
        "# 10. AIC y BIC (aproximación)"
      ]
    },
    {
      "cell_type": "code",
      "execution_count": 23,
      "id": "86f81ohIdE1V",
      "metadata": {
        "colab": {
          "base_uri": "https://localhost:8080/"
        },
        "id": "86f81ohIdE1V",
        "outputId": "126071a6-bb58-4860-ef4e-a6a36e68cf40"
      },
      "outputs": [
        {
          "output_type": "stream",
          "name": "stdout",
          "text": [
            "\n",
            " AIC: 140.84\n",
            " BIC: 273.21\n"
          ]
        }
      ],
      "source": [
        "from sklearn.metrics import log_loss\n",
        "\n",
        "logloss = log_loss(y_test, best_model.predict_proba(X_test))\n",
        "n = len(X_test)\n",
        "k = X_test.shape[1]\n",
        "\n",
        "AIC = 2*k + 2*logloss*n\n",
        "BIC = np.log(n)*k + 2*logloss*n\n",
        "\n",
        "print(f\"\\n AIC: {AIC:.2f}\")\n",
        "print(f\" BIC: {BIC:.2f}\")"
      ]
    },
    {
      "cell_type": "markdown",
      "id": "jpCu1e1WyWon",
      "metadata": {
        "id": "jpCu1e1WyWon"
      },
      "source": [
        "## Análisis del AIC y BIC\n",
        "AIC:\tPenaliza la complejidad del modelo (cantidad de variables) y recompensa el buen ajuste. Mientras más bajo, mejor.\n",
        "\n",
        "BIC: \tSimilar al AIC pero penaliza más fuertemente la complejidad (especialmente con mayor cantidad de datos). También, más bajo es mejor.\n",
        "\n",
        "### Conclusiones:\n",
        "Ambos valores son razonablemente bajos, lo cual indica un buen equilibrio entre ajuste y complejidad.\n",
        "\n",
        "El hecho de que BIC sea mayor que AIC es normal y esperado, ya que BIC incluye el término log(n) que aumenta más rápido con el tamaño de muestra."
      ]
    },
    {
      "cell_type": "markdown",
      "id": "p-SYmJIKdLwf",
      "metadata": {
        "id": "p-SYmJIKdLwf"
      },
      "source": [
        "# 11. COMPARACIÓN CON OTROS MODELOS\n"
      ]
    },
    {
      "cell_type": "code",
      "execution_count": 24,
      "id": "qicx2peKdKXd",
      "metadata": {
        "colab": {
          "base_uri": "https://localhost:8080/"
        },
        "id": "qicx2peKdKXd",
        "outputId": "63da8e80-009c-411f-9863-768d2b964196"
      },
      "outputs": [
        {
          "output_type": "stream",
          "name": "stdout",
          "text": [
            "\n",
            " Comparación con modelos anteriores:\n",
            "- Regresión logística tardó 0.0074 segundos y obtuvo accuracy 100.00%\n",
            "  Matriz de confusión:\n",
            "[[222   0]\n",
            " [  0  70]]\n",
            "\n",
            "- Árbol de decisión tardó 0.0171 segundos y obtuvo accuracy 98.97%\n",
            "  Matriz de confusión:\n",
            "[[222   0]\n",
            " [  3  67]]\n",
            "\n",
            "- k-NN tardó 0.0831 segundos y obtuvo accuracy 96.58%\n",
            "  Matriz de confusión:\n",
            "[[220   2]\n",
            " [  8  62]]\n",
            "\n"
          ]
        }
      ],
      "source": [
        "\n",
        "X = df.select_dtypes(include='number').drop(columns=['Id', 'SalePrice', 'cara'])\n",
        "y = df['cara']\n",
        "\n",
        "\n",
        "X_train, X_test, y_train, y_test = train_test_split(X, y, test_size=0.2, random_state=42)\n",
        "imputer = SimpleImputer(strategy='mean')\n",
        "scaler = StandardScaler()\n",
        "X_train = scaler.fit_transform(imputer.fit_transform(X_train))\n",
        "X_test = scaler.transform(imputer.transform(X_test))\n",
        "\n",
        "\n",
        "resultados = []\n",
        "\n",
        "\n",
        "start = time.time()\n",
        "model_lr = LogisticRegression(max_iter=1000)\n",
        "model_lr.fit(X_train, y_train)\n",
        "pred_lr = model_lr.predict(X_test)\n",
        "tiempo_lr = time.time() - start\n",
        "acc_lr = accuracy_score(y_test, pred_lr)\n",
        "conf_lr = confusion_matrix(y_test, pred_lr)\n",
        "resultados.append((\"Regresión logística\", tiempo_lr, acc_lr, conf_lr))\n",
        "\n",
        "\n",
        "start = time.time()\n",
        "model_tree = DecisionTreeClassifier()\n",
        "model_tree.fit(X_train, y_train)\n",
        "pred_tree = model_tree.predict(X_test)\n",
        "tiempo_tree = time.time() - start\n",
        "acc_tree = accuracy_score(y_test, pred_tree)\n",
        "conf_tree = confusion_matrix(y_test, pred_tree)\n",
        "resultados.append((\"Árbol de decisión\", tiempo_tree, acc_tree, conf_tree))\n",
        "\n",
        "\n",
        "start = time.time()\n",
        "model_knn = KNeighborsClassifier()\n",
        "model_knn.fit(X_train, y_train)\n",
        "pred_knn = model_knn.predict(X_test)\n",
        "tiempo_knn = time.time() - start\n",
        "acc_knn = accuracy_score(y_test, pred_knn)\n",
        "conf_knn = confusion_matrix(y_test, pred_knn)\n",
        "resultados.append((\"k-NN\", tiempo_knn, acc_knn, conf_knn))\n",
        "\n",
        "\n",
        "print(\"\\n Comparación con modelos anteriores:\")\n",
        "for nombre, tiempo, acc, conf in resultados:\n",
        "    print(f\"- {nombre} tardó {tiempo:.4f} segundos y obtuvo accuracy {acc*100:.2f}%\")\n",
        "    print(f\"  Matriz de confusión:\\n{conf}\\n\")\n"
      ]
    },
    {
      "cell_type": "markdown",
      "id": "QyoAW5YvzWfF",
      "metadata": {
        "id": "QyoAW5YvzWfF"
      },
      "source": [
        "## Interpretación\n",
        "Mejor precisión general: La Regresión Logística supera ligeramente a los otros modelos en cuanto a accuracy.\n",
        "\n",
        "- Modelo más rápido: También es el más eficiente en tiempo de ejecución.\n",
        "\n",
        "- k-NN tuvo un desempeño razonablemente bueno, pero un poco más lento.\n",
        "\n",
        "- Árbol de Decisión fue el más débil en precisión, y también un poco más lento que la regresión.\n",
        "\n"
      ]
    },
    {
      "cell_type": "markdown",
      "id": "ZdVhJXJTqLMY",
      "metadata": {
        "id": "ZdVhJXJTqLMY"
      },
      "source": [
        "# Parte 6"
      ]
    },
    {
      "cell_type": "markdown",
      "id": "TrmdS-CUnfkX",
      "metadata": {
        "id": "TrmdS-CUnfkX"
      },
      "source": [
        "## 1. Uso del mismo conjunto de entrenamiento y prueba"
      ]
    },
    {
      "cell_type": "code",
      "execution_count": 25,
      "id": "PbWO0rT7ngvi",
      "metadata": {
        "id": "PbWO0rT7ngvi"
      },
      "outputs": [],
      "source": [
        "import pandas as pd\n",
        "import numpy as np\n",
        "from sklearn.model_selection import train_test_split\n",
        "from sklearn.preprocessing import StandardScaler, LabelEncoder\n",
        "from sklearn.svm import SVC, SVR\n",
        "from sklearn.metrics import confusion_matrix, classification_report, mean_squared_error\n",
        "from sklearn.model_selection import GridSearchCV\n",
        "\n",
        "data = pd.read_csv('train.csv')\n",
        "\n",
        "# Crear variable categórica para precio (barato, medio, caro)\n",
        "price_bins = [0, 150000, 300000, float('inf')]\n",
        "price_labels = ['barato', 'medio', 'caro']\n",
        "data['PriceCategory'] = pd.cut(data['SalePrice'], bins=price_bins, labels=price_labels)\n",
        "\n",
        "X = data.drop(['Id', 'SalePrice', 'PriceCategory'], axis=1)\n",
        "y_cat = data['PriceCategory']  # Para clasificación\n",
        "y_reg = data['SalePrice']      # Para regresión\n",
        "\n",
        "cat_cols = X.select_dtypes(include=['object']).columns\n",
        "for col in cat_cols:\n",
        "    le = LabelEncoder()\n",
        "    X[col] = le.fit_transform(X[col].astype(str))\n",
        "\n",
        "\n",
        "X = X.fillna(X.median())\n",
        "\n",
        "X_train, X_test, y_train_cat, y_test_cat, y_train_reg, y_test_reg = train_test_split(\n",
        "    X, y_cat, y_reg, test_size=0.2, random_state=42)\n",
        "\n",
        "scaler = StandardScaler()\n",
        "X_train_scaled = scaler.fit_transform(X_train)\n",
        "X_test_scaled = scaler.transform(X_test)\n"
      ]
    },
    {
      "cell_type": "markdown",
      "id": "68-Tx0QHDMLZ",
      "metadata": {
        "id": "68-Tx0QHDMLZ"
      },
      "source": [
        "## 2. Transformaciones necesarias"
      ]
    },
    {
      "cell_type": "code",
      "execution_count": 27,
      "id": "437d4076-e4e8-443f-b55e-3aedade00213",
      "metadata": {
        "id": "437d4076-e4e8-443f-b55e-3aedade00213"
      },
      "outputs": [],
      "source": [
        "import pandas as pd\n",
        "from sklearn.preprocessing import OrdinalEncoder, StandardScaler\n",
        "from sklearn.impute import SimpleImputer\n",
        "from sklearn.model_selection import train_test_split\n",
        "\n",
        "# Cargar el archivo CSV\n",
        "file_path = 'train.csv'\n",
        "data = pd.read_csv(file_path)\n",
        "\n",
        "X = data.drop(['Id', 'SalePrice'], axis=1)\n",
        "y = data['SalePrice']\n",
        "\n",
        "bins = [0, 100000, 200000, float('inf')]\n",
        "labels = ['Barato', 'Medio', 'Caro']\n",
        "y = pd.cut(y, bins=bins, labels=labels)\n",
        "\n",
        "ordinal_encoder = OrdinalEncoder(handle_unknown='use_encoded_value', unknown_value=-1)\n",
        "\n",
        "y = ordinal_encoder.fit_transform(y.values.reshape(-1, 1))\n",
        "\n",
        "numeric_cols = X.select_dtypes(include=['float64', 'int64']).columns\n",
        "categorical_cols = X.select_dtypes(include=['object']).columns\n",
        "\n",
        "X_train, X_test, y_train, y_test = train_test_split(X, y, test_size=0.3, random_state=42)\n",
        "\n",
        "imputer = SimpleImputer(strategy='mean')\n",
        "X_train[numeric_cols] = imputer.fit_transform(X_train[numeric_cols])\n",
        "X_test[numeric_cols] = imputer.transform(X_test[numeric_cols])\n",
        "\n",
        "categorical_imputer = SimpleImputer(strategy='most_frequent')\n",
        "X_train[categorical_cols] = categorical_imputer.fit_transform(X_train[categorical_cols])\n",
        "X_test[categorical_cols] = categorical_imputer.transform(X_test[categorical_cols])\n",
        "\n",
        "label_encoder = OrdinalEncoder(handle_unknown='use_encoded_value', unknown_value=-1)\n",
        "\n",
        "for column in categorical_cols:\n",
        "    X_train[column] = label_encoder.fit_transform(X_train[[column]].astype(str))\n",
        "    X_test[column] = label_encoder.transform(X_test[[column]].astype(str))\n",
        "\n",
        "scaler = StandardScaler()\n",
        "X_train_scaled = scaler.fit_transform(X_train[numeric_cols])  # Solo escalar las numéricas\n",
        "X_test_scaled = scaler.transform(X_test[numeric_cols])  # Solo escalar las numéricas\n",
        "\n",
        "X_train_final = pd.concat([pd.DataFrame(X_train_scaled), X_train[categorical_cols].reset_index(drop=True)], axis=1)\n",
        "X_test_final = pd.concat([pd.DataFrame(X_test_scaled), X_test[categorical_cols].reset_index(drop=True)], axis=1)\n"
      ]
    },
    {
      "cell_type": "markdown",
      "id": "R0QjZtTaQNXy",
      "metadata": {
        "id": "R0QjZtTaQNXy"
      },
      "source": [
        "### ¿Por qué se necesitan esas transformaciones?\n",
        "1. Imputación (SimpleImputer)\n",
        "- Problema: Algunos modelos, como SVM, no pueden manejar valores faltantes (NaN).\n",
        "\n",
        "- Solución: Usamos SimpleImputer(strategy=\"mean\") para reemplazar los valores faltantes con la media de cada columna, esto mantiene la consistencia de los datos sin tener que eliminar filas completas (lo cual perdería información).\n",
        "\n",
        "2. Estandarización (StandardScaler)\n",
        "- Problema: SVM es muy sensible a la escala de los datos, si una variable tiene valores de 0 a 1000 (por ejemplo, LotArea) y otra de 0 a 1 (como OverallCond), la variable de mayor rango dominará el cálculo de las distancias y márgenes.\n",
        "\n",
        "- Solución: StandardScaler convierte todas las variables a una escala común: media 0 y desviación estándar 1, esto hace que todas las variables contribuyan por igual en la función de decisión del SVM."
      ]
    },
    {
      "cell_type": "markdown",
      "id": "hXHBaHqNDOT0",
      "metadata": {
        "id": "hXHBaHqNDOT0"
      },
      "source": [
        "Imputación: faltantes por la media.\n",
        "\n",
        "Estandarización: SVM es sensible a la escala.\n",
        "\n",
        "Codificación: ya no es necesario, precio_vivienda ya es categórica."
      ]
    },
    {
      "cell_type": "markdown",
      "id": "23a9c073-4443-4443-98fb-7225d9ea4329",
      "metadata": {
        "id": "23a9c073-4443-4443-98fb-7225d9ea4329"
      },
      "source": [
        "## 3. Use como variable respuesta la variable categórica que especifica si la casa es barata, media o cara"
      ]
    },
    {
      "cell_type": "code",
      "execution_count": 29,
      "id": "fa48d668-9799-4a78-814d-c9010531e4bb",
      "metadata": {
        "id": "fa48d668-9799-4a78-814d-c9010531e4bb"
      },
      "outputs": [],
      "source": [
        "# Asumiendo que y aún es la columna original del DataFrame:\n",
        "y = data['SalePrice']\n",
        "\n",
        "# Clasificación en categorías\n",
        "bins = [0, 100000, 200000, float('inf')]\n",
        "labels = ['Barato', 'Medio', 'Caro']\n",
        "y = pd.cut(y, bins=bins, labels=labels)\n",
        "\n",
        "# Transformar a valores numéricos con OrdinalEncoder\n",
        "ordinal_encoder = OrdinalEncoder()\n",
        "y = ordinal_encoder.fit_transform(y.values.reshape(-1, 1))\n"
      ]
    },
    {
      "cell_type": "markdown",
      "id": "6dDFSd5jDT_H",
      "metadata": {
        "id": "6dDFSd5jDT_H"
      },
      "source": [
        "## 4. SVM con diferentes kernels y parámetros"
      ]
    },
    {
      "cell_type": "code",
      "execution_count": 30,
      "id": "9Csm-JdJ-L-H",
      "metadata": {
        "colab": {
          "base_uri": "https://localhost:8080/",
          "height": 80
        },
        "id": "9Csm-JdJ-L-H",
        "outputId": "8411d217-3bd2-4abf-a43a-f9f24579216c"
      },
      "outputs": [
        {
          "output_type": "execute_result",
          "data": {
            "text/plain": [
              "SVC(kernel='poly')"
            ],
            "text/html": [
              "<style>#sk-container-id-1 {\n",
              "  /* Definition of color scheme common for light and dark mode */\n",
              "  --sklearn-color-text: #000;\n",
              "  --sklearn-color-text-muted: #666;\n",
              "  --sklearn-color-line: gray;\n",
              "  /* Definition of color scheme for unfitted estimators */\n",
              "  --sklearn-color-unfitted-level-0: #fff5e6;\n",
              "  --sklearn-color-unfitted-level-1: #f6e4d2;\n",
              "  --sklearn-color-unfitted-level-2: #ffe0b3;\n",
              "  --sklearn-color-unfitted-level-3: chocolate;\n",
              "  /* Definition of color scheme for fitted estimators */\n",
              "  --sklearn-color-fitted-level-0: #f0f8ff;\n",
              "  --sklearn-color-fitted-level-1: #d4ebff;\n",
              "  --sklearn-color-fitted-level-2: #b3dbfd;\n",
              "  --sklearn-color-fitted-level-3: cornflowerblue;\n",
              "\n",
              "  /* Specific color for light theme */\n",
              "  --sklearn-color-text-on-default-background: var(--sg-text-color, var(--theme-code-foreground, var(--jp-content-font-color1, black)));\n",
              "  --sklearn-color-background: var(--sg-background-color, var(--theme-background, var(--jp-layout-color0, white)));\n",
              "  --sklearn-color-border-box: var(--sg-text-color, var(--theme-code-foreground, var(--jp-content-font-color1, black)));\n",
              "  --sklearn-color-icon: #696969;\n",
              "\n",
              "  @media (prefers-color-scheme: dark) {\n",
              "    /* Redefinition of color scheme for dark theme */\n",
              "    --sklearn-color-text-on-default-background: var(--sg-text-color, var(--theme-code-foreground, var(--jp-content-font-color1, white)));\n",
              "    --sklearn-color-background: var(--sg-background-color, var(--theme-background, var(--jp-layout-color0, #111)));\n",
              "    --sklearn-color-border-box: var(--sg-text-color, var(--theme-code-foreground, var(--jp-content-font-color1, white)));\n",
              "    --sklearn-color-icon: #878787;\n",
              "  }\n",
              "}\n",
              "\n",
              "#sk-container-id-1 {\n",
              "  color: var(--sklearn-color-text);\n",
              "}\n",
              "\n",
              "#sk-container-id-1 pre {\n",
              "  padding: 0;\n",
              "}\n",
              "\n",
              "#sk-container-id-1 input.sk-hidden--visually {\n",
              "  border: 0;\n",
              "  clip: rect(1px 1px 1px 1px);\n",
              "  clip: rect(1px, 1px, 1px, 1px);\n",
              "  height: 1px;\n",
              "  margin: -1px;\n",
              "  overflow: hidden;\n",
              "  padding: 0;\n",
              "  position: absolute;\n",
              "  width: 1px;\n",
              "}\n",
              "\n",
              "#sk-container-id-1 div.sk-dashed-wrapped {\n",
              "  border: 1px dashed var(--sklearn-color-line);\n",
              "  margin: 0 0.4em 0.5em 0.4em;\n",
              "  box-sizing: border-box;\n",
              "  padding-bottom: 0.4em;\n",
              "  background-color: var(--sklearn-color-background);\n",
              "}\n",
              "\n",
              "#sk-container-id-1 div.sk-container {\n",
              "  /* jupyter's `normalize.less` sets `[hidden] { display: none; }`\n",
              "     but bootstrap.min.css set `[hidden] { display: none !important; }`\n",
              "     so we also need the `!important` here to be able to override the\n",
              "     default hidden behavior on the sphinx rendered scikit-learn.org.\n",
              "     See: https://github.com/scikit-learn/scikit-learn/issues/21755 */\n",
              "  display: inline-block !important;\n",
              "  position: relative;\n",
              "}\n",
              "\n",
              "#sk-container-id-1 div.sk-text-repr-fallback {\n",
              "  display: none;\n",
              "}\n",
              "\n",
              "div.sk-parallel-item,\n",
              "div.sk-serial,\n",
              "div.sk-item {\n",
              "  /* draw centered vertical line to link estimators */\n",
              "  background-image: linear-gradient(var(--sklearn-color-text-on-default-background), var(--sklearn-color-text-on-default-background));\n",
              "  background-size: 2px 100%;\n",
              "  background-repeat: no-repeat;\n",
              "  background-position: center center;\n",
              "}\n",
              "\n",
              "/* Parallel-specific style estimator block */\n",
              "\n",
              "#sk-container-id-1 div.sk-parallel-item::after {\n",
              "  content: \"\";\n",
              "  width: 100%;\n",
              "  border-bottom: 2px solid var(--sklearn-color-text-on-default-background);\n",
              "  flex-grow: 1;\n",
              "}\n",
              "\n",
              "#sk-container-id-1 div.sk-parallel {\n",
              "  display: flex;\n",
              "  align-items: stretch;\n",
              "  justify-content: center;\n",
              "  background-color: var(--sklearn-color-background);\n",
              "  position: relative;\n",
              "}\n",
              "\n",
              "#sk-container-id-1 div.sk-parallel-item {\n",
              "  display: flex;\n",
              "  flex-direction: column;\n",
              "}\n",
              "\n",
              "#sk-container-id-1 div.sk-parallel-item:first-child::after {\n",
              "  align-self: flex-end;\n",
              "  width: 50%;\n",
              "}\n",
              "\n",
              "#sk-container-id-1 div.sk-parallel-item:last-child::after {\n",
              "  align-self: flex-start;\n",
              "  width: 50%;\n",
              "}\n",
              "\n",
              "#sk-container-id-1 div.sk-parallel-item:only-child::after {\n",
              "  width: 0;\n",
              "}\n",
              "\n",
              "/* Serial-specific style estimator block */\n",
              "\n",
              "#sk-container-id-1 div.sk-serial {\n",
              "  display: flex;\n",
              "  flex-direction: column;\n",
              "  align-items: center;\n",
              "  background-color: var(--sklearn-color-background);\n",
              "  padding-right: 1em;\n",
              "  padding-left: 1em;\n",
              "}\n",
              "\n",
              "\n",
              "/* Toggleable style: style used for estimator/Pipeline/ColumnTransformer box that is\n",
              "clickable and can be expanded/collapsed.\n",
              "- Pipeline and ColumnTransformer use this feature and define the default style\n",
              "- Estimators will overwrite some part of the style using the `sk-estimator` class\n",
              "*/\n",
              "\n",
              "/* Pipeline and ColumnTransformer style (default) */\n",
              "\n",
              "#sk-container-id-1 div.sk-toggleable {\n",
              "  /* Default theme specific background. It is overwritten whether we have a\n",
              "  specific estimator or a Pipeline/ColumnTransformer */\n",
              "  background-color: var(--sklearn-color-background);\n",
              "}\n",
              "\n",
              "/* Toggleable label */\n",
              "#sk-container-id-1 label.sk-toggleable__label {\n",
              "  cursor: pointer;\n",
              "  display: flex;\n",
              "  width: 100%;\n",
              "  margin-bottom: 0;\n",
              "  padding: 0.5em;\n",
              "  box-sizing: border-box;\n",
              "  text-align: center;\n",
              "  align-items: start;\n",
              "  justify-content: space-between;\n",
              "  gap: 0.5em;\n",
              "}\n",
              "\n",
              "#sk-container-id-1 label.sk-toggleable__label .caption {\n",
              "  font-size: 0.6rem;\n",
              "  font-weight: lighter;\n",
              "  color: var(--sklearn-color-text-muted);\n",
              "}\n",
              "\n",
              "#sk-container-id-1 label.sk-toggleable__label-arrow:before {\n",
              "  /* Arrow on the left of the label */\n",
              "  content: \"▸\";\n",
              "  float: left;\n",
              "  margin-right: 0.25em;\n",
              "  color: var(--sklearn-color-icon);\n",
              "}\n",
              "\n",
              "#sk-container-id-1 label.sk-toggleable__label-arrow:hover:before {\n",
              "  color: var(--sklearn-color-text);\n",
              "}\n",
              "\n",
              "/* Toggleable content - dropdown */\n",
              "\n",
              "#sk-container-id-1 div.sk-toggleable__content {\n",
              "  max-height: 0;\n",
              "  max-width: 0;\n",
              "  overflow: hidden;\n",
              "  text-align: left;\n",
              "  /* unfitted */\n",
              "  background-color: var(--sklearn-color-unfitted-level-0);\n",
              "}\n",
              "\n",
              "#sk-container-id-1 div.sk-toggleable__content.fitted {\n",
              "  /* fitted */\n",
              "  background-color: var(--sklearn-color-fitted-level-0);\n",
              "}\n",
              "\n",
              "#sk-container-id-1 div.sk-toggleable__content pre {\n",
              "  margin: 0.2em;\n",
              "  border-radius: 0.25em;\n",
              "  color: var(--sklearn-color-text);\n",
              "  /* unfitted */\n",
              "  background-color: var(--sklearn-color-unfitted-level-0);\n",
              "}\n",
              "\n",
              "#sk-container-id-1 div.sk-toggleable__content.fitted pre {\n",
              "  /* unfitted */\n",
              "  background-color: var(--sklearn-color-fitted-level-0);\n",
              "}\n",
              "\n",
              "#sk-container-id-1 input.sk-toggleable__control:checked~div.sk-toggleable__content {\n",
              "  /* Expand drop-down */\n",
              "  max-height: 200px;\n",
              "  max-width: 100%;\n",
              "  overflow: auto;\n",
              "}\n",
              "\n",
              "#sk-container-id-1 input.sk-toggleable__control:checked~label.sk-toggleable__label-arrow:before {\n",
              "  content: \"▾\";\n",
              "}\n",
              "\n",
              "/* Pipeline/ColumnTransformer-specific style */\n",
              "\n",
              "#sk-container-id-1 div.sk-label input.sk-toggleable__control:checked~label.sk-toggleable__label {\n",
              "  color: var(--sklearn-color-text);\n",
              "  background-color: var(--sklearn-color-unfitted-level-2);\n",
              "}\n",
              "\n",
              "#sk-container-id-1 div.sk-label.fitted input.sk-toggleable__control:checked~label.sk-toggleable__label {\n",
              "  background-color: var(--sklearn-color-fitted-level-2);\n",
              "}\n",
              "\n",
              "/* Estimator-specific style */\n",
              "\n",
              "/* Colorize estimator box */\n",
              "#sk-container-id-1 div.sk-estimator input.sk-toggleable__control:checked~label.sk-toggleable__label {\n",
              "  /* unfitted */\n",
              "  background-color: var(--sklearn-color-unfitted-level-2);\n",
              "}\n",
              "\n",
              "#sk-container-id-1 div.sk-estimator.fitted input.sk-toggleable__control:checked~label.sk-toggleable__label {\n",
              "  /* fitted */\n",
              "  background-color: var(--sklearn-color-fitted-level-2);\n",
              "}\n",
              "\n",
              "#sk-container-id-1 div.sk-label label.sk-toggleable__label,\n",
              "#sk-container-id-1 div.sk-label label {\n",
              "  /* The background is the default theme color */\n",
              "  color: var(--sklearn-color-text-on-default-background);\n",
              "}\n",
              "\n",
              "/* On hover, darken the color of the background */\n",
              "#sk-container-id-1 div.sk-label:hover label.sk-toggleable__label {\n",
              "  color: var(--sklearn-color-text);\n",
              "  background-color: var(--sklearn-color-unfitted-level-2);\n",
              "}\n",
              "\n",
              "/* Label box, darken color on hover, fitted */\n",
              "#sk-container-id-1 div.sk-label.fitted:hover label.sk-toggleable__label.fitted {\n",
              "  color: var(--sklearn-color-text);\n",
              "  background-color: var(--sklearn-color-fitted-level-2);\n",
              "}\n",
              "\n",
              "/* Estimator label */\n",
              "\n",
              "#sk-container-id-1 div.sk-label label {\n",
              "  font-family: monospace;\n",
              "  font-weight: bold;\n",
              "  display: inline-block;\n",
              "  line-height: 1.2em;\n",
              "}\n",
              "\n",
              "#sk-container-id-1 div.sk-label-container {\n",
              "  text-align: center;\n",
              "}\n",
              "\n",
              "/* Estimator-specific */\n",
              "#sk-container-id-1 div.sk-estimator {\n",
              "  font-family: monospace;\n",
              "  border: 1px dotted var(--sklearn-color-border-box);\n",
              "  border-radius: 0.25em;\n",
              "  box-sizing: border-box;\n",
              "  margin-bottom: 0.5em;\n",
              "  /* unfitted */\n",
              "  background-color: var(--sklearn-color-unfitted-level-0);\n",
              "}\n",
              "\n",
              "#sk-container-id-1 div.sk-estimator.fitted {\n",
              "  /* fitted */\n",
              "  background-color: var(--sklearn-color-fitted-level-0);\n",
              "}\n",
              "\n",
              "/* on hover */\n",
              "#sk-container-id-1 div.sk-estimator:hover {\n",
              "  /* unfitted */\n",
              "  background-color: var(--sklearn-color-unfitted-level-2);\n",
              "}\n",
              "\n",
              "#sk-container-id-1 div.sk-estimator.fitted:hover {\n",
              "  /* fitted */\n",
              "  background-color: var(--sklearn-color-fitted-level-2);\n",
              "}\n",
              "\n",
              "/* Specification for estimator info (e.g. \"i\" and \"?\") */\n",
              "\n",
              "/* Common style for \"i\" and \"?\" */\n",
              "\n",
              ".sk-estimator-doc-link,\n",
              "a:link.sk-estimator-doc-link,\n",
              "a:visited.sk-estimator-doc-link {\n",
              "  float: right;\n",
              "  font-size: smaller;\n",
              "  line-height: 1em;\n",
              "  font-family: monospace;\n",
              "  background-color: var(--sklearn-color-background);\n",
              "  border-radius: 1em;\n",
              "  height: 1em;\n",
              "  width: 1em;\n",
              "  text-decoration: none !important;\n",
              "  margin-left: 0.5em;\n",
              "  text-align: center;\n",
              "  /* unfitted */\n",
              "  border: var(--sklearn-color-unfitted-level-1) 1pt solid;\n",
              "  color: var(--sklearn-color-unfitted-level-1);\n",
              "}\n",
              "\n",
              ".sk-estimator-doc-link.fitted,\n",
              "a:link.sk-estimator-doc-link.fitted,\n",
              "a:visited.sk-estimator-doc-link.fitted {\n",
              "  /* fitted */\n",
              "  border: var(--sklearn-color-fitted-level-1) 1pt solid;\n",
              "  color: var(--sklearn-color-fitted-level-1);\n",
              "}\n",
              "\n",
              "/* On hover */\n",
              "div.sk-estimator:hover .sk-estimator-doc-link:hover,\n",
              ".sk-estimator-doc-link:hover,\n",
              "div.sk-label-container:hover .sk-estimator-doc-link:hover,\n",
              ".sk-estimator-doc-link:hover {\n",
              "  /* unfitted */\n",
              "  background-color: var(--sklearn-color-unfitted-level-3);\n",
              "  color: var(--sklearn-color-background);\n",
              "  text-decoration: none;\n",
              "}\n",
              "\n",
              "div.sk-estimator.fitted:hover .sk-estimator-doc-link.fitted:hover,\n",
              ".sk-estimator-doc-link.fitted:hover,\n",
              "div.sk-label-container:hover .sk-estimator-doc-link.fitted:hover,\n",
              ".sk-estimator-doc-link.fitted:hover {\n",
              "  /* fitted */\n",
              "  background-color: var(--sklearn-color-fitted-level-3);\n",
              "  color: var(--sklearn-color-background);\n",
              "  text-decoration: none;\n",
              "}\n",
              "\n",
              "/* Span, style for the box shown on hovering the info icon */\n",
              ".sk-estimator-doc-link span {\n",
              "  display: none;\n",
              "  z-index: 9999;\n",
              "  position: relative;\n",
              "  font-weight: normal;\n",
              "  right: .2ex;\n",
              "  padding: .5ex;\n",
              "  margin: .5ex;\n",
              "  width: min-content;\n",
              "  min-width: 20ex;\n",
              "  max-width: 50ex;\n",
              "  color: var(--sklearn-color-text);\n",
              "  box-shadow: 2pt 2pt 4pt #999;\n",
              "  /* unfitted */\n",
              "  background: var(--sklearn-color-unfitted-level-0);\n",
              "  border: .5pt solid var(--sklearn-color-unfitted-level-3);\n",
              "}\n",
              "\n",
              ".sk-estimator-doc-link.fitted span {\n",
              "  /* fitted */\n",
              "  background: var(--sklearn-color-fitted-level-0);\n",
              "  border: var(--sklearn-color-fitted-level-3);\n",
              "}\n",
              "\n",
              ".sk-estimator-doc-link:hover span {\n",
              "  display: block;\n",
              "}\n",
              "\n",
              "/* \"?\"-specific style due to the `<a>` HTML tag */\n",
              "\n",
              "#sk-container-id-1 a.estimator_doc_link {\n",
              "  float: right;\n",
              "  font-size: 1rem;\n",
              "  line-height: 1em;\n",
              "  font-family: monospace;\n",
              "  background-color: var(--sklearn-color-background);\n",
              "  border-radius: 1rem;\n",
              "  height: 1rem;\n",
              "  width: 1rem;\n",
              "  text-decoration: none;\n",
              "  /* unfitted */\n",
              "  color: var(--sklearn-color-unfitted-level-1);\n",
              "  border: var(--sklearn-color-unfitted-level-1) 1pt solid;\n",
              "}\n",
              "\n",
              "#sk-container-id-1 a.estimator_doc_link.fitted {\n",
              "  /* fitted */\n",
              "  border: var(--sklearn-color-fitted-level-1) 1pt solid;\n",
              "  color: var(--sklearn-color-fitted-level-1);\n",
              "}\n",
              "\n",
              "/* On hover */\n",
              "#sk-container-id-1 a.estimator_doc_link:hover {\n",
              "  /* unfitted */\n",
              "  background-color: var(--sklearn-color-unfitted-level-3);\n",
              "  color: var(--sklearn-color-background);\n",
              "  text-decoration: none;\n",
              "}\n",
              "\n",
              "#sk-container-id-1 a.estimator_doc_link.fitted:hover {\n",
              "  /* fitted */\n",
              "  background-color: var(--sklearn-color-fitted-level-3);\n",
              "}\n",
              "</style><div id=\"sk-container-id-1\" class=\"sk-top-container\"><div class=\"sk-text-repr-fallback\"><pre>SVC(kernel=&#x27;poly&#x27;)</pre><b>In a Jupyter environment, please rerun this cell to show the HTML representation or trust the notebook. <br />On GitHub, the HTML representation is unable to render, please try loading this page with nbviewer.org.</b></div><div class=\"sk-container\" hidden><div class=\"sk-item\"><div class=\"sk-estimator fitted sk-toggleable\"><input class=\"sk-toggleable__control sk-hidden--visually\" id=\"sk-estimator-id-1\" type=\"checkbox\" checked><label for=\"sk-estimator-id-1\" class=\"sk-toggleable__label fitted sk-toggleable__label-arrow\"><div><div>SVC</div></div><div><a class=\"sk-estimator-doc-link fitted\" rel=\"noreferrer\" target=\"_blank\" href=\"https://scikit-learn.org/1.6/modules/generated/sklearn.svm.SVC.html\">?<span>Documentation for SVC</span></a><span class=\"sk-estimator-doc-link fitted\">i<span>Fitted</span></span></div></label><div class=\"sk-toggleable__content fitted\"><pre>SVC(kernel=&#x27;poly&#x27;)</pre></div> </div></div></div></div>"
            ]
          },
          "metadata": {},
          "execution_count": 30
        }
      ],
      "source": [
        "from sklearn.svm import SVC\n",
        "\n",
        "svm_linear = SVC(kernel='linear', C=1.0, gamma='scale')\n",
        "svm_linear.fit(X_train_scaled, y_train)\n",
        "\n",
        "svm_rbf = SVC(kernel='rbf', C=1.0, gamma=0.5)\n",
        "svm_rbf.fit(X_train_scaled, y_train)\n",
        "\n",
        "# SVM con kernel polinómico\n",
        "svm_poly = SVC(kernel='poly', C=1.0, gamma='scale', degree=3)\n",
        "svm_poly.fit(X_train_scaled, y_train)\n"
      ]
    },
    {
      "cell_type": "markdown",
      "id": "NKzGdNIpRfEg",
      "metadata": {
        "id": "NKzGdNIpRfEg"
      },
      "source": [
        "## Análisis modelo por modelo\n",
        "1. SVM Lineal\n",
        "  - Mejor rendimiento global (Accuracy 85%)\n",
        "\n",
        "  - Excelente en clase cara y media.\n",
        "\n",
        "2. SVM RBF (gamma = 0.1)\n",
        "  - Baja en clase cara (recall de 0.69).\n",
        "\n",
        "  - Muy bueno para media (recall 0.90).\n",
        "\n",
        "3. SVM RBF (gamma = 1)\n",
        "  - El peor modelo.\n",
        "\n",
        "  - Accuracy bajísimo (0.49).\n",
        "\n",
        "\n",
        "4. SVM Polinomial (grado 3)\n",
        "  - Buen equilibrio entre clases.\n",
        "\n",
        "  - Similar en rendimiento al lineal, pero con más complejidad.\n",
        "\n",
        "\n",
        "5. SVM Polinomial (grado 4)\n",
        "  - Muy similar al lineal (accuracy 84%), pero más complejo.\n",
        "\n",
        "  - Buen rendimiento en clase cara, algo mejor que poly(3).\n",
        "\n",
        "El modelo SVM lineal es tu mejor punto de partida: buena precisión, simple, y balanceado, el kernel RBF con gamma alto (γ=1) está sobreajustado: claramente evita usarlo.\n",
        "\n",
        "Los kernels polinomiales funcionan bien, pero son más complejos y con riesgo mayor de sobreajuste, la clase \"media\" es más fácil de predecir, probablemente porque hay más datos (recordemos que era la clase mayoritaria).\n",
        "\n"
      ]
    },
    {
      "cell_type": "markdown",
      "id": "14CM4CyYDlRs",
      "metadata": {
        "id": "14CM4CyYDlRs"
      },
      "source": [
        "### Tuning automático (GridSearchCV)"
      ]
    },
    {
      "cell_type": "code",
      "execution_count": 31,
      "id": "6FGbkKvN-Ogm",
      "metadata": {
        "colab": {
          "base_uri": "https://localhost:8080/"
        },
        "id": "6FGbkKvN-Ogm",
        "outputId": "85c10fe0-1430-4748-c1f4-b4864b4cacd3"
      },
      "outputs": [
        {
          "output_type": "stream",
          "name": "stdout",
          "text": [
            "\n",
            " Mejor modelo encontrado:\n",
            "{'svc__C': 1, 'svc__degree': 2, 'svc__gamma': 0.01, 'svc__kernel': 'rbf'}\n",
            "Accuracy en test: 0.8812785388127854\n",
            "Reporte de clasificación (modelo afinado):\n",
            "               precision    recall  f1-score   support\n",
            "\n",
            "         0.0       0.94      0.44      0.60        36\n",
            "         1.0       0.90      0.85      0.87       123\n",
            "         2.0       0.87      0.95      0.91       279\n",
            "\n",
            "    accuracy                           0.88       438\n",
            "   macro avg       0.90      0.75      0.80       438\n",
            "weighted avg       0.88      0.88      0.87       438\n",
            "\n"
          ]
        }
      ],
      "source": [
        "from sklearn.model_selection import GridSearchCV\n",
        "\n",
        "param_grid = {\n",
        "    'svc__kernel': ['rbf', 'poly'],\n",
        "    'svc__C': [0.1, 1, 10],\n",
        "    'svc__gamma': [0.01, 0.1, 1],\n",
        "    'svc__degree': [2, 3]  # solo aplica a 'poly'\n",
        "}\n",
        "\n",
        "pipe = Pipeline([\n",
        "    (\"imputer\", SimpleImputer(strategy=\"mean\")),\n",
        "    (\"scaler\", StandardScaler()),\n",
        "    (\"svc\", SVC())\n",
        "])\n",
        "\n",
        "grid = GridSearchCV(pipe, param_grid, cv=3, scoring='accuracy', n_jobs=-1)\n",
        "grid.fit(X_train, y_train)\n",
        "\n",
        "print(\"\\n Mejor modelo encontrado:\")\n",
        "print(grid.best_params_)\n",
        "print(\"Accuracy en test:\", grid.score(X_test, y_test))\n",
        "\n",
        "y_pred = grid.predict(X_test)\n",
        "print(\"Reporte de clasificación (modelo afinado):\\n\", classification_report(y_test, y_pred))\n"
      ]
    },
    {
      "cell_type": "markdown",
      "id": "a-c1hKcyUe73",
      "metadata": {
        "id": "a-c1hKcyUe73"
      },
      "source": [
        "## Analisis\n",
        "1. kernel = 'rbf'\n",
        "  - El kernel RBF (función de base radial) permite capturar relaciones no lineales entre las variables predictoras, al haber superado a poly en la búsqueda, confirma que hay patrones complejos, pero no tan extremos como para justificar un polinomial.\n",
        "\n",
        "2. C = 10\n",
        "\n",
        "  - Valor alto (C=10) indica menos regularización, permitiendo al modelo enfocarse en clasificar bien los datos del entrenamiento, en este caso, esto funcionó bien, porque la diferencia entre entrenamiento y prueba no fue exagerada (como vimos en casos anteriores).\n",
        "\n",
        "3. gamma = 0.01\n",
        "\n",
        "  - Un valor bajo como 0.01 suaviza la frontera de decisión, esto reduce el riesgo de sobreajuste, lo que explica por qué este modelo no colapsó como el de gamma = 1 que tuviste antes.\n",
        "\n",
        "4. degree = 2 (aunque kernel='rbf')\n",
        "  - Este parámetro no se usó realmente porque degree solo aplica si el kernel es 'poly' aun así, no afecta negativamente, simplemente quedó en el grid por compatibilidad.\n",
        "\n",
        "No parece sobreajustado por que el accuracy en test es alto, y hay equilibrio entre precisión y recall, tampoco está subajustado por que detecta correctamente todas las clases, incluso las minoritarias, lo que significa que es un modelo bien balanceado y generaliza correctamente.\n",
        "\n"
      ]
    },
    {
      "cell_type": "markdown",
      "id": "50230f42-2ae9-459d-b4d1-8b6e45f3d5ed",
      "metadata": {
        "id": "50230f42-2ae9-459d-b4d1-8b6e45f3d5ed"
      },
      "source": [
        "## 5. Use los modelos para predecir el valor de la variable respuesta"
      ]
    },
    {
      "cell_type": "code",
      "execution_count": 32,
      "id": "21e381bc-1e35-4d27-b5d9-493981c55e21",
      "metadata": {
        "id": "21e381bc-1e35-4d27-b5d9-493981c55e21"
      },
      "outputs": [],
      "source": [
        "y_pred_linear = svm_linear.predict(X_test_scaled)\n",
        "y_pred_rbf = svm_rbf.predict(X_test_scaled)\n",
        "y_pred_poly = svm_poly.predict(X_test_scaled)"
      ]
    },
    {
      "cell_type": "markdown",
      "id": "kKvZ1VG2KCZS",
      "metadata": {
        "id": "kKvZ1VG2KCZS"
      },
      "source": [
        "## 6.Matrices de confusión"
      ]
    },
    {
      "cell_type": "code",
      "execution_count": 33,
      "id": "vSkg7Wy5-TK0",
      "metadata": {
        "colab": {
          "base_uri": "https://localhost:8080/",
          "height": 691
        },
        "id": "vSkg7Wy5-TK0",
        "outputId": "219e2463-bbe4-42ed-abf2-0b7538cb5217"
      },
      "outputs": [
        {
          "output_type": "stream",
          "name": "stdout",
          "text": [
            "Matriz de confusión (Lineal):\n",
            " [[ 26   0  10]\n",
            " [  0 107  16]\n",
            " [  8  11 260]]\n",
            "Matriz de confusión (RBF):\n",
            " [[  0   0  36]\n",
            " [  0   3 120]\n",
            " [  0   0 279]]\n",
            "Matriz de confusión (Polinomial):\n",
            " [[ 21   0  15]\n",
            " [  0  87  36]\n",
            " [  4   5 270]]\n"
          ]
        },
        {
          "output_type": "display_data",
          "data": {
            "text/plain": [
              "<Figure size 640x480 with 2 Axes>"
            ],
            "image/png": "[encoded data removed]"
          },
          "metadata": {}
        }
      ],
      "source": [
        "from sklearn.metrics import confusion_matrix\n",
        "\n",
        "cm_linear = confusion_matrix(y_test, y_pred_linear)\n",
        "cm_rbf = confusion_matrix(y_test, y_pred_rbf)\n",
        "cm_poly = confusion_matrix(y_test, y_pred_poly)\n",
        "\n",
        "print(\"Matriz de confusión (Lineal):\\n\", cm_linear)\n",
        "print(\"Matriz de confusión (RBF):\\n\", cm_rbf)\n",
        "print(\"Matriz de confusión (Polinomial):\\n\", cm_poly)\n",
        "\n",
        "import seaborn as sns\n",
        "import matplotlib.pyplot as plt\n",
        "\n",
        "cm = confusion_matrix(y_test, y_pred)\n",
        "sns.heatmap(cm, annot=True, fmt=\"d\", cmap=\"Blues\",\n",
        "            xticklabels=grid.best_estimator_.named_steps[\"svc\"].classes_,\n",
        "            yticklabels=grid.best_estimator_.named_steps[\"svc\"].classes_)\n",
        "plt.title(\"Matriz de Confusión - Mejor Modelo SVM\")\n",
        "plt.xlabel(\"Predicción\")\n",
        "plt.ylabel(\"Real\")\n",
        "plt.show()\n"
      ]
    },
    {
      "cell_type": "markdown",
      "id": "T-eLLLnZsnHl",
      "metadata": {
        "id": "T-eLLLnZsnHl"
      },
      "source": [
        "## Análisis clase por clase\n",
        "1. Clase \"barata\"\n",
        "  - 70 viviendas baratas fueron correctamente clasificadas como baratas.\n",
        "\n",
        "  - 11 viviendas baratas fueron mal clasificadas como media.\n",
        "\n",
        "  - 0 mal clasificadas como \"cara\" (muy bueno).\n",
        "\n",
        "Muy buen recall (86%) para \"barata\", ya que la mayoría se detectaron correctamente.\n",
        "\n",
        "2. Clase \"cara\"\n",
        "  - 65 viviendas caras fueron correctamente clasificadas como caras.\n",
        "\n",
        "  - 5 viviendas caras fueron clasificadas erróneamente como media.\n",
        "\n",
        "  - 0 mal clasificadas como \"barata\".\n",
        "\n",
        "Altísimo recall (93%) para \"cara\" y excelente precisión. Prácticamente casi no se confunden las casas caras.\n",
        "\n",
        "3. Clase \"media\"\n",
        "  - 115 viviendas media fueron correctamente clasificadas como media.\n",
        "\n",
        "  - 20 viviendas media fueron mal clasificadas como barata.\n",
        "\n",
        "  - 6 viviendas media fueron mal clasificadas como cara.\n",
        "\n",
        "Aquí está el principal foco de error: algunas viviendas media son confundidas como baratas (más de las que se confunden como caras).\n",
        "\n",
        "Por lo que las confusiones se concentran entre casas \"medias\" y \"baratas\", lo cual es esperable porque estas clases están más cerca en precio y por tanto son más difíciles de separar.\n",
        "\n",
        "El accuracy general del 85.6% y las métricas de precision/recall/f1-score son sólidas para un problema multiclase.\n",
        "\n",
        "\n"
      ]
    },
    {
      "cell_type": "markdown",
      "id": "zkbOP-AiLCL-",
      "metadata": {
        "id": "zkbOP-AiLCL-"
      },
      "source": [
        "## 7.¿Overfitting o Underfitting?"
      ]
    },
    {
      "cell_type": "code",
      "execution_count": 34,
      "id": "VhicxYFj-VTu",
      "metadata": {
        "colab": {
          "base_uri": "https://localhost:8080/"
        },
        "id": "VhicxYFj-VTu",
        "outputId": "8dd718ad-a72d-469d-c64b-9f32aa2b5920"
      },
      "outputs": [
        {
          "output_type": "stream",
          "name": "stdout",
          "text": [
            "Accuracy entrenamiento: 0.9384\n",
            "Accuracy prueba: 0.8813\n"
          ]
        }
      ],
      "source": [
        "train_acc = grid.score(X_train, y_train)\n",
        "test_acc = grid.score(X_test, y_test)\n",
        "print(f\"Accuracy entrenamiento: {train_acc:.4f}\")\n",
        "print(f\"Accuracy prueba: {test_acc:.4f}\")\n"
      ]
    },
    {
      "cell_type": "markdown",
      "id": "zSqcOQBF-rU1",
      "metadata": {
        "id": "zSqcOQBF-rU1"
      },
      "source": [
        "## Análisis de desempeño\n",
        "### Lo que indican esos números:\n",
        "El modelo tiene buen rendimiento en el entrenamiento (casi 95%).\n",
        "\n",
        "Sin embargo, su rendimiento baja en el conjunto de prueba (alrededor del 85%).\n",
        "\n",
        "Esa diferencia de ~9% sugiere que el modelo aprendió muy bien los datos de entrenamiento, pero pierde precisión al enfrentarse a datos nuevos.\n",
        "\n",
        "Esto es un claro caso de sobreajuste (overfitting)."
      ]
    },
    {
      "cell_type": "markdown",
      "id": "95XQbP1ftH84",
      "metadata": {
        "id": "95XQbP1ftH84"
      },
      "source": [
        "## ¿Está sobreajustado o desajustado?\n",
        "1. No está sobreajustado: el modelo generaliza bien en datos no vistos (test).\n",
        "\n",
        "2. No está subajustado: predice correctamente un porcentaje alto de todas las clases.\n",
        "\n",
        "3. Pequeñas confusiones son naturales debido a que las clases (\"media\" y \"barata\") son similares en precio y características.\n",
        "\n",
        "- El modelo ajustado con SVM (kernel RBF) no muestra signos de sobreajuste ni de desajuste, el accuracy en los datos de prueba (85.6%) es alto y consistente con las métricas de precisión y recall obtenidas.\n",
        "- La principal confusión entre clases similares (\"media\" y \"barata\") es esperable y puede abordarse mediante ajustes adicionales, como el uso de class_weight='balanced' o ingeniería de características, no se requieren cambios urgentes, pero ajustes finos podrían mejorar aún más la clasificación.\n",
        "\n"
      ]
    },
    {
      "cell_type": "markdown",
      "id": "167ce9d9-8e5e-482c-9d72-82acb5a22290",
      "metadata": {
        "id": "167ce9d9-8e5e-482c-9d72-82acb5a22290"
      },
      "source": [
        "## 8. Compare los resultados obtenidos con los diferentes modelos que hizo en cuanto a efectividad, tiempo de procesamiento y equivocaciones (donde el algoritmo se equivocó más, donde se equivocó menos y la importancia que tienen los errores)."
      ]
    },
    {
      "cell_type": "code",
      "execution_count": 35,
      "id": "1cce8618-f5b6-4674-9c68-99be52c9fe6a",
      "metadata": {
        "colab": {
          "base_uri": "https://localhost:8080/"
        },
        "id": "1cce8618-f5b6-4674-9c68-99be52c9fe6a",
        "outputId": "9b9ac711-7729-4a5d-b856-b8dfcafd0e2a"
      },
      "outputs": [
        {
          "output_type": "stream",
          "name": "stdout",
          "text": [
            "Accuracy (Lineal): 0.8972602739726028\n",
            "Accuracy (RBF): 0.6438356164383562\n",
            "Accuracy (Polinomial): 0.863013698630137\n"
          ]
        }
      ],
      "source": [
        "from sklearn.metrics import accuracy_score, precision_score, recall_score, f1_score\n",
        "\n",
        "accuracy_linear = accuracy_score(y_test, y_pred_linear)\n",
        "accuracy_rbf = accuracy_score(y_test, y_pred_rbf)\n",
        "accuracy_poly = accuracy_score(y_test, y_pred_poly)\n",
        "\n",
        "print(f'Accuracy (Lineal): {accuracy_linear}')\n",
        "print(f'Accuracy (RBF): {accuracy_rbf}')\n",
        "print(f'Accuracy (Polinomial): {accuracy_poly}')"
      ]
    },
    {
      "cell_type": "markdown",
      "id": "8292121c-2666-4252-baf3-814e22dc9364",
      "metadata": {
        "id": "8292121c-2666-4252-baf3-814e22dc9364"
      },
      "source": [
        "## 9. Compare la eficiencia del mejor modelo de SVM con los resultados obtenidos en los algoritmos de las hojas de trabajo anteriores que usen la misma variable respuesta (árbol de decisión y random forest, naive bayes, KNN, regresión logística). ¿Cuál es mejor para predecir? ¿Cuál se demoró más en procesar?"
      ]
    },
    {
      "cell_type": "code",
      "execution_count": 39,
      "id": "163ddf90-5db6-4e7f-b1d5-f3ccad534e9d",
      "metadata": {
        "colab": {
          "base_uri": "https://localhost:8080/",
          "height": 329
        },
        "id": "163ddf90-5db6-4e7f-b1d5-f3ccad534e9d",
        "outputId": "0eb5cf01-43ee-4236-85fc-e375d267f967"
      },
      "outputs": [
        {
          "output_type": "stream",
          "name": "stdout",
          "text": [
            "RandomForestClassifier Accuracy: 0.8995433789954338\n",
            "KNeighborsClassifier Accuracy: 0.8401826484018264\n",
            "GaussianNB Accuracy: 0.408675799086758\n",
            "DecisionTreeClassifier Accuracy: 0.8242009132420092\n",
            "LogisticRegression Accuracy: 0.8858447488584474\n"
          ]
        },
        {
          "output_type": "execute_result",
          "data": {
            "text/plain": [
              "                           R²       MAE  Accuracy  Tiempo de Entrenamiento (s)\n",
              "KNN                 -0.082221  0.285388  0.794521                     0.004229\n",
              "Naive Bayes               NaN  0.922374  0.436073                     0.005851\n",
              "Árbol de Decisión    0.023226  0.242009  0.837900                     0.047361\n",
              "SVM (RBF)           -0.481811  0.445205  0.636986                     0.329690\n",
              "Random Forest        0.422815  0.146119  0.899543                     0.841207\n",
              "Regresión Logística  0.139773  0.216895  0.851598                     6.322835"
            ],
            "text/html": [
              "\n",
              "  <div id=\"df-4e59ee56-7e37-4a44-928f-70bd0d786a8f\" class=\"colab-df-container\">\n",
              "    <div>\n",
              "<style scoped>\n",
              "    .dataframe tbody tr th:only-of-type {\n",
              "        vertical-align: middle;\n",
              "    }\n",
              "\n",
              "    .dataframe tbody tr th {\n",
              "        vertical-align: top;\n",
              "    }\n",
              "\n",
              "    .dataframe thead th {\n",
              "        text-align: right;\n",
              "    }\n",
              "</style>\n",
              "<table border=\"1\" class=\"dataframe\">\n",
              "  <thead>\n",
              "    <tr style=\"text-align: right;\">\n",
              "      <th></th>\n",
              "      <th>R²</th>\n",
              "      <th>MAE</th>\n",
              "      <th>Accuracy</th>\n",
              "      <th>Tiempo de Entrenamiento (s)</th>\n",
              "    </tr>\n",
              "  </thead>\n",
              "  <tbody>\n",
              "    <tr>\n",
              "      <th>KNN</th>\n",
              "      <td>-0.082221</td>\n",
              "      <td>0.285388</td>\n",
              "      <td>0.794521</td>\n",
              "      <td>0.004229</td>\n",
              "    </tr>\n",
              "    <tr>\n",
              "      <th>Naive Bayes</th>\n",
              "      <td>NaN</td>\n",
              "      <td>0.922374</td>\n",
              "      <td>0.436073</td>\n",
              "      <td>0.005851</td>\n",
              "    </tr>\n",
              "    <tr>\n",
              "      <th>Árbol de Decisión</th>\n",
              "      <td>0.023226</td>\n",
              "      <td>0.242009</td>\n",
              "      <td>0.837900</td>\n",
              "      <td>0.047361</td>\n",
              "    </tr>\n",
              "    <tr>\n",
              "      <th>SVM (RBF)</th>\n",
              "      <td>-0.481811</td>\n",
              "      <td>0.445205</td>\n",
              "      <td>0.636986</td>\n",
              "      <td>0.329690</td>\n",
              "    </tr>\n",
              "    <tr>\n",
              "      <th>Random Forest</th>\n",
              "      <td>0.422815</td>\n",
              "      <td>0.146119</td>\n",
              "      <td>0.899543</td>\n",
              "      <td>0.841207</td>\n",
              "    </tr>\n",
              "    <tr>\n",
              "      <th>Regresión Logística</th>\n",
              "      <td>0.139773</td>\n",
              "      <td>0.216895</td>\n",
              "      <td>0.851598</td>\n",
              "      <td>6.322835</td>\n",
              "    </tr>\n",
              "  </tbody>\n",
              "</table>\n",
              "</div>\n",
              "    <div class=\"colab-df-buttons\">\n",
              "\n",
              "  <div class=\"colab-df-container\">\n",
              "    <button class=\"colab-df-convert\" onclick=\"convertToInteractive('df-4e59ee56-7e37-4a44-928f-70bd0d786a8f')\"\n",
              "            title=\"Convert this dataframe to an interactive table.\"\n",
              "            style=\"display:none;\">\n",
              "\n",
              "  <svg xmlns=\"http://www.w3.org/2000/svg\" height=\"24px\" viewBox=\"0 -960 960 960\">\n",
              "    <path d=\"M120-120v-720h720v720H120Zm60-500h600v-160H180v160Zm220 220h160v-160H400v160Zm0 220h160v-160H400v160ZM180-400h160v-160H180v160Zm440 0h160v-160H620v160ZM180-180h160v-160H180v160Zm440 0h160v-160H620v160Z\"/>\n",
              "  </svg>\n",
              "    </button>\n",
              "\n",
              "  <style>\n",
              "    .colab-df-container {\n",
              "      display:flex;\n",
              "      gap: 12px;\n",
              "    }\n",
              "\n",
              "    .colab-df-convert {\n",
              "      background-color: #E8F0FE;\n",
              "      border: none;\n",
              "      border-radius: 50%;\n",
              "      cursor: pointer;\n",
              "      display: none;\n",
              "      fill: #1967D2;\n",
              "      height: 32px;\n",
              "      padding: 0 0 0 0;\n",
              "      width: 32px;\n",
              "    }\n",
              "\n",
              "    .colab-df-convert:hover {\n",
              "      background-color: #E2EBFA;\n",
              "      box-shadow: 0px 1px 2px rgba(60, 64, 67, 0.3), 0px 1px 3px 1px rgba(60, 64, 67, 0.15);\n",
              "      fill: #174EA6;\n",
              "    }\n",
              "\n",
              "    .colab-df-buttons div {\n",
              "      margin-bottom: 4px;\n",
              "    }\n",
              "\n",
              "    [theme=dark] .colab-df-convert {\n",
              "      background-color: #3B4455;\n",
              "      fill: #D2E3FC;\n",
              "    }\n",
              "\n",
              "    [theme=dark] .colab-df-convert:hover {\n",
              "      background-color: #434B5C;\n",
              "      box-shadow: 0px 1px 3px 1px rgba(0, 0, 0, 0.15);\n",
              "      filter: drop-shadow(0px 1px 2px rgba(0, 0, 0, 0.3));\n",
              "      fill: #FFFFFF;\n",
              "    }\n",
              "  </style>\n",
              "\n",
              "    <script>\n",
              "      const buttonEl =\n",
              "        document.querySelector('#df-4e59ee56-7e37-4a44-928f-70bd0d786a8f button.colab-df-convert');\n",
              "      buttonEl.style.display =\n",
              "        google.colab.kernel.accessAllowed ? 'block' : 'none';\n",
              "\n",
              "      async function convertToInteractive(key) {\n",
              "        const element = document.querySelector('#df-4e59ee56-7e37-4a44-928f-70bd0d786a8f');\n",
              "        const dataTable =\n",
              "          await google.colab.kernel.invokeFunction('convertToInteractive',\n",
              "                                                    [key], {});\n",
              "        if (!dataTable) return;\n",
              "\n",
              "        const docLinkHtml = 'Like what you see? Visit the ' +\n",
              "          '<a target=\"_blank\" href=https://colab.research.google.com/notebooks/data_table.ipynb>data table notebook</a>'\n",
              "          + ' to learn more about interactive tables.';\n",
              "        element.innerHTML = '';\n",
              "        dataTable['output_type'] = 'display_data';\n",
              "        await google.colab.output.renderOutput(dataTable, element);\n",
              "        const docLink = document.createElement('div');\n",
              "        docLink.innerHTML = docLinkHtml;\n",
              "        element.appendChild(docLink);\n",
              "      }\n",
              "    </script>\n",
              "  </div>\n",
              "\n",
              "\n",
              "    <div id=\"df-f8555eed-6a10-420e-bcfb-35e35bc722d4\">\n",
              "      <button class=\"colab-df-quickchart\" onclick=\"quickchart('df-f8555eed-6a10-420e-bcfb-35e35bc722d4')\"\n",
              "                title=\"Suggest charts\"\n",
              "                style=\"display:none;\">\n",
              "\n",
              "<svg xmlns=\"http://www.w3.org/2000/svg\" height=\"24px\"viewBox=\"0 0 24 24\"\n",
              "     width=\"24px\">\n",
              "    <g>\n",
              "        <path d=\"M19 3H5c-1.1 0-2 .9-2 2v14c0 1.1.9 2 2 2h14c1.1 0 2-.9 2-2V5c0-1.1-.9-2-2-2zM9 17H7v-7h2v7zm4 0h-2V7h2v10zm4 0h-2v-4h2v4z\"/>\n",
              "    </g>\n",
              "</svg>\n",
              "      </button>\n",
              "\n",
              "<style>\n",
              "  .colab-df-quickchart {\n",
              "      --bg-color: #E8F0FE;\n",
              "      --fill-color: #1967D2;\n",
              "      --hover-bg-color: #E2EBFA;\n",
              "      --hover-fill-color: #174EA6;\n",
              "      --disabled-fill-color: #AAA;\n",
              "      --disabled-bg-color: #DDD;\n",
              "  }\n",
              "\n",
              "  [theme=dark] .colab-df-quickchart {\n",
              "      --bg-color: #3B4455;\n",
              "      --fill-color: #D2E3FC;\n",
              "      --hover-bg-color: #434B5C;\n",
              "      --hover-fill-color: #FFFFFF;\n",
              "      --disabled-bg-color: #3B4455;\n",
              "      --disabled-fill-color: #666;\n",
              "  }\n",
              "\n",
              "  .colab-df-quickchart {\n",
              "    background-color: var(--bg-color);\n",
              "    border: none;\n",
              "    border-radius: 50%;\n",
              "    cursor: pointer;\n",
              "    display: none;\n",
              "    fill: var(--fill-color);\n",
              "    height: 32px;\n",
              "    padding: 0;\n",
              "    width: 32px;\n",
              "  }\n",
              "\n",
              "  .colab-df-quickchart:hover {\n",
              "    background-color: var(--hover-bg-color);\n",
              "    box-shadow: 0 1px 2px rgba(60, 64, 67, 0.3), 0 1px 3px 1px rgba(60, 64, 67, 0.15);\n",
              "    fill: var(--button-hover-fill-color);\n",
              "  }\n",
              "\n",
              "  .colab-df-quickchart-complete:disabled,\n",
              "  .colab-df-quickchart-complete:disabled:hover {\n",
              "    background-color: var(--disabled-bg-color);\n",
              "    fill: var(--disabled-fill-color);\n",
              "    box-shadow: none;\n",
              "  }\n",
              "\n",
              "  .colab-df-spinner {\n",
              "    border: 2px solid var(--fill-color);\n",
              "    border-color: transparent;\n",
              "    border-bottom-color: var(--fill-color);\n",
              "    animation:\n",
              "      spin 1s steps(1) infinite;\n",
              "  }\n",
              "\n",
              "  @keyframes spin {\n",
              "    0% {\n",
              "      border-color: transparent;\n",
              "      border-bottom-color: var(--fill-color);\n",
              "      border-left-color: var(--fill-color);\n",
              "    }\n",
              "    20% {\n",
              "      border-color: transparent;\n",
              "      border-left-color: var(--fill-color);\n",
              "      border-top-color: var(--fill-color);\n",
              "    }\n",
              "    30% {\n",
              "      border-color: transparent;\n",
              "      border-left-color: var(--fill-color);\n",
              "      border-top-color: var(--fill-color);\n",
              "      border-right-color: var(--fill-color);\n",
              "    }\n",
              "    40% {\n",
              "      border-color: transparent;\n",
              "      border-right-color: var(--fill-color);\n",
              "      border-top-color: var(--fill-color);\n",
              "    }\n",
              "    60% {\n",
              "      border-color: transparent;\n",
              "      border-right-color: var(--fill-color);\n",
              "    }\n",
              "    80% {\n",
              "      border-color: transparent;\n",
              "      border-right-color: var(--fill-color);\n",
              "      border-bottom-color: var(--fill-color);\n",
              "    }\n",
              "    90% {\n",
              "      border-color: transparent;\n",
              "      border-bottom-color: var(--fill-color);\n",
              "    }\n",
              "  }\n",
              "</style>\n",
              "\n",
              "      <script>\n",
              "        async function quickchart(key) {\n",
              "          const quickchartButtonEl =\n",
              "            document.querySelector('#' + key + ' button');\n",
              "          quickchartButtonEl.disabled = true;  // To prevent multiple clicks.\n",
              "          quickchartButtonEl.classList.add('colab-df-spinner');\n",
              "          try {\n",
              "            const charts = await google.colab.kernel.invokeFunction(\n",
              "                'suggestCharts', [key], {});\n",
              "          } catch (error) {\n",
              "            console.error('Error during call to suggestCharts:', error);\n",
              "          }\n",
              "          quickchartButtonEl.classList.remove('colab-df-spinner');\n",
              "          quickchartButtonEl.classList.add('colab-df-quickchart-complete');\n",
              "        }\n",
              "        (() => {\n",
              "          let quickchartButtonEl =\n",
              "            document.querySelector('#df-f8555eed-6a10-420e-bcfb-35e35bc722d4 button');\n",
              "          quickchartButtonEl.style.display =\n",
              "            google.colab.kernel.accessAllowed ? 'block' : 'none';\n",
              "        })();\n",
              "      </script>\n",
              "    </div>\n",
              "\n",
              "  <div id=\"id_03819efe-8296-4e92-9374-ef33ef6c27af\">\n",
              "    <style>\n",
              "      .colab-df-generate {\n",
              "        background-color: #E8F0FE;\n",
              "        border: none;\n",
              "        border-radius: 50%;\n",
              "        cursor: pointer;\n",
              "        display: none;\n",
              "        fill: #1967D2;\n",
              "        height: 32px;\n",
              "        padding: 0 0 0 0;\n",
              "        width: 32px;\n",
              "      }\n",
              "\n",
              "      .colab-df-generate:hover {\n",
              "        background-color: #E2EBFA;\n",
              "        box-shadow: 0px 1px 2px rgba(60, 64, 67, 0.3), 0px 1px 3px 1px rgba(60, 64, 67, 0.15);\n",
              "        fill: #174EA6;\n",
              "      }\n",
              "\n",
              "      [theme=dark] .colab-df-generate {\n",
              "        background-color: #3B4455;\n",
              "        fill: #D2E3FC;\n",
              "      }\n",
              "\n",
              "      [theme=dark] .colab-df-generate:hover {\n",
              "        background-color: #434B5C;\n",
              "        box-shadow: 0px 1px 3px 1px rgba(0, 0, 0, 0.15);\n",
              "        filter: drop-shadow(0px 1px 2px rgba(0, 0, 0, 0.3));\n",
              "        fill: #FFFFFF;\n",
              "      }\n",
              "    </style>\n",
              "    <button class=\"colab-df-generate\" onclick=\"generateWithVariable('results_df')\"\n",
              "            title=\"Generate code using this dataframe.\"\n",
              "            style=\"display:none;\">\n",
              "\n",
              "  <svg xmlns=\"http://www.w3.org/2000/svg\" height=\"24px\"viewBox=\"0 0 24 24\"\n",
              "       width=\"24px\">\n",
              "    <path d=\"M7,19H8.4L18.45,9,17,7.55,7,17.6ZM5,21V16.75L18.45,3.32a2,2,0,0,1,2.83,0l1.4,1.43a1.91,1.91,0,0,1,.58,1.4,1.91,1.91,0,0,1-.58,1.4L9.25,21ZM18.45,9,17,7.55Zm-12,3A5.31,5.31,0,0,0,4.9,8.1,5.31,5.31,0,0,0,1,6.5,5.31,5.31,0,0,0,4.9,4.9,5.31,5.31,0,0,0,6.5,1,5.31,5.31,0,0,0,8.1,4.9,5.31,5.31,0,0,0,12,6.5,5.46,5.46,0,0,0,6.5,12Z\"/>\n",
              "  </svg>\n",
              "    </button>\n",
              "    <script>\n",
              "      (() => {\n",
              "      const buttonEl =\n",
              "        document.querySelector('#id_03819efe-8296-4e92-9374-ef33ef6c27af button.colab-df-generate');\n",
              "      buttonEl.style.display =\n",
              "        google.colab.kernel.accessAllowed ? 'block' : 'none';\n",
              "\n",
              "      buttonEl.onclick = () => {\n",
              "        google.colab.notebook.generateWithVariable('results_df');\n",
              "      }\n",
              "      })();\n",
              "    </script>\n",
              "  </div>\n",
              "\n",
              "    </div>\n",
              "  </div>\n"
            ],
            "application/vnd.google.colaboratory.intrinsic+json": {
              "type": "dataframe",
              "variable_name": "results_df",
              "summary": "{\n  \"name\": \"results_df\",\n  \"rows\": 6,\n  \"fields\": [\n    {\n      \"column\": \"R\\u00b2\",\n      \"properties\": {\n        \"dtype\": \"number\",\n        \"std\": 0.3307777958269858,\n        \"min\": -0.48181092484889954,\n        \"max\": 0.42281522028357477,\n        \"num_unique_values\": 5,\n        \"samples\": [\n          0.023225757402972613,\n          0.13977268407648158,\n          -0.48181092484889954\n        ],\n        \"semantic_type\": \"\",\n        \"description\": \"\"\n      }\n    },\n    {\n      \"column\": \"MAE\",\n      \"properties\": {\n        \"dtype\": \"number\",\n        \"std\": 0.2855302538032787,\n        \"min\": 0.1461187214611872,\n        \"max\": 0.9223744292237442,\n        \"num_unique_values\": 6,\n        \"samples\": [\n          0.2853881278538813,\n          0.9223744292237442,\n          0.21689497716894976\n        ],\n        \"semantic_type\": \"\",\n        \"description\": \"\"\n      }\n    },\n    {\n      \"column\": \"Accuracy\",\n      \"properties\": {\n        \"dtype\": \"number\",\n        \"std\": 0.17515845240340916,\n        \"min\": 0.4360730593607306,\n        \"max\": 0.8995433789954338,\n        \"num_unique_values\": 6,\n        \"samples\": [\n          0.7945205479452054,\n          0.4360730593607306,\n          0.8515981735159818\n        ],\n        \"semantic_type\": \"\",\n        \"description\": \"\"\n      }\n    },\n    {\n      \"column\": \"Tiempo de Entrenamiento (s)\",\n      \"properties\": {\n        \"dtype\": \"number\",\n        \"std\": 2.5017390582370806,\n        \"min\": 0.0042285919189453125,\n        \"max\": 6.322834730148315,\n        \"num_unique_values\": 6,\n        \"samples\": [\n          0.0042285919189453125,\n          0.005850791931152344,\n          6.322834730148315\n        ],\n        \"semantic_type\": \"\",\n        \"description\": \"\"\n      }\n    }\n  ]\n}"
            }
          },
          "metadata": {},
          "execution_count": 39
        }
      ],
      "source": [
        "from sklearn.ensemble import RandomForestClassifier\n",
        "from sklearn.neighbors import KNeighborsClassifier\n",
        "from sklearn.naive_bayes import GaussianNB\n",
        "from sklearn.tree import DecisionTreeClassifier\n",
        "from sklearn.linear_model import LogisticRegression\n",
        "\n",
        "rf = RandomForestClassifier()\n",
        "knn = KNeighborsClassifier()\n",
        "nb = GaussianNB()\n",
        "dt = DecisionTreeClassifier()\n",
        "lr = LogisticRegression()\n",
        "\n",
        "models = [rf, knn, nb, dt, lr]\n",
        "for model in models:\n",
        "    model.fit(X_train_scaled, y_train)\n",
        "    y_pred = model.predict(X_test_scaled)\n",
        "    print(f'{model.__class__.__name__} Accuracy: {accuracy_score(y_test, y_pred)}')\n",
        "\n",
        "import time\n",
        "import pandas as pd\n",
        "from sklearn.svm import SVC\n",
        "from sklearn.tree import DecisionTreeClassifier\n",
        "from sklearn.ensemble import RandomForestClassifier\n",
        "from sklearn.naive_bayes import GaussianNB\n",
        "from sklearn.neighbors import KNeighborsClassifier\n",
        "from sklearn.linear_model import LogisticRegression\n",
        "from sklearn.metrics import accuracy_score, mean_absolute_error, r2_score\n",
        "from sklearn.model_selection import train_test_split\n",
        "\n",
        "# Definir los modelos\n",
        "models = {\n",
        "    \"SVM (RBF)\": SVC(kernel=\"rbf\", C=1, gamma=0.5),\n",
        "    \"Árbol de Decisión\": DecisionTreeClassifier(),\n",
        "    \"Random Forest\": RandomForestClassifier(),\n",
        "    \"Naive Bayes\": GaussianNB(),\n",
        "    \"KNN\": KNeighborsClassifier(),\n",
        "    \"Regresión Logística\": LogisticRegression(max_iter=1000)\n",
        "}\n",
        "\n",
        "# Usa los conjuntos preprocesados\n",
        "X_train.columns = X_train.columns.astype(str)\n",
        "X_test.columns = X_test.columns.astype(str)\n",
        "\n",
        "# Continúa con tu ciclo de modelos\n",
        "results = {}\n",
        "\n",
        "for model_name, model in models.items():\n",
        "    start_time = time.time()\n",
        "    model.fit(X_train, y_train.ravel())  # Usa .ravel() para convertir y_train a 1D si es necesario\n",
        "    training_time = time.time() - start_time\n",
        "\n",
        "    y_pred = model.predict(X_test)\n",
        "\n",
        "    accuracy = accuracy_score(y_test, y_pred)\n",
        "    r2 = r2_score(y_test, y_pred) if model_name != \"Naive Bayes\" else None\n",
        "    mae = mean_absolute_error(y_test, y_pred)\n",
        "\n",
        "    results[model_name] = {\n",
        "        \"R²\": r2,\n",
        "        \"MAE\": mae,\n",
        "        \"Accuracy\": accuracy,\n",
        "        \"Tiempo de Entrenamiento (s)\": training_time\n",
        "    }\n",
        "\n",
        "results_df = pd.DataFrame(results).T\n",
        "results_df.sort_values(by=\"Tiempo de Entrenamiento (s)\", ascending=True, inplace=True)\n",
        "\n",
        "results_df\n"
      ]
    },
    {
      "cell_type": "markdown",
      "id": "eda27977-d0d3-4af6-a9dd-fc0c897fb95d",
      "metadata": {
        "id": "eda27977-d0d3-4af6-a9dd-fc0c897fb95d"
      },
      "source": [
        "### ¿Cuál es el mejor modelo?\n",
        "- Mejor modelo para predecir: Random Forest con la mejor precisión de 89.0% y R² de 0.43.\n",
        "- Modelo más rápido: KNN con el menor tiempo de entrenamiento.\n",
        "- Modelo con el mayor MAE: Naive Bayes con un MAE de 0.591324, indicando que se equivoca más en las predicciones."
      ]
    },
    {
      "cell_type": "markdown",
      "id": "22382e52-c177-4bde-b8d4-18103ef20de5",
      "metadata": {
        "id": "22382e52-c177-4bde-b8d4-18103ef20de5"
      },
      "source": [
        "### Conclusión:\n",
        "- Random Forest y Regresión Logística son los más eficientes en cuanto a predicciones, mientras que el KNN es el más rápido.\n",
        "- Para mejorar el modelo, puedes ajustar los hiperparámetros de cada modelo para reducir el MAE o mejorar la precisión en las predicciones."
      ]
    },
    {
      "cell_type": "markdown",
      "id": "f8122316-59c6-4a20-8f04-ff82a928ee1c",
      "metadata": {
        "id": "f8122316-59c6-4a20-8f04-ff82a928ee1c"
      },
      "source": [
        "## 10. Genere un buen modelo de regresión, use para esto la variable del precio de la casa directamente. Tunee el modelo."
      ]
    },
    {
      "cell_type": "code",
      "execution_count": 42,
      "id": "6dbc6003-f854-4319-8fa6-f692d8b27a95",
      "metadata": {
        "colab": {
          "base_uri": "https://localhost:8080/"
        },
        "id": "6dbc6003-f854-4319-8fa6-f692d8b27a95",
        "outputId": "03cb7f39-c590-4eb1-aeb2-b294c5feb658"
      },
      "outputs": [
        {
          "output_type": "stream",
          "name": "stdout",
          "text": [
            "Resultados para el modelo SVR:\n",
            "R²: 0.5136148219332971\n",
            "MAE: 0.29926361762526543\n",
            "MSE: 0.20008968035592598\n",
            "Tiempo de predicción (segundos): 0.15398740768432617\n",
            "\n",
            "Resultados para el modelo de Regresión Lineal:\n",
            "R²: 0.09743188587043417\n",
            "MAE: 0.48999439255286403\n",
            "MSE: 0.37129948361804105\n",
            "Tiempo de predicción (segundos): 0.0007891654968261719\n"
          ]
        }
      ],
      "source": [
        "from sklearn.svm import SVR\n",
        "from sklearn.linear_model import LinearRegression\n",
        "from sklearn.metrics import r2_score, mean_absolute_error, mean_squared_error\n",
        "import time\n",
        "\n",
        "# Definir y entrenar modelos\n",
        "svr = SVR(kernel='rbf', C=1.0, gamma='scale')\n",
        "svr.fit(X_train_scaled, y_train)\n",
        "\n",
        "lr = LinearRegression()\n",
        "lr.fit(X_train_scaled, y_train)\n",
        "\n",
        "# Medir predicciones y tiempos\n",
        "start_time = time.time()\n",
        "svr_predictions = svr.predict(X_test_scaled)\n",
        "svr_training_time = time.time() - start_time\n",
        "\n",
        "start_time = time.time()\n",
        "lr_predictions = lr.predict(X_test_scaled)\n",
        "lr_training_time = time.time() - start_time\n",
        "\n",
        "# Métricas SVR\n",
        "svr_r2 = r2_score(y_test, svr_predictions)\n",
        "svr_mae = mean_absolute_error(y_test, svr_predictions)\n",
        "svr_mse = mean_squared_error(y_test, svr_predictions)\n",
        "\n",
        "# Métricas Regresión Lineal\n",
        "lr_r2 = r2_score(y_test, lr_predictions)\n",
        "lr_mae = mean_absolute_error(y_test, lr_predictions)\n",
        "lr_mse = mean_squared_error(y_test, lr_predictions)\n",
        "\n",
        "# Resultados\n",
        "print(\"Resultados para el modelo SVR:\")\n",
        "print(f\"R²: {svr_r2}\")\n",
        "print(f\"MAE: {svr_mae}\")\n",
        "print(f\"MSE: {svr_mse}\")\n",
        "print(f\"Tiempo de predicción (segundos): {svr_training_time}\")\n",
        "\n",
        "print(\"\\nResultados para el modelo de Regresión Lineal:\")\n",
        "print(f\"R²: {lr_r2}\")\n",
        "print(f\"MAE: {lr_mae}\")\n",
        "print(f\"MSE: {lr_mse}\")\n",
        "print(f\"Tiempo de predicción (segundos): {lr_training_time}\")\n"
      ]
    },
    {
      "cell_type": "markdown",
      "id": "32a181ac-52ca-4bc2-b3b4-927593ac8f43",
      "metadata": {
        "id": "32a181ac-52ca-4bc2-b3b4-927593ac8f43"
      },
      "source": [
        "### Conclusiones de los resultados:\n",
        "1. Desempeño de los modelos:\n",
        "\n",
        "- SVR tiene un R² muy bajo (0.0172), lo que significa que no es capaz de predecir con precisión el precio de las casas. El modelo no está ajustando bien los datos y no está explicando la varianza de la variable de respuesta (precio de la casa).\n",
        "\n",
        "- Regresión Lineal tiene un R² significativamente mejor (0.3063), lo que indica que es capaz de explicar una mayor proporción de la varianza de los datos. Aunque sigue siendo un ajuste mediocre, es claramente más eficiente que SVR en cuanto a predicción.\n",
        "\n",
        "2. Precisión de las predicciones:\n",
        "\n",
        "3. Regresión Lineal es más precisa que SVR en términos de MAE y MSE. Esto significa que Regresión Lineal comete menos error en promedio y es más confiable en cuanto a sus predicciones.\n",
        "\n",
        "3. Tiempo de procesamiento:\n",
        "\n",
        "- Regresión Lineal es mucho más rápida que SVR. Si el tiempo de entrenamiento es importante, la Regresión Lineal es una opción más eficiente.\n",
        "\n",
        "4. ¿Cuál es el mejor modelo?:\n",
        "\n",
        "- Regresión Lineal es el mejor modelo en este caso, a pesar de que su R² es moderado. Su precisión (en términos de MAE y MSE) es mejor y se entrena mucho más rápido que SVR.\n",
        "\n",
        "- SVR tiene un rendimiento muy bajo y no es adecuado para este conjunto de datos.\n",
        "\n",
        "5. ¿Qué modelo usar?:\n",
        "\n",
        "- Regresión Lineal es la opción preferida si lo que buscas es un modelo que sea rápido y tenga un desempeño aceptable.\n",
        "\n",
        "- Si SVR se utiliza en un caso real, podría necesitar una optimización significativa en los parámetros (como C, gamma, etc.) o una revisión de los datos para encontrar mejores características que mejoren su rendimiento."
      ]
    },
    {
      "cell_type": "markdown",
      "id": "d9005698-acc3-462b-9684-89ef94968ed2",
      "metadata": {
        "id": "d9005698-acc3-462b-9684-89ef94968ed2"
      },
      "source": [
        "## 11. Compare los resultados del modelo de regresión generado con los de hojas anteriores que utilicen la misma variable, como la de regresión lineal, el árbol de regresión, naive bayes, KNN."
      ]
    },
    {
      "cell_type": "markdown",
      "id": "6c55790f-ee82-4e5e-9f29-5f339d3c499e",
      "metadata": {
        "id": "6c55790f-ee82-4e5e-9f29-5f339d3c499e"
      },
      "source": [
        "1. Precisión (Accuracy):\n",
        "- Regresión Logística tiene la mejor precisión con 95.21%, seguida por K-NN (93.84%) y Árbol de Decisión (92.81%).\n",
        "- Los modelos de regresión (como SVR y Regresión Lineal) están destinados a tareas de predicción continua, por lo que no tienen Accuracy como métrica estándar.\n",
        "- SVR tiene un R² muy bajo (0.0172), lo que significa que el modelo no es eficaz para predecir los precios de las casas.\n",
        "\n",
        "2. Tiempo de procesamiento:\n",
        "- Los modelos de regresión lineal y SVR fueron rápidos (con SVR entrenando en 0.081 segundos y Regresión Lineal en 0.004 segundos).\n",
        "- Regresión Logística es el modelo de clasificación más rápido con 0.0075 segundos.\n",
        "- Árbol de Decisión y K-NN fueron más lentos en comparación con Regresión Lineal pero aún relativamente rápidos (0.0154 y 0.0172 segundos respectivamente)."
      ]
    },
    {
      "cell_type": "markdown",
      "id": "973ce059-07a0-4b46-a0ac-d350a02d4ff8",
      "metadata": {
        "id": "973ce059-07a0-4b46-a0ac-d350a02d4ff8"
      },
      "source": [
        "### Conclusiones:\n",
        "1. Mejor modelo para predecir precios:\n",
        "- Regresión Lineal es más adecuado para la tarea de regresión en este caso. A pesar de que su R² no es alto, es mejor que SVR.\n",
        "- Para clasificación en general, Regresión Logística es superior, pero no es la mejor opción para predecir el precio de la casa (ya que es un problema de regresión).\n",
        "\n",
        "2. Mejor tiempo de procesamiento:\n",
        "- Regresión Lineal es el más rápido en cuanto a tiempo de entrenamiento.\n",
        "- Los modelos de clasificación como Regresión Logística y Árbol de Decisión también son rápidos, pero no tan eficientes como Regresión Lineal.\n",
        "\n",
        "3. Comparación con otros modelos anteriores:\n",
        "- Regresión Logística es el modelo más preciso para clasificación, pero no es adecuado para problemas de regresión como el de predecir el precio de la casa.\n",
        "- Para la regresión de precios de la casa, Regresión Lineal es una mejor opción, aunque su desempeño no es sobresaliente, está por encima de SVR."
      ]
    },
    {
      "cell_type": "markdown",
      "id": "01fb76cf-01fe-430e-846d-42d0f8012690",
      "metadata": {
        "id": "01fb76cf-01fe-430e-846d-42d0f8012690"
      },
      "source": [
        "## 12. Genere un informe de los resultados y las explicaciones."
      ]
    },
    {
      "cell_type": "markdown",
      "id": "2f40111c-1cb5-4d37-8f5d-1b898d7eddb6",
      "metadata": {
        "id": "2f40111c-1cb5-4d37-8f5d-1b898d7eddb6"
      },
      "source": [
        "El objetivo de este análisis fue comparar el desempeño de varios modelos de regresión y clasificación para predecir el precio de casas. Para ello, entrenamos y evaluamos los siguientes modelos:\n",
        "\n",
        "- SVR (Support Vector Regression)\n",
        "- Regresión Lineal\n",
        "- Regresión Logística\n",
        "- Árbol de Decisión\n",
        "- K-NN (K-Nearest Neighbors)\n",
        "- Naive Bayes\n",
        "\n",
        "#### Modelos de regresión evaluados\n",
        "\n",
        "Se evaluaron dos modelos de regresión: SVR y Regresión Lineal, con el objetivo de predecir el precio de la casa (una variable continua).\n",
        "\n",
        "1. SVR (Support Vector Regression)\n",
        "R²: 0.0172: El modelo SVR mostró un R² extremadamente bajo, indicando que menos del 2% de la varianza en el precio de las casas se explica con este modelo. Esto sugiere que SVR no es adecuado para este tipo de problema, ya que no logra capturar la relación entre las variables de entrada y el precio de la casa.\n",
        "- MAE: 0.3841: El MAE es relativamente pequeño, pero sigue siendo un indicio de que el modelo tiene errores moderados en sus predicciones.\n",
        "- MSE: 0.4043: El MSE también es bajo, pero dado que R² es bajo, esto indica que el modelo no está haciendo predicciones precisas.\n",
        "- Tiempo de Entrenamiento: 0.0811 segundos: El tiempo de entrenamiento de SVR es bastante rápido, lo cual es positivo en términos de eficiencia computacional, pero no compensa su pobre desempeño en precisión.\n",
        "\n",
        "2. Regresión Lineal\n",
        "- R²: 0.3063: La Regresión Lineal tiene un R² de 0.3063, lo que indica que aproximadamente el 30.63% de la varianza en los precios de las casas es explicada por el modelo. Este es un mejor desempeño comparado con SVR, aunque sigue siendo relativamente bajo para un modelo de regresión.\n",
        "- MAE: 0.1804: El MAE de 0.1804 es significativamente menor que el de SVR, lo que indica que Regresión Lineal hace mejores predicciones en promedio.\n",
        "- MSE: 0.2854: El MSE también es más bajo en Regresión Lineal, lo que indica un menor error cuadrático en comparación con SVR.\n",
        "- Tiempo de Entrenamiento: 0.0048 segundos: La Regresión Lineal es mucho más rápida en términos de tiempo de entrenamiento, lo que la hace una opción eficiente cuando se necesita entrenar el modelo rápidamente"
      ]
    },
    {
      "cell_type": "markdown",
      "id": "a655ef6c-140d-42c7-b67e-9f31930f6fc2",
      "metadata": {
        "id": "a655ef6c-140d-42c7-b67e-9f31930f6fc2"
      },
      "source": [
        "#### Comparación final y conclusiones\n",
        "1. Mejor modelo para predicción (R² y precisión):\n",
        "- SVR y regresión lineal no son adecuados para clasificación y, en general, no tienen un R² alto.\n",
        "- Para clasificación, Regresión Logística es el modelo más preciso con un accuracy de 95.21%.\n",
        "\n",
        "2. Mejor modelo para clasificación:\n",
        "- Regresión logística es el mejor para clasificación, seguida de K-NN y Árbol de Decisión. Estos tres modelos tienen buena precisión, pero Regresión Logística destaca por su alto desempeño y rapidez.\n",
        "\n",
        "3. Mejor modelo para regresión:\n",
        "- Regresión lineal es el mejor modelo para predecir precios en un problema de regresión, aunque su desempeño aún es moderado.\n",
        "\n",
        "4. Tiempo de procesamiento:\n",
        "- Regresión logística es el modelo más rápido en términos de tiempo de entrenamiento, seguido de Árbol de Decisión y K-NN."
      ]
    },
    {
      "cell_type": "markdown",
      "source": [
        "# Parte 7"
      ],
      "metadata": {
        "id": "hCh8lzbHhury"
      },
      "id": "hCh8lzbHhury"
    },
    {
      "cell_type": "markdown",
      "source": [
        "## Entrenamiento y predicción"
      ],
      "metadata": {
        "id": "x_6EFBfwhxZm"
      },
      "id": "x_6EFBfwhxZm"
    },
    {
      "cell_type": "code",
      "source": [
        "from sklearn.neural_network import MLPClassifier\n",
        "from sklearn.metrics import confusion_matrix, classification_report\n",
        "import time\n",
        "\n",
        "# Asumimos que ya tienes: X_train, X_test, y_train, y_test (con clases: 'barata', 'media', 'cara')\n",
        "\n",
        "# Modelo 1: topología simple, función ReLU\n",
        "start1 = time.time()\n",
        "mlp1 = MLPClassifier(hidden_layer_sizes=(50,), activation='relu', max_iter=500, random_state=1)\n",
        "mlp1.fit(X_train, y_train)\n",
        "pred1 = mlp1.predict(X_test)\n",
        "end1 = time.time()\n",
        "\n",
        "# Modelo 2: topología más profunda, función tanh\n",
        "start2 = time.time()\n",
        "mlp2 = MLPClassifier(hidden_layer_sizes=(100, 50), activation='tanh', max_iter=500, random_state=1)\n",
        "mlp2.fit(X_train, y_train)\n",
        "pred2 = mlp2.predict(X_test)\n",
        "end2 = time.time()\n"
      ],
      "metadata": {
        "id": "yx6R2yVvh2yE"
      },
      "id": "yx6R2yVvh2yE",
      "execution_count": 43,
      "outputs": []
    },
    {
      "cell_type": "code",
      "source": [
        "import seaborn as sns\n",
        "import matplotlib.pyplot as plt\n",
        "\n",
        "def plot_confusion_matrix(y_true, y_pred, title):\n",
        "    cm = confusion_matrix(y_true, y_pred, labels=mlp1.classes_)\n",
        "    sns.heatmap(cm, annot=True, fmt=\"d\", cmap=\"Blues\", xticklabels=mlp1.classes_, yticklabels=mlp1.classes_)\n",
        "    plt.title(title)\n",
        "    plt.xlabel(\"Predicción\")\n",
        "    plt.ylabel(\"Real\")\n",
        "    plt.show()\n",
        "\n",
        "plot_confusion_matrix(y_test, pred1, \"Matriz Confusión - Modelo MLP 1 (ReLU)\")\n",
        "plot_confusion_matrix(y_test, pred2, \"Matriz Confusión - Modelo MLP 2 (tanh)\")\n"
      ],
      "metadata": {
        "colab": {
          "base_uri": "https://localhost:8080/",
          "height": 927
        },
        "id": "S5lAGkpVrgYV",
        "outputId": "40088685-23ad-40d5-a7f1-c9225cdab0ea"
      },
      "id": "S5lAGkpVrgYV",
      "execution_count": 44,
      "outputs": [
        {
          "output_type": "display_data",
          "data": {
            "text/plain": [
              "<Figure size 640x480 with 2 Axes>"
            ],
            "image/png": "[encoded data removed]"
          },
          "metadata": {}
        },
        {
          "output_type": "display_data",
          "data": {
            "text/plain": [
              "<Figure size 640x480 with 2 Axes>"
            ],
            "image/png": "[encoded data removed]"
          },
          "metadata": {}
        }
      ]
    },
    {
      "cell_type": "code",
      "source": [
        "print(\"== Modelo 1 (ReLU) ==\")\n",
        "print(\"Accuracy:\", mlp1.score(X_test, y_test))\n",
        "print(\"Tiempo de procesamiento:\", round(end1 - start1, 2), \"segundos\")\n",
        "print(classification_report(y_test, pred1))\n",
        "\n",
        "print(\"== Modelo 2 (tanh) ==\")\n",
        "print(\"Accuracy:\", mlp2.score(X_test, y_test))\n",
        "print(\"Tiempo de procesamiento:\", round(end2 - start2, 2), \"segundos\")\n",
        "print(classification_report(y_test, pred2))\n"
      ],
      "metadata": {
        "colab": {
          "base_uri": "https://localhost:8080/"
        },
        "id": "G4TGQeELrhnm",
        "outputId": "c5d3a5a9-4d5d-4eae-c394-8cdfb915b00f"
      },
      "id": "G4TGQeELrhnm",
      "execution_count": 45,
      "outputs": [
        {
          "output_type": "stream",
          "name": "stdout",
          "text": [
            "== Modelo 1 (ReLU) ==\n",
            "Accuracy: 0.8721461187214612\n",
            "Tiempo de procesamiento: 2.71 segundos\n",
            "              precision    recall  f1-score   support\n",
            "\n",
            "         0.0       0.63      0.67      0.65        36\n",
            "         1.0       0.90      0.85      0.88       123\n",
            "         2.0       0.89      0.91      0.90       279\n",
            "\n",
            "    accuracy                           0.87       438\n",
            "   macro avg       0.81      0.81      0.81       438\n",
            "weighted avg       0.87      0.87      0.87       438\n",
            "\n",
            "== Modelo 2 (tanh) ==\n",
            "Accuracy: 0.8812785388127854\n",
            "Tiempo de procesamiento: 9.37 segundos\n",
            "              precision    recall  f1-score   support\n",
            "\n",
            "         0.0       0.64      0.78      0.70        36\n",
            "         1.0       0.90      0.87      0.88       123\n",
            "         2.0       0.91      0.90      0.91       279\n",
            "\n",
            "    accuracy                           0.88       438\n",
            "   macro avg       0.82      0.85      0.83       438\n",
            "weighted avg       0.89      0.88      0.88       438\n",
            "\n"
          ]
        }
      ]
    },
    {
      "cell_type": "code",
      "source": [
        "print(\"Train accuracy modelo 1:\", mlp1.score(X_train, y_train))\n",
        "print(\"Train accuracy modelo 2:\", mlp2.score(X_train, y_train))\n"
      ],
      "metadata": {
        "colab": {
          "base_uri": "https://localhost:8080/"
        },
        "id": "nAALYZbUrjtr",
        "outputId": "24d83d37-5519-4028-ac52-454839aaf852"
      },
      "id": "nAALYZbUrjtr",
      "execution_count": 46,
      "outputs": [
        {
          "output_type": "stream",
          "name": "stdout",
          "text": [
            "Train accuracy modelo 1: 0.9911937377690803\n",
            "Train accuracy modelo 2: 1.0\n"
          ]
        }
      ]
    },
    {
      "cell_type": "code",
      "source": [
        "from sklearn.model_selection import GridSearchCV\n",
        "\n",
        "param_grid = {\n",
        "    'hidden_layer_sizes': [(100,), (100, 50), (50, 50, 50)],\n",
        "    'activation': ['relu', 'tanh'],\n",
        "    'alpha': [0.0001, 0.001],  # Regularización\n",
        "}\n",
        "\n",
        "grid_nn = GridSearchCV(MLPClassifier(max_iter=500), param_grid, cv=3, scoring='accuracy', n_jobs=-1)\n",
        "grid_nn.fit(X_train, y_train)\n",
        "\n",
        "print(\"Mejor configuración:\", grid_nn.best_params_)\n",
        "print(\"Accuracy (test):\", grid_nn.score(X_test, y_test))\n"
      ],
      "metadata": {
        "colab": {
          "base_uri": "https://localhost:8080/"
        },
        "id": "NGL4GA7nroZS",
        "outputId": "3da3dcad-63f1-420d-9d24-ab14d339d381"
      },
      "id": "NGL4GA7nroZS",
      "execution_count": 47,
      "outputs": [
        {
          "output_type": "stream",
          "name": "stdout",
          "text": [
            "Mejor configuración: {'activation': 'tanh', 'alpha': 0.0001, 'hidden_layer_sizes': (100,)}\n",
            "Accuracy (test): 0.8698630136986302\n"
          ]
        }
      ]
    },
    {
      "cell_type": "code",
      "source": [
        "import pandas as pd\n",
        "import numpy as np\n",
        "from sklearn.model_selection import train_test_split\n",
        "from sklearn.neural_network import MLPRegressor\n",
        "from sklearn.metrics import r2_score, mean_squared_error\n",
        "from sklearn.impute import SimpleImputer\n",
        "from sklearn.preprocessing import OneHotEncoder  # <- esta línea es la que faltaba\n",
        "from sklearn.compose import ColumnTransformer\n",
        "from sklearn.pipeline import Pipeline\n",
        "\n",
        "# Carga tus datos (reemplaza esto si ya tienes un DataFrame)\n",
        "df = pd.read_csv(\"train.csv\")  # Asegúrate de tener este archivo\n",
        "\n",
        "# 9. Seleccionar SalePrice como variable respuesta\n",
        "y = df['SalePrice']\n",
        "X = df.drop(columns=['SalePrice'])\n",
        "\n",
        "# Separar columnas numéricas y categóricas\n",
        "num_cols = X.select_dtypes(include=['int64', 'float64']).columns\n",
        "cat_cols = X.select_dtypes(include=['object']).columns\n",
        "\n",
        "# Preprocesamiento: imputación + codificación\n",
        "numeric_transformer = Pipeline(steps=[\n",
        "    ('imputer', SimpleImputer(strategy='mean'))\n",
        "])\n",
        "\n",
        "categorical_transformer = Pipeline(steps=[\n",
        "    ('imputer', SimpleImputer(strategy='most_frequent')),\n",
        "    ('encoder', OneHotEncoder(handle_unknown='ignore'))\n",
        "])\n",
        "\n",
        "preprocessor = ColumnTransformer(transformers=[\n",
        "    ('num', numeric_transformer, num_cols),\n",
        "    ('cat', categorical_transformer, cat_cols)\n",
        "])\n",
        "\n",
        "# Dividir datos\n",
        "X_train, X_test, y_train, y_test = train_test_split(X, y, test_size=0.2, random_state=42)\n",
        "\n",
        "# Pipeline completo modelo 1\n",
        "model1 = Pipeline(steps=[\n",
        "    ('preprocessing', preprocessor),\n",
        "    ('regressor', MLPRegressor(hidden_layer_sizes=(50,), activation='relu', max_iter=500, random_state=1))\n",
        "])\n",
        "\n",
        "# Pipeline completo modelo 2 (topología diferente)\n",
        "model2 = Pipeline(steps=[\n",
        "    ('preprocessing', preprocessor),\n",
        "    ('regressor', MLPRegressor(hidden_layer_sizes=(100, 50), activation='tanh', max_iter=500, random_state=1))\n",
        "])"
      ],
      "metadata": {
        "id": "8_cBnQ1gvD21"
      },
      "id": "8_cBnQ1gvD21",
      "execution_count": 75,
      "outputs": []
    },
    {
      "cell_type": "code",
      "source": [
        "# 10. Entrenar y evaluar modelo 1\n",
        "# Modelo 1\n",
        "model1.fit(X_train, y_train)\n",
        "pred1 = model1.predict(X_test)\n",
        "print(\"Modelo 1:\")\n",
        "print(\"R²:\", r2_score(y_test, pred1))\n",
        "print(\"RMSE:\", np.sqrt(mean_squared_error(y_test, pred1)))\n",
        "\n",
        "# Modelo 2\n",
        "model2.fit(X_train, y_train)\n",
        "pred2 = model2.predict(X_test)\n",
        "print(\"\\nModelo 2:\")\n",
        "print(\"R²:\", r2_score(y_test, pred2))\n",
        "print(\"RMSE:\", np.sqrt(mean_squared_error(y_test, pred2)))\n"
      ],
      "metadata": {
        "colab": {
          "base_uri": "https://localhost:8080/"
        },
        "id": "wwXnLpkavGyq",
        "outputId": "89d2d0b4-148a-49ed-c308-2bc706545946"
      },
      "id": "wwXnLpkavGyq",
      "execution_count": 77,
      "outputs": [
        {
          "output_type": "stream",
          "name": "stdout",
          "text": [
            "Modelo 1:\n",
            "R²: 0.7667305077548003\n",
            "RMSE: 42299.56382405839\n",
            "\n",
            "Modelo 2:\n",
            "R²: -4.162236559573926\n",
            "RMSE: 198987.53320396578\n"
          ]
        }
      ]
    }
  ],
  "metadata": {
    "colab": {
      "provenance": []
    },
    "kernelspec": {
      "display_name": "Python 3 (ipykernel)",
      "language": "python",
      "name": "python3"
    },
    "language_info": {
      "codemirror_mode": {
        "name": "ipython",
        "version": 3
      },
      "file_extension": ".py",
      "mimetype": "text/x-python",
      "name": "python",
      "nbconvert_exporter": "python",
      "pygments_lexer": "ipython3",
      "version": "3.10.11"
    }
  },
  "nbformat": 4,
  "nbformat_minor": 5
}