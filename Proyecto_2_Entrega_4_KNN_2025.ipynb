{
  "nbformat": 4,
  "nbformat_minor": 0,
  "metadata": {
    "colab": {
      "provenance": []
    },
    "kernelspec": {
      "name": "python3",
      "display_name": "Python 3"
    },
    "language_info": {
      "name": "python"
    }
  },
  "cells": [
    {
      "cell_type": "markdown",
      "source": [
        "## 1. Modelo de regresión usando KNN:"
      ],
      "metadata": {
        "id": "TRq2rt3V8V77"
      }
    },
    {
      "cell_type": "code",
      "execution_count": 2,
      "metadata": {
        "colab": {
          "base_uri": "https://localhost:8080/",
          "height": 256
        },
        "id": "BdaEUMYg5dsU",
        "outputId": "905d2ca7-32ed-4355-905b-595786559937"
      },
      "outputs": [
        {
          "output_type": "display_data",
          "data": {
            "text/plain": [
              "   Id  MSSubClass MSZoning  LotFrontage  LotArea Street Alley LotShape  \\\n",
              "0   1          60       RL         65.0     8450   Pave   NaN      Reg   \n",
              "1   2          20       RL         80.0     9600   Pave   NaN      Reg   \n",
              "2   3          60       RL         68.0    11250   Pave   NaN      IR1   \n",
              "3   4          70       RL         60.0     9550   Pave   NaN      IR1   \n",
              "4   5          60       RL         84.0    14260   Pave   NaN      IR1   \n",
              "\n",
              "  LandContour Utilities  ... PoolArea PoolQC Fence MiscFeature MiscVal MoSold  \\\n",
              "0         Lvl    AllPub  ...        0    NaN   NaN         NaN       0      2   \n",
              "1         Lvl    AllPub  ...        0    NaN   NaN         NaN       0      5   \n",
              "2         Lvl    AllPub  ...        0    NaN   NaN         NaN       0      9   \n",
              "3         Lvl    AllPub  ...        0    NaN   NaN         NaN       0      2   \n",
              "4         Lvl    AllPub  ...        0    NaN   NaN         NaN       0     12   \n",
              "\n",
              "  YrSold  SaleType  SaleCondition  SalePrice  \n",
              "0   2008        WD         Normal     208500  \n",
              "1   2007        WD         Normal     181500  \n",
              "2   2008        WD         Normal     223500  \n",
              "3   2006        WD        Abnorml     140000  \n",
              "4   2008        WD         Normal     250000  \n",
              "\n",
              "[5 rows x 81 columns]"
            ],
            "text/html": [
              "\n",
              "  <div id=\"df-175d12c9-7632-4c06-9a79-95dddc605ebb\" class=\"colab-df-container\">\n",
              "    <div>\n",
              "<style scoped>\n",
              "    .dataframe tbody tr th:only-of-type {\n",
              "        vertical-align: middle;\n",
              "    }\n",
              "\n",
              "    .dataframe tbody tr th {\n",
              "        vertical-align: top;\n",
              "    }\n",
              "\n",
              "    .dataframe thead th {\n",
              "        text-align: right;\n",
              "    }\n",
              "</style>\n",
              "<table border=\"1\" class=\"dataframe\">\n",
              "  <thead>\n",
              "    <tr style=\"text-align: right;\">\n",
              "      <th></th>\n",
              "      <th>Id</th>\n",
              "      <th>MSSubClass</th>\n",
              "      <th>MSZoning</th>\n",
              "      <th>LotFrontage</th>\n",
              "      <th>LotArea</th>\n",
              "      <th>Street</th>\n",
              "      <th>Alley</th>\n",
              "      <th>LotShape</th>\n",
              "      <th>LandContour</th>\n",
              "      <th>Utilities</th>\n",
              "      <th>...</th>\n",
              "      <th>PoolArea</th>\n",
              "      <th>PoolQC</th>\n",
              "      <th>Fence</th>\n",
              "      <th>MiscFeature</th>\n",
              "      <th>MiscVal</th>\n",
              "      <th>MoSold</th>\n",
              "      <th>YrSold</th>\n",
              "      <th>SaleType</th>\n",
              "      <th>SaleCondition</th>\n",
              "      <th>SalePrice</th>\n",
              "    </tr>\n",
              "  </thead>\n",
              "  <tbody>\n",
              "    <tr>\n",
              "      <th>0</th>\n",
              "      <td>1</td>\n",
              "      <td>60</td>\n",
              "      <td>RL</td>\n",
              "      <td>65.0</td>\n",
              "      <td>8450</td>\n",
              "      <td>Pave</td>\n",
              "      <td>NaN</td>\n",
              "      <td>Reg</td>\n",
              "      <td>Lvl</td>\n",
              "      <td>AllPub</td>\n",
              "      <td>...</td>\n",
              "      <td>0</td>\n",
              "      <td>NaN</td>\n",
              "      <td>NaN</td>\n",
              "      <td>NaN</td>\n",
              "      <td>0</td>\n",
              "      <td>2</td>\n",
              "      <td>2008</td>\n",
              "      <td>WD</td>\n",
              "      <td>Normal</td>\n",
              "      <td>208500</td>\n",
              "    </tr>\n",
              "    <tr>\n",
              "      <th>1</th>\n",
              "      <td>2</td>\n",
              "      <td>20</td>\n",
              "      <td>RL</td>\n",
              "      <td>80.0</td>\n",
              "      <td>9600</td>\n",
              "      <td>Pave</td>\n",
              "      <td>NaN</td>\n",
              "      <td>Reg</td>\n",
              "      <td>Lvl</td>\n",
              "      <td>AllPub</td>\n",
              "      <td>...</td>\n",
              "      <td>0</td>\n",
              "      <td>NaN</td>\n",
              "      <td>NaN</td>\n",
              "      <td>NaN</td>\n",
              "      <td>0</td>\n",
              "      <td>5</td>\n",
              "      <td>2007</td>\n",
              "      <td>WD</td>\n",
              "      <td>Normal</td>\n",
              "      <td>181500</td>\n",
              "    </tr>\n",
              "    <tr>\n",
              "      <th>2</th>\n",
              "      <td>3</td>\n",
              "      <td>60</td>\n",
              "      <td>RL</td>\n",
              "      <td>68.0</td>\n",
              "      <td>11250</td>\n",
              "      <td>Pave</td>\n",
              "      <td>NaN</td>\n",
              "      <td>IR1</td>\n",
              "      <td>Lvl</td>\n",
              "      <td>AllPub</td>\n",
              "      <td>...</td>\n",
              "      <td>0</td>\n",
              "      <td>NaN</td>\n",
              "      <td>NaN</td>\n",
              "      <td>NaN</td>\n",
              "      <td>0</td>\n",
              "      <td>9</td>\n",
              "      <td>2008</td>\n",
              "      <td>WD</td>\n",
              "      <td>Normal</td>\n",
              "      <td>223500</td>\n",
              "    </tr>\n",
              "    <tr>\n",
              "      <th>3</th>\n",
              "      <td>4</td>\n",
              "      <td>70</td>\n",
              "      <td>RL</td>\n",
              "      <td>60.0</td>\n",
              "      <td>9550</td>\n",
              "      <td>Pave</td>\n",
              "      <td>NaN</td>\n",
              "      <td>IR1</td>\n",
              "      <td>Lvl</td>\n",
              "      <td>AllPub</td>\n",
              "      <td>...</td>\n",
              "      <td>0</td>\n",
              "      <td>NaN</td>\n",
              "      <td>NaN</td>\n",
              "      <td>NaN</td>\n",
              "      <td>0</td>\n",
              "      <td>2</td>\n",
              "      <td>2006</td>\n",
              "      <td>WD</td>\n",
              "      <td>Abnorml</td>\n",
              "      <td>140000</td>\n",
              "    </tr>\n",
              "    <tr>\n",
              "      <th>4</th>\n",
              "      <td>5</td>\n",
              "      <td>60</td>\n",
              "      <td>RL</td>\n",
              "      <td>84.0</td>\n",
              "      <td>14260</td>\n",
              "      <td>Pave</td>\n",
              "      <td>NaN</td>\n",
              "      <td>IR1</td>\n",
              "      <td>Lvl</td>\n",
              "      <td>AllPub</td>\n",
              "      <td>...</td>\n",
              "      <td>0</td>\n",
              "      <td>NaN</td>\n",
              "      <td>NaN</td>\n",
              "      <td>NaN</td>\n",
              "      <td>0</td>\n",
              "      <td>12</td>\n",
              "      <td>2008</td>\n",
              "      <td>WD</td>\n",
              "      <td>Normal</td>\n",
              "      <td>250000</td>\n",
              "    </tr>\n",
              "  </tbody>\n",
              "</table>\n",
              "<p>5 rows × 81 columns</p>\n",
              "</div>\n",
              "    <div class=\"colab-df-buttons\">\n",
              "\n",
              "  <div class=\"colab-df-container\">\n",
              "    <button class=\"colab-df-convert\" onclick=\"convertToInteractive('df-175d12c9-7632-4c06-9a79-95dddc605ebb')\"\n",
              "            title=\"Convert this dataframe to an interactive table.\"\n",
              "            style=\"display:none;\">\n",
              "\n",
              "  <svg xmlns=\"http://www.w3.org/2000/svg\" height=\"24px\" viewBox=\"0 -960 960 960\">\n",
              "    <path d=\"M120-120v-720h720v720H120Zm60-500h600v-160H180v160Zm220 220h160v-160H400v160Zm0 220h160v-160H400v160ZM180-400h160v-160H180v160Zm440 0h160v-160H620v160ZM180-180h160v-160H180v160Zm440 0h160v-160H620v160Z\"/>\n",
              "  </svg>\n",
              "    </button>\n",
              "\n",
              "  <style>\n",
              "    .colab-df-container {\n",
              "      display:flex;\n",
              "      gap: 12px;\n",
              "    }\n",
              "\n",
              "    .colab-df-convert {\n",
              "      background-color: #E8F0FE;\n",
              "      border: none;\n",
              "      border-radius: 50%;\n",
              "      cursor: pointer;\n",
              "      display: none;\n",
              "      fill: #1967D2;\n",
              "      height: 32px;\n",
              "      padding: 0 0 0 0;\n",
              "      width: 32px;\n",
              "    }\n",
              "\n",
              "    .colab-df-convert:hover {\n",
              "      background-color: #E2EBFA;\n",
              "      box-shadow: 0px 1px 2px rgba(60, 64, 67, 0.3), 0px 1px 3px 1px rgba(60, 64, 67, 0.15);\n",
              "      fill: #174EA6;\n",
              "    }\n",
              "\n",
              "    .colab-df-buttons div {\n",
              "      margin-bottom: 4px;\n",
              "    }\n",
              "\n",
              "    [theme=dark] .colab-df-convert {\n",
              "      background-color: #3B4455;\n",
              "      fill: #D2E3FC;\n",
              "    }\n",
              "\n",
              "    [theme=dark] .colab-df-convert:hover {\n",
              "      background-color: #434B5C;\n",
              "      box-shadow: 0px 1px 3px 1px rgba(0, 0, 0, 0.15);\n",
              "      filter: drop-shadow(0px 1px 2px rgba(0, 0, 0, 0.3));\n",
              "      fill: #FFFFFF;\n",
              "    }\n",
              "  </style>\n",
              "\n",
              "    <script>\n",
              "      const buttonEl =\n",
              "        document.querySelector('#df-175d12c9-7632-4c06-9a79-95dddc605ebb button.colab-df-convert');\n",
              "      buttonEl.style.display =\n",
              "        google.colab.kernel.accessAllowed ? 'block' : 'none';\n",
              "\n",
              "      async function convertToInteractive(key) {\n",
              "        const element = document.querySelector('#df-175d12c9-7632-4c06-9a79-95dddc605ebb');\n",
              "        const dataTable =\n",
              "          await google.colab.kernel.invokeFunction('convertToInteractive',\n",
              "                                                    [key], {});\n",
              "        if (!dataTable) return;\n",
              "\n",
              "        const docLinkHtml = 'Like what you see? Visit the ' +\n",
              "          '<a target=\"_blank\" href=https://colab.research.google.com/notebooks/data_table.ipynb>data table notebook</a>'\n",
              "          + ' to learn more about interactive tables.';\n",
              "        element.innerHTML = '';\n",
              "        dataTable['output_type'] = 'display_data';\n",
              "        await google.colab.output.renderOutput(dataTable, element);\n",
              "        const docLink = document.createElement('div');\n",
              "        docLink.innerHTML = docLinkHtml;\n",
              "        element.appendChild(docLink);\n",
              "      }\n",
              "    </script>\n",
              "  </div>\n",
              "\n",
              "\n",
              "<div id=\"df-18955fb4-07ae-4aa9-8f11-800686f88e3b\">\n",
              "  <button class=\"colab-df-quickchart\" onclick=\"quickchart('df-18955fb4-07ae-4aa9-8f11-800686f88e3b')\"\n",
              "            title=\"Suggest charts\"\n",
              "            style=\"display:none;\">\n",
              "\n",
              "<svg xmlns=\"http://www.w3.org/2000/svg\" height=\"24px\"viewBox=\"0 0 24 24\"\n",
              "     width=\"24px\">\n",
              "    <g>\n",
              "        <path d=\"M19 3H5c-1.1 0-2 .9-2 2v14c0 1.1.9 2 2 2h14c1.1 0 2-.9 2-2V5c0-1.1-.9-2-2-2zM9 17H7v-7h2v7zm4 0h-2V7h2v10zm4 0h-2v-4h2v4z\"/>\n",
              "    </g>\n",
              "</svg>\n",
              "  </button>\n",
              "\n",
              "<style>\n",
              "  .colab-df-quickchart {\n",
              "      --bg-color: #E8F0FE;\n",
              "      --fill-color: #1967D2;\n",
              "      --hover-bg-color: #E2EBFA;\n",
              "      --hover-fill-color: #174EA6;\n",
              "      --disabled-fill-color: #AAA;\n",
              "      --disabled-bg-color: #DDD;\n",
              "  }\n",
              "\n",
              "  [theme=dark] .colab-df-quickchart {\n",
              "      --bg-color: #3B4455;\n",
              "      --fill-color: #D2E3FC;\n",
              "      --hover-bg-color: #434B5C;\n",
              "      --hover-fill-color: #FFFFFF;\n",
              "      --disabled-bg-color: #3B4455;\n",
              "      --disabled-fill-color: #666;\n",
              "  }\n",
              "\n",
              "  .colab-df-quickchart {\n",
              "    background-color: var(--bg-color);\n",
              "    border: none;\n",
              "    border-radius: 50%;\n",
              "    cursor: pointer;\n",
              "    display: none;\n",
              "    fill: var(--fill-color);\n",
              "    height: 32px;\n",
              "    padding: 0;\n",
              "    width: 32px;\n",
              "  }\n",
              "\n",
              "  .colab-df-quickchart:hover {\n",
              "    background-color: var(--hover-bg-color);\n",
              "    box-shadow: 0 1px 2px rgba(60, 64, 67, 0.3), 0 1px 3px 1px rgba(60, 64, 67, 0.15);\n",
              "    fill: var(--button-hover-fill-color);\n",
              "  }\n",
              "\n",
              "  .colab-df-quickchart-complete:disabled,\n",
              "  .colab-df-quickchart-complete:disabled:hover {\n",
              "    background-color: var(--disabled-bg-color);\n",
              "    fill: var(--disabled-fill-color);\n",
              "    box-shadow: none;\n",
              "  }\n",
              "\n",
              "  .colab-df-spinner {\n",
              "    border: 2px solid var(--fill-color);\n",
              "    border-color: transparent;\n",
              "    border-bottom-color: var(--fill-color);\n",
              "    animation:\n",
              "      spin 1s steps(1) infinite;\n",
              "  }\n",
              "\n",
              "  @keyframes spin {\n",
              "    0% {\n",
              "      border-color: transparent;\n",
              "      border-bottom-color: var(--fill-color);\n",
              "      border-left-color: var(--fill-color);\n",
              "    }\n",
              "    20% {\n",
              "      border-color: transparent;\n",
              "      border-left-color: var(--fill-color);\n",
              "      border-top-color: var(--fill-color);\n",
              "    }\n",
              "    30% {\n",
              "      border-color: transparent;\n",
              "      border-left-color: var(--fill-color);\n",
              "      border-top-color: var(--fill-color);\n",
              "      border-right-color: var(--fill-color);\n",
              "    }\n",
              "    40% {\n",
              "      border-color: transparent;\n",
              "      border-right-color: var(--fill-color);\n",
              "      border-top-color: var(--fill-color);\n",
              "    }\n",
              "    60% {\n",
              "      border-color: transparent;\n",
              "      border-right-color: var(--fill-color);\n",
              "    }\n",
              "    80% {\n",
              "      border-color: transparent;\n",
              "      border-right-color: var(--fill-color);\n",
              "      border-bottom-color: var(--fill-color);\n",
              "    }\n",
              "    90% {\n",
              "      border-color: transparent;\n",
              "      border-bottom-color: var(--fill-color);\n",
              "    }\n",
              "  }\n",
              "</style>\n",
              "\n",
              "  <script>\n",
              "    async function quickchart(key) {\n",
              "      const quickchartButtonEl =\n",
              "        document.querySelector('#' + key + ' button');\n",
              "      quickchartButtonEl.disabled = true;  // To prevent multiple clicks.\n",
              "      quickchartButtonEl.classList.add('colab-df-spinner');\n",
              "      try {\n",
              "        const charts = await google.colab.kernel.invokeFunction(\n",
              "            'suggestCharts', [key], {});\n",
              "      } catch (error) {\n",
              "        console.error('Error during call to suggestCharts:', error);\n",
              "      }\n",
              "      quickchartButtonEl.classList.remove('colab-df-spinner');\n",
              "      quickchartButtonEl.classList.add('colab-df-quickchart-complete');\n",
              "    }\n",
              "    (() => {\n",
              "      let quickchartButtonEl =\n",
              "        document.querySelector('#df-18955fb4-07ae-4aa9-8f11-800686f88e3b button');\n",
              "      quickchartButtonEl.style.display =\n",
              "        google.colab.kernel.accessAllowed ? 'block' : 'none';\n",
              "    })();\n",
              "  </script>\n",
              "</div>\n",
              "\n",
              "    </div>\n",
              "  </div>\n"
            ],
            "application/vnd.google.colaboratory.intrinsic+json": {
              "type": "dataframe"
            }
          },
          "metadata": {}
        }
      ],
      "source": [
        "import pandas as pd\n",
        "import numpy as np\n",
        "import matplotlib.pyplot as plt\n",
        "import seaborn as sns\n",
        "from sklearn.model_selection import train_test_split, cross_val_score\n",
        "from sklearn.preprocessing import StandardScaler, LabelEncoder\n",
        "from sklearn.neighbors import KNeighborsRegressor, KNeighborsClassifier\n",
        "from sklearn.linear_model import LinearRegression\n",
        "from sklearn.tree import DecisionTreeRegressor\n",
        "from sklearn.metrics import mean_squared_error, r2_score, classification_report, confusion_matrix\n",
        "\n",
        "# 1. Cargar el dataset (asegúrate de que \"train.csv\" esté en la carpeta de trabajo)\n",
        "df = pd.read_csv(\"train.csv\")\n",
        "display(df.head())\n",
        "\n"
      ]
    },
    {
      "cell_type": "markdown",
      "source": [
        "## Análisis del Preprocesamiento de Datos"
      ],
      "metadata": {
        "id": "RJE4ZtzW9SxH"
      }
    },
    {
      "cell_type": "code",
      "source": [
        "# 2. PREPROCESAMIENTO DE LOS DATOS\n",
        "print(\"Eliminando valores nulos...\")\n",
        "df.dropna(inplace=True)\n",
        "\n",
        "def categorize_price(price):\n",
        "    if price < 130000:\n",
        "        return \"Barata\"\n",
        "    elif price < 250000:\n",
        "        return \"Media\"\n",
        "    else:\n",
        "        return \"Cara\"\n",
        "\n",
        "print(\"Creando columna PriceCategory basada en SalePrice...\")\n",
        "df[\"PriceCategory\"] = df[\"SalePrice\"].apply(categorize_price)\n",
        "\n",
        "\n",
        "print(\"Seleccionando características y variables de salida...\")\n",
        "X = df[['OverallQual', 'GrLivArea', 'GarageCars', 'TotalBsmtSF', 'FullBath', 'YearBuilt']]\n",
        "y_reg = df[\"SalePrice\"]\n",
        "y_clf = df[\"PriceCategory\"]\n",
        "\n",
        "\n",
        "print(\"Codificando la variable PriceCategory...\")\n",
        "le = LabelEncoder()\n",
        "y_clf = le.fit_transform(y_clf)\n",
        "\n",
        "\n",
        "if len(df) > 0:\n",
        "    print(\"Dividiendo en conjuntos de entrenamiento y prueba...\")\n",
        "    X_train, X_test, y_train_reg, y_test_reg = train_test_split(X, y_reg, test_size=0.2, random_state=42)\n",
        "    X_train_clf, X_test_clf, y_train_clf, y_test_clf = train_test_split(X, y_clf, test_size=0.2, random_state=42)\n",
        "\n",
        "\n",
        "    print(\"Normalizando los datos...\")\n",
        "    scaler_reg = StandardScaler()\n",
        "    X_train_scaled = scaler_reg.fit_transform(X_train)\n",
        "    X_test_scaled = scaler_reg.transform(X_test)\n",
        "\n",
        "    scaler_clf = StandardScaler()\n",
        "    X_train_clf_scaled = scaler_clf.fit_transform(X_train_clf)\n",
        "    X_test_clf_scaled = scaler_clf.transform(X_test_clf)\n"
      ],
      "metadata": {
        "colab": {
          "base_uri": "https://localhost:8080/"
        },
        "id": "Ee-1ky3L9F8w",
        "outputId": "5ef6a04c-c9ce-4507-cd98-c91380a9d38a"
      },
      "execution_count": 25,
      "outputs": [
        {
          "output_type": "stream",
          "name": "stdout",
          "text": [
            "Eliminando valores nulos...\n",
            "Creando columna PriceCategory basada en SalePrice...\n",
            "Seleccionando características y variables de salida...\n",
            "Codificando la variable PriceCategory...\n",
            "Dividiendo en conjuntos de entrenamiento y prueba...\n",
            "Normalizando los datos...\n"
          ]
        }
      ]
    },
    {
      "cell_type": "markdown",
      "source": [
        "El código realiza una serie de pasos clave en el preprocesamiento de los datos para preparar un conjunto de datos de precios de viviendas antes de su uso en modelos de regresión y clasificación.\n",
        "1. Manejo de valores nulos\n",
        "\n",
        "  - Se eliminan filas con valores nulos usando df.dropna(inplace=True), lo que puede ser una estrategia simple pero riesgosa si se pierden demasiados datos. En algunos casos, podría ser preferible imputar valores en lugar de eliminarlos.\n",
        "\n",
        "2. Creación de una variable categórica basada en el precio de venta\n",
        "\n",
        "  - La función categorize_price(price) clasifica las viviendas en tres categorías (\"Barata\", \"Media\" y \"Cara\") en función de su SalePrice.\n",
        "\n",
        "  - Sin embargo, los umbrales (130,000 y 250,000) son arbitrarios y podrían requerir análisis exploratorio o técnicas estadísticas para definirlos mejor.\n",
        "\n",
        "3. Selección de variables predictoras y variables de salida\n",
        "\n",
        "  - Se seleccionan variables relevantes como OverallQual, GrLivArea, GarageCars, TotalBsmtSF, FullBath y YearBuilt, lo que sugiere que se están considerando factores clave en la valoración de viviendas.\n",
        "\n",
        "  - Se definen dos variables objetivo:\n",
        "\n",
        "    - y_reg (precio de venta) para un modelo de regresión.\n",
        "\n",
        "    - y_clf (categoría de precio) para un modelo de clasificación.\n",
        "\n",
        "4. Codificación de la variable categórica para clasificación\n",
        "\n",
        "  - Se usa LabelEncoder() para convertir PriceCategory en valores numéricos, facilitando su uso en modelos de aprendizaje automático.\n",
        "\n",
        "5. División en conjuntos de entrenamiento y prueba\n",
        "\n",
        "  - Se utiliza train_test_split() con una proporción del 80% para entrenamiento y 20% para prueba, asegurando que los modelos puedan ser evaluados con datos no vistos.\n",
        "\n",
        "El uso de random_state=42 garantiza que la partición sea reproducible.\n",
        "\n",
        "6. Normalización de los datos\n",
        "\n",
        "  - Se aplican dos normalizaciones independientes usando StandardScaler(), lo cual es correcto ya que la regresión y la clasificación pueden beneficiarse de escalas distintas.\n",
        "\n",
        "  - La normalización es importante para evitar que variables con rangos de valores grandes dominen otras en modelos sensibles a escalas, como regresión lineal o redes neuronales."
      ],
      "metadata": {
        "id": "dRQz8tcZ9U0r"
      }
    },
    {
      "cell_type": "markdown",
      "source": [
        "## Verificar valores nulos"
      ],
      "metadata": {
        "id": "O1u3Zdte_GdK"
      }
    },
    {
      "cell_type": "code",
      "source": [
        "# 1. Cargar el dataset\n",
        "df = pd.read_csv(\"train.csv\")\n",
        "print(\"Número de filas y columnas después de cargar:\", df.shape)\n",
        "\n",
        "# 2. Verificar valores nulos\n",
        "print(\"Valores nulos por columna:\")\n",
        "print(df.isnull().sum())\n",
        "\n",
        "df.dropna(how='all', inplace=True)\n",
        "print(\"Número de filas y columnas después de eliminar filas completamente nulas:\", df.shape)\n"
      ],
      "metadata": {
        "colab": {
          "base_uri": "https://localhost:8080/"
        },
        "collapsed": true,
        "id": "f4mD0H9ZEV2W",
        "outputId": "d4de1064-62b1-428f-99ca-654f7346d58e"
      },
      "execution_count": 65,
      "outputs": [
        {
          "output_type": "stream",
          "name": "stdout",
          "text": [
            "Número de filas y columnas después de cargar: (1460, 81)\n",
            "Valores nulos por columna:\n",
            "Id                 0\n",
            "MSSubClass         0\n",
            "MSZoning           0\n",
            "LotFrontage      259\n",
            "LotArea            0\n",
            "                ... \n",
            "MoSold             0\n",
            "YrSold             0\n",
            "SaleType           0\n",
            "SaleCondition      0\n",
            "SalePrice          0\n",
            "Length: 81, dtype: int64\n",
            "Número de filas y columnas después de eliminar filas completamente nulas: (1460, 81)\n"
          ]
        }
      ]
    },
    {
      "cell_type": "markdown",
      "source": [
        "1. Dimensiones Iniciales del Dataset\n",
        "El dataset cargado tiene 1,460 filas y 81 columnas, lo que indica que se trata de un conjunto de datos extenso con múltiples variables. Esto sugiere que el análisis requerirá técnicas adecuadas de limpieza y exploración para evitar problemas de calidad en los datos.\n",
        "\n",
        "2. Valores Nulos Detectados\n",
        "El análisis de valores nulos muestra que algunas columnas contienen datos faltantes, siendo LotFrontage una de las más afectadas con 259 valores nulos. Esto representa aproximadamente un 17.7% de los datos en esa columna, lo cual podría influir en las decisiones de imputación o eliminación. Otras columnas tienen valores nulos, pero en menor medida.\n",
        "\n",
        "3. Eliminación de Filas Completamente Nulas\n",
        "Después de eliminar filas donde todas las columnas son nulas, el número de filas sigue siendo 1,460. Esto indica que no había filas completamente vacías en el dataset, lo que sugiere que los valores nulos están dispersos entre diferentes columnas, en lugar de afectar registros completos."
      ],
      "metadata": {
        "id": "8mgMf5dI-6t4"
      }
    },
    {
      "cell_type": "markdown",
      "source": [
        "## Imputar valores nulos"
      ],
      "metadata": {
        "id": "h5IVbVHL_T-n"
      }
    },
    {
      "cell_type": "code",
      "source": [
        "# 4. Imputar valores nulos\n",
        "if df.isnull().sum().any():\n",
        "    print(\"Hay valores nulos. Imputando valores nulos...\")\n",
        "\n",
        "\n",
        "    numeric_columns = df.select_dtypes(include='number').columns\n",
        "    print(\"Columnas numéricas:\", numeric_columns)\n",
        "    df[numeric_columns] = df[numeric_columns].fillna(df[numeric_columns].mean())\n",
        "    print(\"Valores nulos en columnas numéricas después de imputar:\\n\", df[numeric_columns].isnull().sum())\n",
        "\n",
        "\n",
        "    non_numeric_columns = df.select_dtypes(exclude='number').columns\n",
        "    print(\"Columnas no numéricas:\", non_numeric_columns)\n",
        "    for col in non_numeric_columns:\n",
        "        df[col].fillna(df[col].mode()[0], inplace=True)\n",
        "    print(\"Valores nulos en columnas no numéricas después de imputar:\\n\", df[non_numeric_columns].isnull().sum())"
      ],
      "metadata": {
        "id": "ENiJN3diENUC",
        "colab": {
          "base_uri": "https://localhost:8080/"
        },
        "outputId": "d93a3c02-f975-424e-c6d0-2df311867bbc"
      },
      "execution_count": 14,
      "outputs": [
        {
          "output_type": "stream",
          "name": "stdout",
          "text": [
            "Hay valores nulos. Imputando valores nulos...\n",
            "Columnas numéricas: Index(['Id', 'MSSubClass', 'LotFrontage', 'LotArea', 'OverallQual',\n",
            "       'OverallCond', 'YearBuilt', 'YearRemodAdd', 'MasVnrArea', 'BsmtFinSF1',\n",
            "       'BsmtFinSF2', 'BsmtUnfSF', 'TotalBsmtSF', '1stFlrSF', '2ndFlrSF',\n",
            "       'LowQualFinSF', 'GrLivArea', 'BsmtFullBath', 'BsmtHalfBath', 'FullBath',\n",
            "       'HalfBath', 'BedroomAbvGr', 'KitchenAbvGr', 'TotRmsAbvGrd',\n",
            "       'Fireplaces', 'GarageYrBlt', 'GarageCars', 'GarageArea', 'WoodDeckSF',\n",
            "       'OpenPorchSF', 'EnclosedPorch', '3SsnPorch', 'ScreenPorch', 'PoolArea',\n",
            "       'MiscVal', 'MoSold', 'YrSold', 'SalePrice'],\n",
            "      dtype='object')\n",
            "Valores nulos en columnas numéricas después de imputar:\n",
            " Id               0\n",
            "MSSubClass       0\n",
            "LotFrontage      0\n",
            "LotArea          0\n",
            "OverallQual      0\n",
            "OverallCond      0\n",
            "YearBuilt        0\n",
            "YearRemodAdd     0\n",
            "MasVnrArea       0\n",
            "BsmtFinSF1       0\n",
            "BsmtFinSF2       0\n",
            "BsmtUnfSF        0\n",
            "TotalBsmtSF      0\n",
            "1stFlrSF         0\n",
            "2ndFlrSF         0\n",
            "LowQualFinSF     0\n",
            "GrLivArea        0\n",
            "BsmtFullBath     0\n",
            "BsmtHalfBath     0\n",
            "FullBath         0\n",
            "HalfBath         0\n",
            "BedroomAbvGr     0\n",
            "KitchenAbvGr     0\n",
            "TotRmsAbvGrd     0\n",
            "Fireplaces       0\n",
            "GarageYrBlt      0\n",
            "GarageCars       0\n",
            "GarageArea       0\n",
            "WoodDeckSF       0\n",
            "OpenPorchSF      0\n",
            "EnclosedPorch    0\n",
            "3SsnPorch        0\n",
            "ScreenPorch      0\n",
            "PoolArea         0\n",
            "MiscVal          0\n",
            "MoSold           0\n",
            "YrSold           0\n",
            "SalePrice        0\n",
            "dtype: int64\n",
            "Columnas no numéricas: Index(['MSZoning', 'Street', 'Alley', 'LotShape', 'LandContour', 'Utilities',\n",
            "       'LotConfig', 'LandSlope', 'Neighborhood', 'Condition1', 'Condition2',\n",
            "       'BldgType', 'HouseStyle', 'RoofStyle', 'RoofMatl', 'Exterior1st',\n",
            "       'Exterior2nd', 'MasVnrType', 'ExterQual', 'ExterCond', 'Foundation',\n",
            "       'BsmtQual', 'BsmtCond', 'BsmtExposure', 'BsmtFinType1', 'BsmtFinType2',\n",
            "       'Heating', 'HeatingQC', 'CentralAir', 'Electrical', 'KitchenQual',\n",
            "       'Functional', 'FireplaceQu', 'GarageType', 'GarageFinish', 'GarageQual',\n",
            "       'GarageCond', 'PavedDrive', 'PoolQC', 'Fence', 'MiscFeature',\n",
            "       'SaleType', 'SaleCondition'],\n",
            "      dtype='object')\n",
            "Valores nulos en columnas no numéricas después de imputar:\n",
            " MSZoning         0\n",
            "Street           0\n",
            "Alley            0\n",
            "LotShape         0\n",
            "LandContour      0\n",
            "Utilities        0\n",
            "LotConfig        0\n",
            "LandSlope        0\n",
            "Neighborhood     0\n",
            "Condition1       0\n",
            "Condition2       0\n",
            "BldgType         0\n",
            "HouseStyle       0\n",
            "RoofStyle        0\n",
            "RoofMatl         0\n",
            "Exterior1st      0\n",
            "Exterior2nd      0\n",
            "MasVnrType       0\n",
            "ExterQual        0\n",
            "ExterCond        0\n",
            "Foundation       0\n",
            "BsmtQual         0\n",
            "BsmtCond         0\n",
            "BsmtExposure     0\n",
            "BsmtFinType1     0\n",
            "BsmtFinType2     0\n",
            "Heating          0\n",
            "HeatingQC        0\n",
            "CentralAir       0\n",
            "Electrical       0\n",
            "KitchenQual      0\n",
            "Functional       0\n",
            "FireplaceQu      0\n",
            "GarageType       0\n",
            "GarageFinish     0\n",
            "GarageQual       0\n",
            "GarageCond       0\n",
            "PavedDrive       0\n",
            "PoolQC           0\n",
            "Fence            0\n",
            "MiscFeature      0\n",
            "SaleType         0\n",
            "SaleCondition    0\n",
            "dtype: int64\n"
          ]
        },
        {
          "output_type": "stream",
          "name": "stderr",
          "text": [
            "<ipython-input-14-4467ac4e5cc8>:15: FutureWarning: A value is trying to be set on a copy of a DataFrame or Series through chained assignment using an inplace method.\n",
            "The behavior will change in pandas 3.0. This inplace method will never work because the intermediate object on which we are setting values always behaves as a copy.\n",
            "\n",
            "For example, when doing 'df[col].method(value, inplace=True)', try using 'df.method({col: value}, inplace=True)' or df[col] = df[col].method(value) instead, to perform the operation inplace on the original object.\n",
            "\n",
            "\n",
            "  df[col].fillna(df[col].mode()[0], inplace=True)\n"
          ]
        }
      ]
    },
    {
      "cell_type": "markdown",
      "source": [
        "Dado que aún había valores nulos después de la eliminación de filas vacías, se procedió a imputarlos:\n",
        "\n",
        "Columnas numéricas: Se rellenaron con la media de cada columna. Esto es una estrategia común, pero puede no ser la mejor si los datos tienen una distribución sesgada o valores atípicos. En tales casos, la mediana podría ser una mejor opción.\n",
        "\n",
        "Columnas categóricas: Se rellenaron con la moda (el valor más frecuente). Esto es útil cuando la categoría más común representa bien la distribución de los datos, pero puede distorsionar la variabilidad si hay muchas categorías con frecuencias similares."
      ],
      "metadata": {
        "id": "JgfgI_4__h1A"
      }
    },
    {
      "cell_type": "markdown",
      "source": [
        "## Crear la columna PriceCategory basada en SalePrice"
      ],
      "metadata": {
        "id": "VvyMRgC4AHuV"
      }
    },
    {
      "cell_type": "code",
      "source": [
        "# 5. Crear la columna PriceCategory basada en SalePrice\n",
        "def categorize_price(price):\n",
        "    if price < 130000:\n",
        "        return \"Barata\"\n",
        "    elif price < 250000:\n",
        "        return \"Media\"\n",
        "    else:\n",
        "        return \"Cara\"\n",
        "\n",
        "print(\"Creando columna PriceCategory basada en SalePrice...\")\n",
        "df[\"PriceCategory\"] = df[\"SalePrice\"].apply(categorize_price)\n",
        "print(\"Primeras filas de PriceCategory:\\n\", df[\"PriceCategory\"].head())"
      ],
      "metadata": {
        "id": "6HYQfs9LH7-C",
        "colab": {
          "base_uri": "https://localhost:8080/"
        },
        "outputId": "56e65a83-35ae-4219-cf49-55df68ecc0ca"
      },
      "execution_count": 17,
      "outputs": [
        {
          "output_type": "stream",
          "name": "stdout",
          "text": [
            "Creando columna PriceCategory basada en SalePrice...\n",
            "Primeras filas de PriceCategory:\n",
            " 0    Media\n",
            "1    Media\n",
            "2    Media\n",
            "3    Media\n",
            "4     Cara\n",
            "Name: PriceCategory, dtype: object\n"
          ]
        }
      ]
    },
    {
      "cell_type": "markdown",
      "source": [
        "### Análisis y Discusión de los Resultados\n",
        "1. Creación de la Categoría \"PriceCategory\"\n",
        "Se ha generado una nueva columna PriceCategory, la cual clasifica las casas en tres categorías basadas en su precio de venta (SalePrice):\n",
        "\n",
        "  - Barata: Menos de $130,000\n",
        "\n",
        "  - Media: Entre $130,000 y $249,999\n",
        "\n",
        "  - Cara: $250,000 o más\n",
        "\n",
        "Esta clasificación permite segmentar las propiedades en rangos de precios fácilmente interpretables, lo que puede ser útil para análisis descriptivos y modelado predictivo.\n",
        "\n",
        "2. Impacto y Utilidad de la Nueva Columna\n",
        "\n",
        "Mejor interpretación: En lugar de analizar precios en valores absolutos, esta categorización facilita la identificación de tendencias y patrones en la distribución de los precios.\n",
        "\n",
        "Posible mejora en modelos predictivos: Si se desea construir un modelo de clasificación en lugar de regresión, esta variable podría ser útil como etiqueta de salida (target).\n",
        "\n",
        "Estrategias de marketing y negocio: Permite segmentar clientes y definir estrategias diferenciadas según el nivel de precio de las propiedades."
      ],
      "metadata": {
        "id": "W1frYG4g_yZj"
      }
    },
    {
      "cell_type": "markdown",
      "source": [
        "## Seleccionar variables predictoras y variables respuesta"
      ],
      "metadata": {
        "id": "hjMzV1DaKsUl"
      }
    },
    {
      "cell_type": "code",
      "source": [
        "# 6. Seleccionar variables predictoras y variables respuesta\n",
        "print(\"Seleccionando características y variables de salida...\")\n",
        "X = df[['OverallQual', 'GrLivArea', 'GarageCars', 'TotalBsmtSF', 'FullBath', 'YearBuilt']]\n",
        "y_reg = df[\"SalePrice\"]\n",
        "y_clf = df[\"PriceCategory\"]\n",
        "print(\"Variables predictoras (X):\\n\", X.head())\n",
        "print(\"Variable respuesta para regresión (y_reg):\\n\", y_reg.head())\n",
        "print(\"Variable respuesta para clasificación (y_clf):\\n\", y_clf.head())"
      ],
      "metadata": {
        "id": "Cli3cwLWH72j",
        "colab": {
          "base_uri": "https://localhost:8080/"
        },
        "outputId": "e92b8bdc-c4d3-4e64-c7b4-9e698ba68689"
      },
      "execution_count": 18,
      "outputs": [
        {
          "output_type": "stream",
          "name": "stdout",
          "text": [
            "Seleccionando características y variables de salida...\n",
            "Variables predictoras (X):\n",
            "    OverallQual  GrLivArea  GarageCars  TotalBsmtSF  FullBath  YearBuilt\n",
            "0            7       1710           2          856         2       2003\n",
            "1            6       1262           2         1262         2       1976\n",
            "2            7       1786           2          920         2       2001\n",
            "3            7       1717           3          756         1       1915\n",
            "4            8       2198           3         1145         2       2000\n",
            "Variable respuesta para regresión (y_reg):\n",
            " 0    208500\n",
            "1    181500\n",
            "2    223500\n",
            "3    140000\n",
            "4    250000\n",
            "Name: SalePrice, dtype: int64\n",
            "Variable respuesta para clasificación (y_clf):\n",
            " 0    Media\n",
            "1    Media\n",
            "2    Media\n",
            "3    Media\n",
            "4     Cara\n",
            "Name: PriceCategory, dtype: object\n"
          ]
        }
      ]
    },
    {
      "cell_type": "markdown",
      "source": [
        "### Análisis y Discusión de la Selección de Variables\n",
        "1. Variables Predictoras (X)\n",
        "Se han seleccionado las siguientes variables como características predictoras para el modelo:\n",
        "\n",
        "  - OverallQual (Calidad general de la casa): Se espera que tenga una fuerte correlación con el precio de venta.\n",
        "\n",
        "  - GrLivArea (Área habitable sobre el suelo): Normalmente, una mayor área habitable implica un mayor precio.\n",
        "\n",
        "  - GarageCars (Cantidad de espacios en garaje): Un factor importante en la valoración de viviendas.\n",
        "\n",
        "  - TotalBsmtSF (Área total del sótano): También puede influir en la percepción del valor.\n",
        "\n",
        "  - FullBath (Número de baños completos): Es relevante para la comodidad del hogar.\n",
        "\n",
        "  - YearBuilt (Año de construcción): Casas más nuevas tienden a valer más.\n",
        "\n",
        "La muestra de las primeras cinco filas confirma que estos datos son valores numéricos adecuados para el modelado predictivo.\n",
        "\n",
        "2. Variables de Respuesta\n",
        "Se han definido dos variables objetivo, dependiendo del tipo de problema a resolver:\n",
        "\n",
        "  - y_reg (SalePrice): Para modelado de regresión, donde se busca predecir el precio exacto de las casas.\n",
        "\n",
        "  - y_clf (PriceCategory): Para modelado de clasificación, donde se agrupan las casas en categorías de precio (Barata, Media, Cara).\n",
        "\n",
        "Las primeras filas de y_reg muestran valores típicos de precios de viviendas, mientras que y_clf refleja la clasificación categórica basada en la segmentación previa."
      ],
      "metadata": {
        "id": "nLDU69VXAW8c"
      }
    },
    {
      "cell_type": "markdown",
      "source": [
        "## Codificar la variable categórica para clasificación"
      ],
      "metadata": {
        "id": "M-79FiINA4ff"
      }
    },
    {
      "cell_type": "code",
      "source": [
        "# 7. Codificar la variable categórica para clasificación\n",
        "print(\"Codificando la variable PriceCategory...\")\n",
        "le = LabelEncoder()\n",
        "y_clf = le.fit_transform(y_clf)\n",
        "print(\"Variable respuesta codificada (y_clf):\\n\", y_clf[:5])\n",
        "\n"
      ],
      "metadata": {
        "id": "5pRx2VBGH_4q",
        "colab": {
          "base_uri": "https://localhost:8080/"
        },
        "outputId": "7714b7f6-122f-463c-98f5-c4a7d64caa0a"
      },
      "execution_count": 20,
      "outputs": [
        {
          "output_type": "stream",
          "name": "stdout",
          "text": [
            "Codificando la variable PriceCategory...\n",
            "Variable respuesta codificada (y_clf):\n",
            " [2 2 2 2 1]\n"
          ]
        }
      ]
    },
    {
      "cell_type": "markdown",
      "source": [
        "### Discusión sobre la Codificación de la Variable PriceCategory\n",
        "1. ¿Por qué es Necesario Codificar PriceCategory?\n",
        "Las variables categóricas deben convertirse en valores numéricos antes de ser utilizadas en modelos de aprendizaje automático que requieren entradas numéricas (como regresión logística, SVM o redes neuronales). Para ello, se ha usado LabelEncoder(), que asigna un número entero a cada categoría de precio:\n",
        "\n",
        "Barata → 0\n",
        "\n",
        "Media → 1\n",
        "\n",
        "Cara → 2\n",
        "\n",
        "Los valores obtenidos [2, 2, 2, 2, 1] indican que las primeras casas en el conjunto de datos fueron clasificadas como Media (2) y Cara (1)."
      ],
      "metadata": {
        "id": "w0yDQYxABEyQ"
      }
    },
    {
      "cell_type": "markdown",
      "source": [
        "## Dividir en conjuntos de entrenamiento y prueba"
      ],
      "metadata": {
        "id": "Z5m6EY_EKxG2"
      }
    },
    {
      "cell_type": "code",
      "source": [
        "# 8. Dividir en conjuntos de entrenamiento y prueba\n",
        "if len(df) > 0:\n",
        "    print(\"Dividiendo en conjuntos de entrenamiento y prueba...\")\n",
        "    X_train, X_test, y_train_reg, y_test_reg = train_test_split(X, y_reg, test_size=0.2, random_state=42)\n",
        "    X_train_clf, X_test_clf, y_train_clf, y_test_clf = train_test_split(X, y_clf, test_size=0.2, random_state=42)\n",
        "    print(\"Tamaño de X_train:\", X_train.shape)\n",
        "    print(\"Tamaño de X_test:\", X_test.shape)\n",
        "    print(\"Tamaño de y_train_reg:\", y_train_reg.shape)\n",
        "    print(\"Tamaño de y_test_reg:\", y_test_reg.shape)\n",
        "    print(\"Tamaño de y_train_clf:\", y_train_clf.shape)\n",
        "    print(\"Tamaño de y_test_clf:\", y_test_clf.shape)\n"
      ],
      "metadata": {
        "id": "gM892wYRIFkk",
        "colab": {
          "base_uri": "https://localhost:8080/"
        },
        "outputId": "1b245831-c1e4-42b5-9883-261dcb26f130"
      },
      "execution_count": 27,
      "outputs": [
        {
          "output_type": "stream",
          "name": "stdout",
          "text": [
            "Dividiendo en conjuntos de entrenamiento y prueba...\n",
            "Tamaño de X_train: (1168, 6)\n",
            "Tamaño de X_test: (292, 6)\n",
            "Tamaño de y_train_reg: (1168,)\n",
            "Tamaño de y_test_reg: (292,)\n",
            "Tamaño de y_train_clf: (1168,)\n",
            "Tamaño de y_test_clf: (292,)\n"
          ]
        }
      ]
    },
    {
      "cell_type": "markdown",
      "source": [
        "## Discusión sobre la División de los Conjuntos de Entrenamiento y Prueba\n",
        "1. Justificación de la División\n",
        "El propósito de dividir los datos en conjuntos de entrenamiento y prueba es evaluar el rendimiento del modelo en datos no vistos. En este caso, se ha utilizado train_test_split() con un 80% para entrenamiento y 20% para prueba (test_size=0.2). Esta proporción es adecuada para conjuntos de datos medianos como este (1460 registros).\n",
        "\n",
        "\n",
        "2. ¿Es Adecuada la Selección de Variables Predictoras (X)?\n",
        "- Las variables seleccionadas son:\n",
        "\n",
        "  - OverallQual: Calidad general del material y acabado.\n",
        "\n",
        "  - GrLivArea: Área de la casa habitable sobre el suelo.\n",
        "\n",
        "  - GarageCars: Tamaño del garaje en número de autos.\n",
        "\n",
        "  - TotalBsmtSF: Área total del sótano en pies cuadrados.\n",
        "\n",
        "  - FullBath: Número de baños completos en la casa.\n",
        "\n",
        "  - YearBuilt: Año de construcción."
      ],
      "metadata": {
        "id": "21Tb_PdXBdHV"
      }
    },
    {
      "cell_type": "markdown",
      "source": [
        " ## Normalización de los datos"
      ],
      "metadata": {
        "id": "owczSKevK0Sp"
      }
    },
    {
      "cell_type": "code",
      "source": [
        "\n",
        "    # 9. Normalización de los datos\n",
        "    print(\"Normalizando los datos...\")\n",
        "    scaler_reg = StandardScaler()\n",
        "    X_train_scaled = scaler_reg.fit_transform(X_train)\n",
        "    X_test_scaled = scaler_reg.transform(X_test)\n",
        "    print(\"Primeras filas de X_train_scaled:\\n\", X_train_scaled[:5])\n",
        "    print(\"Primeras filas de X_test_scaled:\\n\", X_test_scaled[:5])\n",
        "\n",
        "    scaler_clf = StandardScaler()\n",
        "    X_train_clf_scaled = scaler_clf.fit_transform(X_train_clf)\n",
        "    X_test_clf_scaled = scaler_clf.transform(X_test_clf)\n",
        "    print(\"Primeras filas de X_train_clf_scaled:\\n\", X_train_clf_scaled[:5])\n",
        "    print(\"Primeras filas de X_test_clf_scaled:\\n\", X_test_clf_scaled[:5])"
      ],
      "metadata": {
        "colab": {
          "base_uri": "https://localhost:8080/"
        },
        "id": "g0gRgHKh4NTe",
        "outputId": "fe759e4f-4018-404e-c223-e6fb398113f2"
      },
      "execution_count": 31,
      "outputs": [
        {
          "output_type": "stream",
          "name": "stdout",
          "text": [
            "Normalizando los datos...\n",
            "Primeras filas de X_train_scaled:\n",
            " [[-0.82044456 -0.40709315 -1.05654384  0.57261219 -1.05556573 -0.45546896]\n",
            " [-0.08893368  0.08317013  0.29509165 -0.59654659  0.7736639   0.71860895]\n",
            " [-0.82044456 -1.39525026 -2.40817934 -0.60335723 -1.05556573 -1.98829291]\n",
            " [-0.82044456  0.45897505 -1.05654384 -0.75092096 -1.05556573 -1.10773447]\n",
            " [-0.82044456  0.31208684 -1.05654384 -0.08120864  0.7736639  -1.53170705]]\n",
            "Primeras filas de X_test_scaled:\n",
            " [[-0.08893368 -0.87637239 -1.05654384 -0.00629167 -1.05556573 -0.25978931]\n",
            " [ 1.37408806  2.08809894  0.29509165  0.91087367  0.7736639   0.75122223]\n",
            " [-0.82044456 -0.95267796  0.29509165 -0.12207245 -1.05556573 -1.43386723]\n",
            " [-0.08893368  0.26058058  0.29509165 -0.13115329  0.7736639  -0.78160172]\n",
            " [ 2.10559893  0.17664445  1.64672715  1.26729683  0.7736639   1.17519481]]\n",
            "Primeras filas de X_train_clf_scaled:\n",
            " [[-0.82044456 -0.40709315 -1.05654384  0.57261219 -1.05556573 -0.45546896]\n",
            " [-0.08893368  0.08317013  0.29509165 -0.59654659  0.7736639   0.71860895]\n",
            " [-0.82044456 -1.39525026 -2.40817934 -0.60335723 -1.05556573 -1.98829291]\n",
            " [-0.82044456  0.45897505 -1.05654384 -0.75092096 -1.05556573 -1.10773447]\n",
            " [-0.82044456  0.31208684 -1.05654384 -0.08120864  0.7736639  -1.53170705]]\n",
            "Primeras filas de X_test_clf_scaled:\n",
            " [[-0.08893368 -0.87637239 -1.05654384 -0.00629167 -1.05556573 -0.25978931]\n",
            " [ 1.37408806  2.08809894  0.29509165  0.91087367  0.7736639   0.75122223]\n",
            " [-0.82044456 -0.95267796  0.29509165 -0.12207245 -1.05556573 -1.43386723]\n",
            " [-0.08893368  0.26058058  0.29509165 -0.13115329  0.7736639  -0.78160172]\n",
            " [ 2.10559893  0.17664445  1.64672715  1.26729683  0.7736639   1.17519481]]\n"
          ]
        }
      ]
    },
    {
      "cell_type": "markdown",
      "source": [
        "### Análisis de la Normalización de los Datos\n",
        "1. Objetivo de la Normalización\n",
        "El uso de StandardScaler transforma las variables para que tengan media 0 y desviación estándar 1, lo cual es crucial para modelos que dependen de la escala de los datos, como:\n",
        "\n",
        "  - Regresión Lineal/Ridge/Lasso\n",
        "\n",
        "  - Redes Neuronales\n",
        "\n",
        "  - SVM\n",
        "\n",
        "  - KNN\n",
        "\n",
        "  - PCA (Análisis de Componentes Principales)\n",
        "\n",
        "2. Aplicación Correcta de la Normalización\n",
        "Se ha aplicado la normalización por separado a los conjuntos de regresión (X_train_scaled, X_test_scaled) y clasificación (X_train_clf_scaled, X_test_clf_scaled). Esto es una buena práctica porque:\n",
        "\n",
        "  - Cada modelo puede requerir un escalado diferente.\n",
        "\n",
        "  - Evita fugas de datos entre tareas de clasificación y regresión."
      ],
      "metadata": {
        "id": "hu_RWUMgB9i_"
      }
    },
    {
      "cell_type": "markdown",
      "source": [
        "## MODELO DE REGRESIÓN CON KNN"
      ],
      "metadata": {
        "id": "eyZL3M6rK3ZH"
      }
    },
    {
      "cell_type": "code",
      "source": [
        "    # 10. MODELO DE REGRESIÓN CON KNN\n",
        "    print(\"Entrenando modelo de regresión con KNN...\")\n",
        "    knn_reg = KNeighborsRegressor(n_neighbors=5)\n",
        "    knn_reg.fit(X_train_scaled, y_train_reg)\n",
        "    y_pred_knn = knn_reg.predict(X_test_scaled)\n",
        "    print(\"Predicciones de KNN Regresión (primeras 5):\\n\", y_pred_knn[:5])\n",
        "\n",
        "    mse_knn = mean_squared_error(y_test_reg, y_pred_knn)\n",
        "    r2_knn = r2_score(y_test_reg, y_pred_knn)\n",
        "    print(f\"KNN Regresión - MSE: {mse_knn:.2f}, R²: {r2_knn:.2f}\")"
      ],
      "metadata": {
        "colab": {
          "base_uri": "https://localhost:8080/"
        },
        "id": "b9zvbdKZ4YoP",
        "outputId": "43472ed5-0980-4170-90f0-cf468935b737"
      },
      "execution_count": 32,
      "outputs": [
        {
          "output_type": "stream",
          "name": "stdout",
          "text": [
            "Entrenando modelo de regresión con KNN...\n",
            "Predicciones de KNN Regresión (primeras 5):\n",
            " [140500.  289551.4 131500.  149200.  345475.6]\n",
            "KNN Regresión - MSE: 1172462245.78, R²: 0.85\n"
          ]
        }
      ]
    },
    {
      "cell_type": "markdown",
      "source": [
        "### Análisis del Modelo de Regresión con KNN\n",
        "1. Explicación del Algoritmo\n",
        "El modelo de K-Nearest Neighbors (KNN) para regresión predice un valor basándose en el promedio de los k vecinos más cercanos en el espacio de características. En este caso, se ha usado n_neighbors=5, lo que significa que la predicción es el promedio de los 5 ejemplos más cercanos en los datos de\n",
        "\n",
        "2.Errores y Desempeño\n",
        "- MSE (Error Cuadrático Medio):\n",
        "\n",
        "  - MSE=1,172,462,245.78\n",
        "-Este valor mide el error promedio cuadrático entre los valores reales y las predicciones. Un valor alto indica que hay cierto grado de error en las predicciones.\n",
        "\n",
        "- R² (Coeficiente de Determinación):\n",
        "\n",
        "  - R^2=0.85\n",
        "- Este valor mide la proporción de la varianza explicada por el modelo.\n",
        "\n",
        "  - Si\n",
        "𝑅\n",
        "2\n",
        "R\n",
        "2\n",
        "  está cerca de 1, significa que el modelo explica bien los datos.\n",
        "\n",
        "  - Si\n",
        "𝑅\n",
        "2\n",
        "R\n",
        "2\n",
        "  está cerca de 0 o negativo, significa que el modelo no es adecuado.\n",
        "\n",
        "En este caso, 0.85 es un buen resultado, lo que sugiere que el modelo captura bastante bien la relación entre las variables."
      ],
      "metadata": {
        "id": "QNBkUYdQDyRs"
      }
    },
    {
      "cell_type": "markdown",
      "source": [
        "## COMPARACIÓN CON OTROS MODELOS DE REGRESIÓN"
      ],
      "metadata": {
        "id": "gz4UBrWNK6-0"
      }
    },
    {
      "cell_type": "code",
      "source": [
        "    # 11. COMPARACIÓN CON OTROS MODELOS DE REGRESIÓN\n",
        "    print(\"Comparando con otros modelos de regresión...\")\n",
        "    models = {\"Regresión Lineal\": LinearRegression(),\n",
        "              \"Árbol de Regresión\": DecisionTreeRegressor()}\n",
        "\n",
        "    for name, model in models.items():\n",
        "        model.fit(X_train_scaled, y_train_reg)\n",
        "        y_pred = model.predict(X_test_scaled)\n",
        "        mse = mean_squared_error(y_test_reg, y_pred)\n",
        "        r2 = r2_score(y_test_reg, y_pred)\n",
        "        print(f\"{name} - MSE: {mse:.2f}, R²: {r2:.2f}\")"
      ],
      "metadata": {
        "colab": {
          "base_uri": "https://localhost:8080/"
        },
        "id": "SO4a3eB14k5R",
        "outputId": "e0c15b37-f73e-41ce-b0e0-322e090c36c7"
      },
      "execution_count": 33,
      "outputs": [
        {
          "output_type": "stream",
          "name": "stdout",
          "text": [
            "Comparando con otros modelos de regresión...\n",
            "Regresión Lineal - MSE: 1576962754.88, R²: 0.79\n",
            "Árbol de Regresión - MSE: 1623208033.34, R²: 0.79\n"
          ]
        }
      ]
    },
    {
      "cell_type": "markdown",
      "source": [
        "### Análisis Comparativo de Modelos de Regresión\n",
        "\n",
        "1. Evaluación de los Modelos\n",
        "MSE y R² de cada modelo\n",
        "- Modelo\tMSE    / (Error Cuadrático Medio)\t/ R² (Coeficiente de Determinación)\n",
        "- KNN Regressor\t/ 1,172,462,245.78        /\t0.85\n",
        "- Regresión Lineal / 1,576,962,754.88\t    / 0.79\n",
        "- Árbol de Regresión / 1,623,208,033.34\t  / 0.79\n",
        "\n",
        "2. Interpretación\n",
        "- KNN Regressor obtiene el mejor rendimiento, con el menor MSE y el mayor\n",
        "R^2=(0.85), lo que indica que captura mejor la relación en los datos.\n",
        "\n",
        "- Regresión Lineal y Árbol de Decisión tienen un rendimiento similar (R^2=0.79), pero presentan un MSE más alto, lo que indica mayor error en las predicciones."
      ],
      "metadata": {
        "id": "0dFv2qdvFUC3"
      }
    },
    {
      "cell_type": "markdown",
      "source": [
        "## MODELO DE CLASIFICACIÓN CON KNN"
      ],
      "metadata": {
        "id": "Npgxba6LLBjw"
      }
    },
    {
      "cell_type": "code",
      "source": [
        "    # 12. MODELO DE CLASIFICACIÓN CON KNN\n",
        "    print(\"Entrenando modelo de clasificación con KNN...\")\n",
        "    knn_clf = KNeighborsClassifier(n_neighbors=5)\n",
        "    knn_clf.fit(X_train_clf_scaled, y_train_clf)\n",
        "    y_pred_clf = knn_clf.predict(X_test_clf_scaled)\n",
        "    print(\"Predicciones de KNN Clasificación (primeras 5):\\n\", y_pred_clf[:5])\n",
        "\n",
        "    # 13. Evaluación de clasificación\n",
        "    print(\"Reporte de Clasificación:\")\n",
        "    print(classification_report(y_test_clf, y_pred_clf, target_names=le.classes_))"
      ],
      "metadata": {
        "colab": {
          "base_uri": "https://localhost:8080/"
        },
        "id": "LSddV0ir4qW1",
        "outputId": "ad769d81-ece2-482d-cc40-9d80d86e6f56"
      },
      "execution_count": 45,
      "outputs": [
        {
          "output_type": "stream",
          "name": "stdout",
          "text": [
            "Entrenando modelo de clasificación con KNN...\n",
            "Predicciones de KNN Clasificación (primeras 5):\n",
            " [2 1 2 2 1]\n",
            "Reporte de Clasificación:\n",
            "              precision    recall  f1-score   support\n",
            "\n",
            "      Barata       0.74      0.79      0.76        81\n",
            "        Cara       0.85      0.71      0.78        49\n",
            "       Media       0.81      0.82      0.82       162\n",
            "\n",
            "    accuracy                           0.79       292\n",
            "   macro avg       0.80      0.78      0.79       292\n",
            "weighted avg       0.80      0.79      0.79       292\n",
            "\n"
          ]
        }
      ]
    },
    {
      "cell_type": "markdown",
      "source": [
        "### Evaluación del Modelo de Clasificación con KNN\n",
        "1. Reporte de Clasificación\n",
        "El reporte de clasificación muestra los resultados de precisión, recall, f1-score y soporte para cada clase.\n",
        "\n",
        "- Resumen del Reporte de Clasificación:\n",
        "- Clase\t/ Precisión\t/ Recall / F1-score\t/ Soporte\n",
        "- Barata\t/ 0.74 /\t0.79\t/ 0.76 /\t81\n",
        "- Cara\t/ 0.85 /\t0.71\t/ 0.78 /\t49\n",
        "- Media\t / 0.81 / 0.82 /\t0.82\t/ 162\n",
        "  - Precisión: Indica la proporción de verdaderos positivos sobre el total de predicciones positivas.\n",
        "  - Recall: Mide la capacidad del modelo para identificar todas las instancias positivas de una clase.\n",
        "  - F1-score: Es la media armónica entre precisión y recall, proporcionando una medida balanceada.\n",
        "\n",
        "2. Evaluación General:\n",
        "- Exactitud: 0.79, lo que significa que el modelo clasificó correctamente el 79% de las muestras.\n",
        "\n",
        "- Promedio macro: Este es un promedio no ponderado de las métricas para cada clase:\n",
        "\n",
        "  - Precisión promedio: 0.80\n",
        "\n",
        "  - Recall promedio: 0.78\n",
        "\n",
        "  - F1-score promedio: 0.79\n",
        "\n",
        "- Promedio ponderado: Este promedio toma en cuenta el soporte (cantidad de muestras) de cada clase:\n",
        "\n",
        "  - Precisión ponderada: 0.80\n",
        "\n",
        "  - Recall ponderado: 0.79\n",
        "\n",
        "  - F1-score ponderado: 0.79"
      ],
      "metadata": {
        "id": "VbooNLAEHlRJ"
      }
    },
    {
      "cell_type": "markdown",
      "source": [
        "## MATRIZ DE CONFUSIÓN"
      ],
      "metadata": {
        "id": "2pda3caCJS88"
      }
    },
    {
      "cell_type": "code",
      "source": [
        "    # 14. MATRIZ DE CONFUSIÓN\n",
        "    print(\"Generando matriz de confusión...\")\n",
        "    cm = confusion_matrix(y_test_clf, y_pred_clf)\n",
        "    sns.heatmap(cm, annot=True, cmap=\"Blues\", fmt=\"d\")\n",
        "    plt.xlabel(\"Predicción\")\n",
        "    plt.ylabel(\"Real\")\n",
        "    plt.title(\"Matriz de Confusión - KNN Clasificación\")\n",
        "    plt.show()\n",
        "\n",
        "    # 15. VALIDACIÓN CRUZADA PARA REGRESIÓN Y CLASIFICACIÓN\n",
        "    print(\"Realizando validación cruzada...\")\n",
        "    cv_scores_reg = cross_val_score(knn_reg, X_train_scaled, y_train_reg, cv=5, scoring='r2')\n",
        "    cv_scores_clf = cross_val_score(knn_clf, X_train_clf_scaled, y_train_clf, cv=5, scoring='accuracy')\n",
        "    print(\"Puntuaciones de validación cruzada (Regresión):\", cv_scores_reg)\n",
        "    print(\"Puntuaciones de validación cruzada (Clasificación):\", cv_scores_clf)\n",
        "    print(f\"Precisión promedio en validación cruzada (Clasificación): {cv_scores_clf.mean():.2f}\")\n",
        "    print(f\"R² promedio en validación cruzada (Regresión): {cv_scores_reg.mean():.2f}\")"
      ],
      "metadata": {
        "colab": {
          "base_uri": "https://localhost:8080/",
          "height": 576
        },
        "id": "lYfFoXKl4yeP",
        "outputId": "46129abf-1ad0-4982-d97b-81d25c00d7c1"
      },
      "execution_count": 37,
      "outputs": [
        {
          "output_type": "stream",
          "name": "stdout",
          "text": [
            "Generando matriz de confusión...\n"
          ]
        },
        {
          "output_type": "display_data",
          "data": {
            "text/plain": [
              "<Figure size 640x480 with 2 Axes>"
            ],
            "image/png": "[encoded data removed]"
          },
          "metadata": {}
        },
        {
          "output_type": "stream",
          "name": "stdout",
          "text": [
            "Realizando validación cruzada...\n",
            "Puntuaciones de validación cruzada (Regresión): [0.85038203 0.69518324 0.80794798 0.82300202 0.83546447]\n",
            "Puntuaciones de validación cruzada (Clasificación): [0.78632479 0.82478632 0.87179487 0.78540773 0.8111588 ]\n",
            "Precisión promedio en validación cruzada (Clasificación): 0.82\n",
            "R² promedio en validación cruzada (Regresión): 0.80\n"
          ]
        }
      ]
    },
    {
      "cell_type": "markdown",
      "source": [
        "### Análisis de la Matriz de Confusión - KNN Clasificación\n",
        "La matriz de confusión generada para el modelo K-Nearest Neighbors (KNN) nos proporciona información detallada sobre el desempeño del clasificador en cada una de las clases. A partir de la imagen:\n",
        "\n",
        "- Clase 0: Se clasificaron correctamente 64 instancias, pero 17 fueron mal clasificadas como clase 2.\n",
        "\n",
        "- Clase 1: Se identificaron correctamente 35 instancias, pero hubo 14 errores al clasificarlas como clase 2.\n",
        "\n",
        "- Clase 2: Es la mejor clasificada, con 133 instancias correctamente identificadas, aunque hubo 23 casos mal clasificados como clase 0 y 6 como clase 1.\n",
        "\n",
        "2. Errores observados:\n",
        "\n",
        "- Existe una confusión significativa entre la clase 0 y la clase 2, ya que 17 muestras de la clase 0 fueron predichas como clase 2 y 23 de la clase 2 como clase 0.\n",
        "\n",
        "- La clase 1 tiene un rendimiento intermedio, con 35 predicciones correctas, pero aún presenta 14 errores al ser clasificada como clase 2.\n",
        "\n",
        "### Validación Cruzada\n",
        "Los resultados de la validación cruzada proporcionan una visión más general del desempeño del modelo en diferentes subconjuntos de los datos:\n",
        "\n",
        "- Clasificación (KNN)\n",
        "\n",
        "  - Las puntuaciones de validación cruzada para la clasificación varían entre 0.78 y 0.87.\n",
        "\n",
        "  - La precisión promedio es 0.82, lo que indica que el modelo tiene un buen desempeño general.\n",
        "\n",
        "- Regresión (KNN)\n",
        "\n",
        "  - El coeficiente R^2 promedio es 0.80, lo que sugiere que el modelo de regresión también está capturando bien la variabilidad de los datos."
      ],
      "metadata": {
        "id": "fhpGd3z_KBKN"
      }
    },
    {
      "cell_type": "markdown",
      "source": [
        "## ANÁLISIS DE SOBREAJUSTE"
      ],
      "metadata": {
        "id": "XfdspTGELHTR"
      }
    },
    {
      "cell_type": "code",
      "source": [
        "# 16. ANÁLISIS DE SOBREAJUSTE\n",
        "print(\"Analizando sobreajuste...\")\n",
        "r2_knn_train = r2_score(y_train_reg, knn_reg.predict(X_train_scaled))\n",
        "print(f\"R² en entrenamiento (KNN): {r2_knn_train:.2f}\")\n",
        "print(f\"R² en prueba (KNN): {r2_knn:.2f}\")\n",
        "\n",
        "if r2_knn_train - r2_knn > 0.1:\n",
        "    print(\"El modelo KNN muestra señales de sobreajuste.\")\n",
        "else:\n",
        "    print(\"El modelo KNN no muestra signos evidentes de sobreajuste.\")"
      ],
      "metadata": {
        "colab": {
          "base_uri": "https://localhost:8080/"
        },
        "id": "BJfE89kr415b",
        "outputId": "257ffb47-4305-41b7-b5be-0a3b2b2fbdac"
      },
      "execution_count": 43,
      "outputs": [
        {
          "output_type": "stream",
          "name": "stdout",
          "text": [
            "Analizando sobreajuste...\n",
            "R² en entrenamiento (KNN): 0.87\n",
            "R² en prueba (KNN): 0.85\n",
            "El modelo KNN no muestra signos evidentes de sobreajuste.\n"
          ]
        }
      ]
    },
    {
      "cell_type": "markdown",
      "source": [
        "### Análisis de Sobreajuste para el Modelo KNN\n",
        "Se ha evaluado el rendimiento del modelo KNN en los conjuntos de entrenamiento y prueba utilizando el coeficiente de determinación R²:\n",
        "\n",
        "- R² en entrenamiento (KNN): 0.87\n",
        "\n",
        "- R² en prueba (KNN): 0.85\n",
        "\n",
        "La diferencia entre ambos valores es 0.02, lo que es bastante pequeña y dentro de un rango aceptable."
      ],
      "metadata": {
        "id": "BUB_QbcIJfLp"
      }
    }
  ]
}