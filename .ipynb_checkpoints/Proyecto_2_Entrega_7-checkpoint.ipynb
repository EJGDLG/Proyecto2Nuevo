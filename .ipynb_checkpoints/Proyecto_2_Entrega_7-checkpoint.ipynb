{
 "cells": [
  {
   "cell_type": "markdown",
   "id": "70bf94fc-5d0a-4174-b622-f6386f7ee8e6",
   "metadata": {
    "id": "70bf94fc-5d0a-4174-b622-f6386f7ee8e6"
   },
   "source": [
    "# Proyecto 2. Entrega 5. Modelos de Regresión Logística"
   ]
  },
  {
   "cell_type": "markdown",
   "id": "df1ba1ee-16a8-480d-bbd3-fff44af015fd",
   "metadata": {
    "id": "df1ba1ee-16a8-480d-bbd3-fff44af015fd"
   },
   "source": [
    "Edman Cota 19830\n",
    "\n",
    "Edwin de León 22809"
   ]
  },
  {
   "cell_type": "markdown",
   "id": "d68f899c-0fc7-444c-a26b-517f299e62c0",
   "metadata": {
    "id": "d68f899c-0fc7-444c-a26b-517f299e62c0"
   },
   "source": [
    "[Repositorio](https://github.com/EJGDLG/Proyecto2Nuevo)"
   ]
  },
  {
   "cell_type": "markdown",
   "id": "x_6EFBfwhxZm",
   "metadata": {
    "id": "x_6EFBfwhxZm"
   },
   "source": [
    "## Carga y preprocesamiento de datos"
   ]
  },
  {
   "cell_type": "code",
   "execution_count": 56,
   "id": "koFZZICg1WRw",
   "metadata": {
    "id": "koFZZICg1WRw"
   },
   "outputs": [],
   "source": [
    "import pandas as pd\n",
    "import numpy as np\n",
    "from sklearn.model_selection import train_test_split\n",
    "from sklearn.preprocessing import StandardScaler, LabelEncoder\n",
    "from sklearn.neural_network import MLPClassifier\n",
    "from sklearn.metrics import confusion_matrix, classification_report\n",
    "import seaborn as sns\n",
    "import matplotlib.pyplot as plt\n",
    "import time\n",
    "\n",
    "# Cargar datos\n",
    "data = pd.read_csv(\"train.csv\")\n",
    "\n",
    "# Crear columna categórica para clasificación\n",
    "price_bins = [0, 150000, 300000, float(\"inf\")]\n",
    "price_labels = [\"barato\", \"medio\", \"caro\"]\n",
    "data[\"PriceCategory\"] = pd.cut(data[\"SalePrice\"], bins=price_bins, labels=price_labels)\n",
    "\n",
    "# Separar variables\n",
    "X = data.drop([\"Id\", \"SalePrice\", \"PriceCategory\"], axis=1)\n",
    "y = data[\"PriceCategory\"]\n",
    "\n",
    "# Codificar columnas categóricas\n",
    "cat_cols = X.select_dtypes(include=[\"object\"]).columns\n",
    "for col in cat_cols:\n",
    "    le = LabelEncoder()\n",
    "    X[col] = le.fit_transform(X[col].astype(str))\n",
    "\n",
    "# Imputar valores faltantes\n",
    "X = X.fillna(X.median(numeric_only=True))\n",
    "\n",
    "# Dividir conjunto de datos\n",
    "X_train, X_test, y_train, y_test = train_test_split(X, y, test_size=0.2, random_state=42)\n",
    "\n",
    "# Escalar\n",
    "scaler = StandardScaler()\n",
    "X_train_scaled = scaler.fit_transform(X_train)\n",
    "X_test_scaled = scaler.transform(X_test)\n"
   ]
  },
  {
   "cell_type": "markdown",
   "id": "-HwwHfzIdUBb",
   "metadata": {
    "id": "-HwwHfzIdUBb"
   },
   "source": [
    "## Analisis\n",
    "\n",
    "Prepara correctamente los datos para un modelo de clasificación.\n",
    "\n",
    "Realiza limpieza, codificación, imputación y escalado.\n",
    "\n",
    "Está bien estructurado para aplicar un clasificador como MLPClassifier."
   ]
  },
  {
   "cell_type": "markdown",
   "id": "0gOHYLFlCrRQ",
   "metadata": {
    "id": "0gOHYLFlCrRQ"
   },
   "source": [
    "# Entrenamiento de modelos MLP"
   ]
  },
  {
   "cell_type": "code",
   "execution_count": 57,
   "id": "4gFv_B5H-lly",
   "metadata": {
    "id": "4gFv_B5H-lly"
   },
   "outputs": [],
   "source": [
    "# Modelo 1: capa oculta simple, activación ReLU\n",
    "start1 = time.time()\n",
    "mlp1 = MLPClassifier(hidden_layer_sizes=(50,), activation='relu', max_iter=500, random_state=1)\n",
    "mlp1.fit(X_train_scaled, y_train)\n",
    "pred1 = mlp1.predict(X_test_scaled)\n",
    "end1 = time.time()\n",
    "time1 = end1 - start1\n",
    "\n",
    "# Modelo 2: capa oculta profunda, activación tanh\n",
    "start2 = time.time()\n",
    "mlp2 = MLPClassifier(hidden_layer_sizes=(100, 50), activation='tanh', max_iter=500, random_state=1)\n",
    "mlp2.fit(X_train_scaled, y_train)\n",
    "pred2 = mlp2.predict(X_test_scaled)\n",
    "end2 = time.time()\n",
    "time2 = end2 - start2\n"
   ]
  },
  {
   "cell_type": "markdown",
   "id": "WpJ-P47de2a-",
   "metadata": {
    "id": "WpJ-P47de2a-"
   },
   "source": [
    "## Analisis\n",
    "El Modelo 1, con una arquitectura más simple y activación ReLU, se entrena más rápido y es adecuado para problemas menos complejos. El Modelo 2, al tener una red más profunda y usar la activación tanh, puede capturar relaciones más complejas en los datos, pero tarda más en entrenar y puede sobreajustarse si no se controla bien. La elección entre ambos depende del equilibrio que se busque entre rendimiento y tiempo de cómputo."
   ]
  },
  {
   "cell_type": "markdown",
   "id": "xpNs2xLqCtyI",
   "metadata": {
    "id": "xpNs2xLqCtyI"
   },
   "source": [
    "# Evaluación de resultados"
   ]
  },
  {
   "cell_type": "code",
   "execution_count": 58,
   "id": "wMqtmDAd1WEn",
   "metadata": {
    "colab": {
     "base_uri": "https://localhost:8080/"
    },
    "id": "wMqtmDAd1WEn",
    "outputId": "f140d674-e388-4fd4-955c-01e7b69e96d6"
   },
   "outputs": [
    {
     "name": "stdout",
     "output_type": "stream",
     "text": [
      "=== Modelo 1 (ReLU) ===\n",
      "Tiempo: 11.718226432800293\n",
      "              precision    recall  f1-score   support\n",
      "\n",
      "      barato       0.94      0.91      0.93       139\n",
      "        caro       0.67      0.75      0.71        24\n",
      "       medio       0.86      0.87      0.86       129\n",
      "\n",
      "    accuracy                           0.88       292\n",
      "   macro avg       0.82      0.84      0.83       292\n",
      "weighted avg       0.88      0.88      0.88       292\n",
      "\n",
      "\n",
      "=== Modelo 2 (tanh) ===\n",
      "Tiempo: 31.310951948165894\n",
      "              precision    recall  f1-score   support\n",
      "\n",
      "      barato       0.91      0.93      0.92       139\n",
      "        caro       0.63      0.71      0.67        24\n",
      "       medio       0.86      0.83      0.85       129\n",
      "\n",
      "    accuracy                           0.87       292\n",
      "   macro avg       0.80      0.82      0.81       292\n",
      "weighted avg       0.87      0.87      0.87       292\n",
      "\n"
     ]
    }
   ],
   "source": [
    "# Reportes\n",
    "print(\"=== Modelo 1 (ReLU) ===\")\n",
    "print(\"Tiempo:\", time1)\n",
    "print(classification_report(y_test, pred1))\n",
    "\n",
    "print(\"\\n=== Modelo 2 (tanh) ===\")\n",
    "print(\"Tiempo:\", time2)\n",
    "print(classification_report(y_test, pred2))\n"
   ]
  },
  {
   "cell_type": "markdown",
   "id": "dXWoBID-fAin",
   "metadata": {
    "id": "dXWoBID-fAin"
   },
   "source": [
    "#Analisis\n",
    "El Modelo 1 (ReLU) logró una ligeramente mejor precisión general (88%) y se entrenó mucho más rápido (11.7 s) que el Modelo 2, aunque el Modelo 2 (tanh) tiene una arquitectura más compleja, su rendimiento fue muy similar (87% de precisión) pero con un tiempo de entrenamiento casi tres veces mayor (31.3 s). Por tanto, el Modelo 1 es más eficiente y recomendable en este caso, especialmente si se busca buen rendimiento con menor costo computacional."
   ]
  },
  {
   "cell_type": "markdown",
   "id": "OTZnrEq4DEi9",
   "metadata": {
    "id": "OTZnrEq4DEi9"
   },
   "source": [
    "# Clasificación (Variable PriceCategory"
   ]
  },
  {
   "cell_type": "code",
   "execution_count": 65,
   "id": "oz5qw11n1V7s",
   "metadata": {
    "colab": {
     "base_uri": "https://localhost:8080/"
    },
    "id": "oz5qw11n1V7s",
    "outputId": "fefb452d-301d-4a42-eddf-d9fadedf25b1"
   },
   "outputs": [
    {
     "name": "stdout",
     "output_type": "stream",
     "text": [
      "Predicciones MLP1 (ReLU): ['medio' 'caro' 'barato' 'barato' 'caro' 'barato' 'medio' 'barato'\n",
      " 'barato' 'medio']\n",
      "Predicciones MLP2 (tanh): ['barato' 'caro' 'barato' 'barato' 'caro' 'barato' 'barato' 'medio'\n",
      " 'barato' 'medio']\n"
     ]
    }
   ],
   "source": [
    "# Ya están escalados: X_test_scaled\n",
    "pred1 = mlp1.predict(X_test_scaled)\n",
    "pred2 = mlp2.predict(X_test_scaled)\n",
    "\n",
    "print(\"Predicciones MLP1 (ReLU):\", pred1[:10])\n",
    "print(\"Predicciones MLP2 (tanh):\", pred2[:10])\n"
   ]
  },
  {
   "cell_type": "markdown",
   "id": "U4jHJmyVfZQB",
   "metadata": {
    "id": "U4jHJmyVfZQB"
   },
   "source": [
    "# Analisis\n",
    "Ambos modelos generan predicciones similares, aunque con ligeras diferencias en algunas observaciones. Esto indica que, pese a sus distintas arquitecturas, ambos modelos captan patrones similares en los datos. Sin embargo, el modelo con ReLU parece un poco más inclinado hacia la clase \"medio\" en estas primeras predicciones, mientras que el modelo con tanh tiende a predecir más veces \"barato\". Estas diferencias pueden influir en el rendimiento global dependiendo de la distribución real de clases."
   ]
  },
  {
   "cell_type": "markdown",
   "id": "QhoecD1VDuHZ",
   "metadata": {
    "id": "QhoecD1VDuHZ"
   },
   "source": [
    "#Regresión (Variable SalePrice)"
   ]
  },
  {
   "cell_type": "code",
   "execution_count": 75,
   "id": "K5d1S1aUDwbz",
   "metadata": {
    "colab": {
     "base_uri": "https://localhost:8080/"
    },
    "id": "K5d1S1aUDwbz",
    "outputId": "389bc3f4-a99b-4a2c-8b3c-1ad267223da9"
   },
   "outputs": [
    {
     "name": "stdout",
     "output_type": "stream",
     "text": [
      "Predicciones Regresión MLP1 (ReLU): [ 8609.97280811 37686.66621065 10567.24474038  8316.43355858\n",
      " 38329.04366497  8841.74148233  2266.60892969   591.79238964\n",
      " 11279.46526151  7458.3642741 ]\n",
      "Predicciones Regresión MLP2 (tanh): [169.08330087 169.08375311 169.0835677  169.08364414 169.08359515\n",
      " 169.08263077 169.0833845  169.0832575  169.08249235 169.08324038]\n"
     ]
    }
   ],
   "source": [
    "pred_r1 = mlpr1.predict(X_test_scaled)\n",
    "pred_r2 = mlpr2.predict(X_test_scaled)\n",
    "\n",
    "print(\"Predicciones Regresión MLP1 (ReLU):\", pred_r1[:10])\n",
    "print(\"Predicciones Regresión MLP2 (tanh):\", pred_r2[:10])\n"
   ]
  },
  {
   "cell_type": "markdown",
   "id": "bGILFYdVfqqK",
   "metadata": {
    "id": "bGILFYdVfqqK"
   },
   "source": [
    "# Analisis\n",
    "El modelo de regresión MLP1 (ReLU) está generando predicciones numéricas variadas y realistas en un rango amplio, lo cual parece coherente con un problema de regresión como el precio de viviendas. En cambio, el modelo MLP2 (tanh) devuelve prácticamente el mismo valor (169.08) para todas las observaciones, lo que indica un problema claro de aprendizaje: probablemente no está generalizando bien y cayó en un mínimo plano o no logró ajustar el modelo."
   ]
  },
  {
   "cell_type": "markdown",
   "id": "lC461ElHD8sb",
   "metadata": {
    "id": "lC461ElHD8sb"
   },
   "source": [
    "# Matrices de confusión para ambos modelos"
   ]
  },
  {
   "cell_type": "code",
   "execution_count": 62,
   "id": "S5lAGkpVrgYV",
   "metadata": {
    "colab": {
     "base_uri": "https://localhost:8080/",
     "height": 927
    },
    "id": "S5lAGkpVrgYV",
    "outputId": "d98fe334-4aeb-459e-da46-a79241f2d09c"
   },
   "outputs": [
    {
     "data": {
      "image/png": "[encoded data removed]",
      "text/plain": [
       "<Figure size 640x480 with 2 Axes>"
      ]
     },
     "metadata": {},
     "output_type": "display_data"
    },
    {
     "data": {
      "image/png": "[encoded data removed]",
      "text/plain": [
       "<Figure size 640x480 with 2 Axes>"
      ]
     },
     "metadata": {},
     "output_type": "display_data"
    }
   ],
   "source": [
    "import seaborn as sns\n",
    "import matplotlib.pyplot as plt\n",
    "from sklearn.metrics import confusion_matrix, classification_report\n",
    "\n",
    "def plot_confusion_matrix(y_true, y_pred, title, classes):\n",
    "    cm = confusion_matrix(y_true, y_pred, labels=classes)\n",
    "    sns.heatmap(cm, annot=True, fmt=\"d\", cmap=\"Blues\", xticklabels=classes, yticklabels=classes)\n",
    "    plt.title(title)\n",
    "    plt.xlabel(\"Predicción\")\n",
    "    plt.ylabel(\"Real\")\n",
    "    plt.show()\n",
    "\n",
    "# Suponiendo que ya tienes pred1 y pred2, y los modelos mlp1 y mlp2 entrenados\n",
    "plot_confusion_matrix(y_test_cat, pred1, \"Matriz de Confusión - MLP1 (ReLU)\", mlp1.classes_)\n",
    "plot_confusion_matrix(y_test_cat, pred2, \"Matriz de Confusión - MLP2 (tanh)\", mlp2.classes_)\n"
   ]
  },
  {
   "cell_type": "markdown",
   "id": "mvBgS-duf0bG",
   "metadata": {
    "id": "mvBgS-duf0bG"
   },
   "source": [
    "#Analisis\n",
    "El modelo clasifica correctamente la mayoría de los casos, especialmente en la clase \"barato\" (126 aciertos) y \"medio\" (93 aciertos). Sin embargo, confunde algunos valores de \"medio\" como \"barato\" (26 casos) y \"caro\" como \"medio\" (4 casos). Aun así, muestra un buen equilibrio general entre las clases, lo que se alinea con el accuracy del 88% observado anteriormente."
   ]
  },
  {
   "cell_type": "markdown",
   "id": "FfVEtEViEF44",
   "metadata": {
    "id": "FfVEtEViEF44"
   },
   "source": [
    "# Comparación de resultados y análisis de errores"
   ]
  },
  {
   "cell_type": "code",
   "execution_count": 68,
   "id": "G4TGQeELrhnm",
   "metadata": {
    "colab": {
     "base_uri": "https://localhost:8080/"
    },
    "id": "G4TGQeELrhnm",
    "outputId": "906ce942-8918-422a-d31f-8041cee03404"
   },
   "outputs": [
    {
     "name": "stdout",
     "output_type": "stream",
     "text": [
      "Modelo 1 (ReLU):\n",
      "              precision    recall  f1-score   support\n",
      "\n",
      "      barato       0.88      0.55      0.68       139\n",
      "        caro       0.29      0.88      0.44        24\n",
      "       medio       0.57      0.60      0.59       129\n",
      "\n",
      "    accuracy                           0.60       292\n",
      "   macro avg       0.58      0.67      0.57       292\n",
      "weighted avg       0.70      0.60      0.62       292\n",
      "\n",
      "Tiempo de entrenamiento: 6.862813949584961\n",
      "\n",
      "Modelo 2 (tanh):\n",
      "              precision    recall  f1-score   support\n",
      "\n",
      "      barato       0.75      0.86      0.80       139\n",
      "        caro       0.28      0.96      0.43        24\n",
      "       medio       0.84      0.33      0.48       129\n",
      "\n",
      "    accuracy                           0.63       292\n",
      "   macro avg       0.62      0.72      0.57       292\n",
      "weighted avg       0.75      0.63      0.63       292\n",
      "\n",
      "Tiempo de entrenamiento: 10.67564082145691\n"
     ]
    }
   ],
   "source": [
    "print(\"Modelo 1 (ReLU):\")\n",
    "print(classification_report(y_test_cat, pred1))\n",
    "print(\"Tiempo de entrenamiento:\", time1)\n",
    "\n",
    "print(\"\\nModelo 2 (tanh):\")\n",
    "print(classification_report(y_test_cat, pred2))\n",
    "print(\"Tiempo de entrenamiento:\", time2)\n"
   ]
  },
  {
   "cell_type": "markdown",
   "id": "f0CXu-hIgBL-",
   "metadata": {
    "id": "f0CXu-hIgBL-"
   },
   "source": [
    "# Analisis\n",
    "- El Modelo 2 (tanh) obtuvo una ligeramente mejor precisión global (63% vs. 60%) y mostró un mejor desempeño clasificando la clase \"barato\" y \"caro\", aunque con mayor confusión en la clase \"medio\". Por su parte, el Modelo 1 (ReLU) tiene un desempeño más balanceado, pero menor recall en \"barato\".\n",
    "- Ambos modelos tienen limitaciones, pero tanh logró una mejor recuperación en clases minoritarias, aunque con un tiempo de entrenamiento un poco mayor. La elección depende del objetivo: si se prioriza detectar clases como \"caro\", tanh puede ser preferible."
   ]
  },
  {
   "cell_type": "markdown",
   "id": "x6MWyxPAENy6",
   "metadata": {
    "id": "x6MWyxPAENy6"
   },
   "source": [
    "# Verificar sobreajuste"
   ]
  },
  {
   "cell_type": "code",
   "execution_count": 69,
   "id": "nAALYZbUrjtr",
   "metadata": {
    "colab": {
     "base_uri": "https://localhost:8080/"
    },
    "id": "nAALYZbUrjtr",
    "outputId": "74bf279d-6728-4d26-9870-fff1f76d27ba"
   },
   "outputs": [
    {
     "name": "stdout",
     "output_type": "stream",
     "text": [
      "MLP1 - Train: 0.6292808219178082 | Test: 0.5958904109589042\n",
      "MLP2 - Train: 0.5753424657534246 | Test: 0.6335616438356164\n"
     ]
    }
   ],
   "source": [
    "train_acc1 = mlp1.score(X_train_scaled, y_train_cat)\n",
    "test_acc1 = mlp1.score(X_test_scaled, y_test_cat)\n",
    "\n",
    "train_acc2 = mlp2.score(X_train_scaled, y_train_cat)\n",
    "test_acc2 = mlp2.score(X_test_scaled, y_test_cat)\n",
    "\n",
    "print(\"MLP1 - Train:\", train_acc1, \"| Test:\", test_acc1)\n",
    "print(\"MLP2 - Train:\", train_acc2, \"| Test:\", test_acc2)\n"
   ]
  },
  {
   "cell_type": "markdown",
   "id": "ERq7oE27gdW6",
   "metadata": {
    "id": "ERq7oE27gdW6"
   },
   "source": [
    "# Analisis\n",
    "El MLP1 (ReLU) tiene mejor precisión en entrenamiento (62.9%), lo que indica que aprende más del conjunto de entrenamiento, pero sufre una ligera caída en test (59.6%), lo que sugiere posible sobreajuste leve. En cambio, el MLP2 (tanh) tiene menor rendimiento en entrenamiento (57.5%), pero mejora en test (63.3%), lo cual indica una mejor generalización al conjunto de prueba."
   ]
  },
  {
   "cell_type": "markdown",
   "id": "--HlfE9aEPYg",
   "metadata": {
    "id": "--HlfE9aEPYg"
   },
   "source": [
    "# Tunear el mejor modelo con GridSearch"
   ]
  },
  {
   "cell_type": "code",
   "execution_count": 70,
   "id": "NGL4GA7nroZS",
   "metadata": {
    "colab": {
     "base_uri": "https://localhost:8080/"
    },
    "id": "NGL4GA7nroZS",
    "outputId": "f8f09f34-b15b-4990-9b50-6640e3db96d4"
   },
   "outputs": [
    {
     "name": "stdout",
     "output_type": "stream",
     "text": [
      "Mejores parámetros: {'activation': 'relu', 'alpha': 0.001, 'hidden_layer_sizes': (50,), 'learning_rate': 'constant'}\n",
      "              precision    recall  f1-score   support\n",
      "\n",
      "      barato       0.94      0.91      0.93       139\n",
      "        caro       0.67      0.75      0.71        24\n",
      "       medio       0.86      0.87      0.86       129\n",
      "\n",
      "    accuracy                           0.88       292\n",
      "   macro avg       0.82      0.84      0.83       292\n",
      "weighted avg       0.88      0.88      0.88       292\n",
      "\n"
     ]
    }
   ],
   "source": [
    "from sklearn.model_selection import GridSearchCV\n",
    "from sklearn.neural_network import MLPClassifier\n",
    "\n",
    "param_grid = {\n",
    "    'hidden_layer_sizes': [(50,), (100,), (100, 50), (150, 100, 50)],\n",
    "    'activation': ['relu', 'tanh'],\n",
    "    'alpha': [0.0001, 0.001],\n",
    "    'learning_rate': ['constant', 'adaptive']\n",
    "}\n",
    "\n",
    "grid = GridSearchCV(MLPClassifier(max_iter=500, random_state=1), param_grid, cv=3, n_jobs=-1)\n",
    "grid.fit(X_train_scaled, y_train_cat)\n",
    "\n",
    "print(\"Mejores parámetros:\", grid.best_params_)\n",
    "best_model = grid.best_estimator_\n",
    "\n",
    "# Evaluar\n",
    "pred_best = best_model.predict(X_test_scaled)\n",
    "print(classification_report(y_test_cat, pred_best))\n"
   ]
  },
  {
   "cell_type": "markdown",
   "id": "Hf1aj-OShE7X",
   "metadata": {
    "id": "Hf1aj-OShE7X"
   },
   "source": [
    "# analisis\n",
    "Este modelo entrenado con un conjunto de parámetros óptimos según GridSearchCV tiene un buen rendimiento general, pero podría mejorar en la predicción de la clase \"caro\". La precisión general es alta, pero el desbalance de clases (con pocas instancias de la clase \"caro\") podría estar afectando el rendimiento. Podrías considerar ajustar la ponderación de clases o usar métodos como SMOTE para balancear las clases y mejorar la predicción para clases minoritarias."
   ]
  },
  {
   "cell_type": "markdown",
   "id": "DGgJTddLJxBn",
   "metadata": {
    "id": "DGgJTddLJxBn"
   },
   "source": [
    "# Seleccionar SalePrice como variable respuesta"
   ]
  },
  {
   "cell_type": "code",
   "execution_count": 72,
   "id": "8_cBnQ1gvD21",
   "metadata": {
    "id": "8_cBnQ1gvD21"
   },
   "outputs": [],
   "source": [
    "\n",
    "y = df['SalePrice']\n",
    "X = df.drop(columns=['SalePrice'])\n",
    "\n",
    "# Separar columnas numéricas y categóricas\n",
    "num_cols = X.select_dtypes(include=['int64', 'float64']).columns\n",
    "cat_cols = X.select_dtypes(include=['object']).columns\n",
    "\n",
    "# Preprocesamiento: imputación + codificación\n",
    "numeric_transformer = Pipeline(steps=[\n",
    "    ('imputer', SimpleImputer(strategy='mean'))\n",
    "])\n",
    "\n",
    "categorical_transformer = Pipeline(steps=[\n",
    "    ('imputer', SimpleImputer(strategy='most_frequent')),\n",
    "    ('encoder', OneHotEncoder(handle_unknown='ignore'))\n",
    "])\n",
    "\n",
    "preprocessor = ColumnTransformer(transformers=[\n",
    "    ('num', numeric_transformer, num_cols),\n",
    "    ('cat', categorical_transformer, cat_cols)\n",
    "])\n",
    "\n",
    "# Dividir datos\n",
    "X_train, X_test, y_train, y_test = train_test_split(X, y, test_size=0.2, random_state=42)\n",
    "\n",
    "# Pipeline completo modelo 1\n",
    "model1 = Pipeline(steps=[\n",
    "    ('preprocessing', preprocessor),\n",
    "    ('regressor', MLPRegressor(hidden_layer_sizes=(50,), activation='relu', max_iter=500, random_state=1))\n",
    "])\n",
    "\n",
    "# Pipeline completo modelo 2 (topología diferente)\n",
    "model2 = Pipeline(steps=[\n",
    "    ('preprocessing', preprocessor),\n",
    "    ('regressor', MLPRegressor(hidden_layer_sizes=(100, 50), activation='tanh', max_iter=500, random_state=1))\n",
    "])"
   ]
  },
  {
   "cell_type": "markdown",
   "id": "R--qEtJnhRIE",
   "metadata": {
    "id": "R--qEtJnhRIE"
   },
   "source": [
    "# Analisis\n",
    "Este código configura un proceso completo de preprocesamiento y modelado para predecir el precio de venta de casas, utilizando redes neuronales (MLPRegressor). Tiene un flujo organizado y modular gracias a los pipelines, pero puede beneficiarse de una mejora en el ajuste de parámetros, especialmente en la parte de preprocesamiento o en el modelo mismo para mejorar el rendimiento."
   ]
  },
  {
   "cell_type": "markdown",
   "id": "9AM_u-0OJ0ku",
   "metadata": {
    "id": "9AM_u-0OJ0ku"
   },
   "source": [
    "# 10 Entrenar y evaluar modelo 1"
   ]
  },
  {
   "cell_type": "code",
   "execution_count": 73,
   "id": "wwXnLpkavGyq",
   "metadata": {
    "colab": {
     "base_uri": "https://localhost:8080/"
    },
    "id": "wwXnLpkavGyq",
    "outputId": "7297f848-d2e3-4a43-a689-5d0e40193d4d"
   },
   "outputs": [
    {
     "name": "stdout",
     "output_type": "stream",
     "text": [
      "Modelo 1:\n",
      "R²: 0.7667305077548003\n",
      "RMSE: 42299.56382405839\n",
      "\n",
      "Modelo 2:\n",
      "R²: -4.162236559573926\n",
      "RMSE: 198987.53320396578\n"
     ]
    }
   ],
   "source": [
    "\n",
    "# Modelo 1\n",
    "model1.fit(X_train, y_train)\n",
    "pred1 = model1.predict(X_test)\n",
    "print(\"Modelo 1:\")\n",
    "print(\"R²:\", r2_score(y_test, pred1))\n",
    "print(\"RMSE:\", np.sqrt(mean_squared_error(y_test, pred1)))\n",
    "\n",
    "# Modelo 2\n",
    "model2.fit(X_train, y_train)\n",
    "pred2 = model2.predict(X_test)\n",
    "print(\"\\nModelo 2:\")\n",
    "print(\"R²:\", r2_score(y_test, pred2))\n",
    "print(\"RMSE:\", np.sqrt(mean_squared_error(y_test, pred2)))\n"
   ]
  },
  {
   "cell_type": "markdown",
   "id": "1aXawUR0ix0I",
   "metadata": {
    "id": "1aXawUR0ix0I"
   },
   "source": [
    "#Analsis\n",
    "El Modelo 1 tiene un buen desempeño, con un R² de 0.77 (explica el 77% de la variabilidad) y un RMSE de 42,299, lo que indica predicciones relativamente precisas.\n",
    "\n",
    "El Modelo 2 tiene un R² negativo (-4.16), lo que significa que está fallando significativamente en las predicciones, siendo incluso peor que un modelo que simplemente predice la media. Además, su RMSE es mucho más alto (198,987), lo que refuerza que no está aprendiendo bien."
   ]
  },
  {
   "cell_type": "code",
   "execution_count": 74,
   "id": "gHX_tW8RF7Ok",
   "metadata": {
    "colab": {
     "base_uri": "https://localhost:8080/"
    },
    "id": "gHX_tW8RF7Ok",
    "outputId": "1fc1f1b6-cdeb-4f28-ff1e-f32da2d2dd6a"
   },
   "outputs": [
    {
     "name": "stdout",
     "output_type": "stream",
     "text": [
      "Modelo 1 (ReLU): MSE = 33555458572.300472\n",
      "Modelo 2 (tanh): MSE = 39593555548.03528\n"
     ]
    }
   ],
   "source": [
    "from sklearn.neural_network import MLPRegressor\n",
    "from sklearn.metrics import mean_squared_error\n",
    "\n",
    "# Modelo 1: topología simple\n",
    "mlpr1 = MLPRegressor(hidden_layer_sizes=(100,), activation='relu', max_iter=500, random_state=1)\n",
    "mlpr1.fit(X_train_scaled, y_train_reg)\n",
    "pred_r1 = mlpr1.predict(X_test_scaled)\n",
    "mse_r1 = mean_squared_error(y_test_reg, pred_r1)\n",
    "\n",
    "# Modelo 2: topología más profunda\n",
    "mlpr2 = MLPRegressor(hidden_layer_sizes=(100, 50), activation='tanh', max_iter=500, random_state=1)\n",
    "mlpr2.fit(X_train_scaled, y_train_reg)\n",
    "pred_r2 = mlpr2.predict(X_test_scaled)\n",
    "mse_r2 = mean_squared_error(y_test_reg, pred_r2)\n",
    "\n",
    "print(\"Modelo 1 (ReLU): MSE =\", mse_r1)\n",
    "print(\"Modelo 2 (tanh): MSE =\", mse_r2)\n"
   ]
  }
 ],
 "metadata": {
  "colab": {
   "provenance": []
  },
  "kernelspec": {
   "display_name": "Python 3 (ipykernel)",
   "language": "python",
   "name": "python3"
  },
  "language_info": {
   "codemirror_mode": {
    "name": "ipython",
    "version": 3
   },
   "file_extension": ".py",
   "mimetype": "text/x-python",
   "name": "python",
   "nbconvert_exporter": "python",
   "pygments_lexer": "ipython3",
   "version": "3.10.11"
  }
 },
 "nbformat": 4,
 "nbformat_minor": 5
}
