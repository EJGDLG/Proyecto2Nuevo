{
 "cells": [
  {
   "cell_type": "markdown",
   "id": "70bf94fc-5d0a-4174-b622-f6386f7ee8e6",
   "metadata": {},
   "source": [
    "# Proyecto 2. Entrega 5. Modelos de Regresión Logística"
   ]
  },
  {
   "cell_type": "markdown",
   "id": "aa334d0a-373a-4abe-a360-bb1dbe7d32aa",
   "metadata": {},
   "source": [
    "## 1. Cree una variable dicotómica por cada una de las categorías de la variable respuesta categórica que creó en hojas anteriores. Debería tener 3 variables dicotómicas (valores 0 y 1) una que diga si la vivienda es cara o no, media o no, económica o no."
   ]
  },
  {
   "cell_type": "code",
   "execution_count": 14,
   "id": "1655d140-1a47-4e1a-9d0b-da5d3808fa9d",
   "metadata": {},
   "outputs": [],
   "source": [
    "import warnings\n",
    "warnings.filterwarnings(\"ignore\")"
   ]
  },
  {
   "cell_type": "code",
   "execution_count": 8,
   "id": "23b2e573-4257-4ccb-8892-99e4187b6c38",
   "metadata": {},
   "outputs": [
    {
     "name": "stdout",
     "output_type": "stream",
     "text": [
      "   SalePrice precio_vivienda  barata  media  cara\n",
      "0     208500           media       0      1     0\n",
      "1     181500           media       0      1     0\n",
      "2     223500            cara       0      0     1\n",
      "3     140000           media       0      1     0\n",
      "4     250000            cara       0      0     1\n",
      "5     143000           media       0      1     0\n",
      "6     307000            cara       0      0     1\n",
      "7     200000           media       0      1     0\n",
      "8     129900          barata       1      0     0\n",
      "9     118000          barata       1      0     0\n",
      "\n",
      "precio_vivienda\n",
      "media     728\n",
      "cara      367\n",
      "barata    365\n",
      "Name: count, dtype: int64\n"
     ]
    }
   ],
   "source": [
    "import pandas as pd\n",
    "\n",
    "df = pd.read_csv(\"train.csv\")\n",
    "\n",
    "# Calcular los cuartiles\n",
    "q1 = df['SalePrice'].quantile(0.25)\n",
    "q3 = df['SalePrice'].quantile(0.75)\n",
    "\n",
    "# Función para clasificar el precio\n",
    "def categorizar_precio(precio):\n",
    "    if precio < q1:           \n",
    "        return 'barata'\n",
    "    elif precio < q3:          \n",
    "        return 'media'\n",
    "    else:\n",
    "        return 'cara'\n",
    "\n",
    "# Crear columna categórica\n",
    "df['precio_vivienda'] = df['SalePrice'].apply(categorizar_precio)\n",
    "\n",
    "# Crear variables dicotómicas (0 o 1)\n",
    "df['barata'] = (df['precio_vivienda'] == 'barata').astype(int)\n",
    "df['media'] = (df['precio_vivienda'] == 'media').astype(int)\n",
    "df['cara'] = (df['precio_vivienda'] == 'cara').astype(int)\n",
    "\n",
    "print(df[['SalePrice', 'precio_vivienda', 'barata', 'media', 'cara']].head(10))\n",
    "print(\"\")\n",
    "print(df['precio_vivienda'].value_counts())"
   ]
  },
  {
   "cell_type": "markdown",
   "id": "74bc5c0f-f51d-48ee-9f45-aaac781377ec",
   "metadata": {},
   "source": [
    "## 2. Use los mismos conjuntos de entrenamiento y prueba que utilizó en las hojas anteriores"
   ]
  },
  {
   "cell_type": "code",
   "execution_count": 17,
   "id": "753c13f9-26c9-4c6d-84d9-19efdc5cd358",
   "metadata": {},
   "outputs": [
    {
     "name": "stdout",
     "output_type": "stream",
     "text": [
      "X_train: (1168, 36)\n",
      "X_test: (292, 36)\n",
      "y_train distribución:\n",
      "cara\n",
      "0    871\n",
      "1    297\n",
      "Name: count, dtype: int64\n",
      "y_test distribución:\n",
      "cara\n",
      "0    222\n",
      "1     70\n",
      "Name: count, dtype: int64\n"
     ]
    }
   ],
   "source": [
    "from sklearn.model_selection import train_test_split\n",
    "\n",
    "X = df.select_dtypes(include='number').drop(columns=['Id', 'SalePrice', 'barata', 'media', 'cara'])\n",
    "\n",
    "# Variable objetivo: 1 si es \"cara\", 0 si no\n",
    "y = df['cara']\n",
    "\n",
    "# Dividir (80/20)\n",
    "X_train, X_test, y_train, y_test = train_test_split(\n",
    "    X, y, test_size=0.2, random_state=42\n",
    ")\n",
    "\n",
    "imputer = SimpleImputer(strategy='mean')\n",
    "\n",
    "X_train = imputer.fit_transform(X_train)\n",
    "X_test = imputer.transform(X_test)\n",
    "\n",
    "print(f\"X_train: {X_train.shape}\")\n",
    "print(f\"X_test: {X_test.shape}\")\n",
    "print(f\"y_train distribución:\\n{y_train.value_counts()}\")\n",
    "print(f\"y_test distribución:\\n{y_test.value_counts()}\")"
   ]
  },
  {
   "cell_type": "markdown",
   "id": "67649f7b-e8d6-4d64-801b-930d299e7e7d",
   "metadata": {},
   "source": [
    "## 3. Elabore un modelo de regresión logística para conocer si una vivienda es cara o no, utilizando el conjunto de entrenamiento y explique los resultados a los que llega. El experimento debe ser reproducible por lo que debe fijar que los conjuntos de entrenamiento y prueba sean los mismos siempre que se ejecute el código. Use validación cruzada."
   ]
  },
  {
   "cell_type": "code",
   "execution_count": 19,
   "id": "b260ea7f-173f-4ad4-8b9b-6ecc75ac9583",
   "metadata": {},
   "outputs": [
    {
     "name": "stdout",
     "output_type": "stream",
     "text": [
      "Accuracy por fold: [0.92307692 0.91880342 0.94017094 0.93133047 0.95708155]\n",
      "Promedio de accuracy: 0.9340926598437328\n"
     ]
    }
   ],
   "source": [
    "from sklearn.linear_model import LogisticRegression\n",
    "from sklearn.model_selection import cross_val_score\n",
    "from sklearn.impute import SimpleImputer\n",
    "\n",
    "model = LogisticRegression(max_iter=5000)\n",
    "\n",
    "# 3. Validación cruzada con 5 folds\n",
    "scores = cross_val_score(model, X_train, y_train, cv=5, scoring='accuracy')\n",
    "\n",
    "print(\"Accuracy por fold:\", scores)\n",
    "print(\"Promedio de accuracy:\", scores.mean())"
   ]
  },
  {
   "cell_type": "code",
   "execution_count": null,
   "id": "c94dd7ed-ad76-47e0-9910-5db887aa5a62",
   "metadata": {},
   "outputs": [],
   "source": []
  }
 ],
 "metadata": {
  "kernelspec": {
   "display_name": "Python 3 (ipykernel)",
   "language": "python",
   "name": "python3"
  },
  "language_info": {
   "codemirror_mode": {
    "name": "ipython",
    "version": 3
   },
   "file_extension": ".py",
   "mimetype": "text/x-python",
   "name": "python",
   "nbconvert_exporter": "python",
   "pygments_lexer": "ipython3",
   "version": "3.10.11"
  }
 },
 "nbformat": 4,
 "nbformat_minor": 5
}
